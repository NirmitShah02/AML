{
  "nbformat": 4,
  "nbformat_minor": 0,
  "metadata": {
    "kernelspec": {
      "display_name": "Python 3",
      "language": "python",
      "name": "python3"
    },
    "language_info": {
      "codemirror_mode": {
        "name": "ipython",
        "version": 3
      },
      "file_extension": ".py",
      "mimetype": "text/x-python",
      "name": "python",
      "nbconvert_exporter": "python",
      "pygments_lexer": "ipython3",
      "version": "3.8.5"
    },
    "colab": {
      "name": "Copy of VSK_Random Forest and ADABOOST.ipynb",
      "provenance": []
    }
  },
  "cells": [
    {
      "cell_type": "markdown",
      "metadata": {
        "id": "NsjNzHLYSe8d"
      },
      "source": [
        "### Implementation of Random Forest and ADABOOST Classifiers and compare various classification models by accuracy score\n"
      ]
    },
    {
      "cell_type": "code",
      "metadata": {
        "id": "aHYuPaEmSe84"
      },
      "source": [
        "# We are Creating a Random Forest Classification Model in Machine Learning\n",
        "# A Random Forest is a classifier model of a machine learning model\n",
        "# which is aggregated by many Decision Trees."
      ],
      "execution_count": null,
      "outputs": []
    },
    {
      "cell_type": "code",
      "metadata": {
        "id": "5YKUxZrwSe87",
        "outputId": "7f3f9818-5ae4-4847-b203-ffb154e2d16a"
      },
      "source": [
        "# We are importing pandas library to make dataframe\n",
        "import pandas as pd\n",
        "\n",
        "# we are also using a dataset which consisted by 3 features (Height, weight and gender)\n",
        "# we are using huge volume (10000) of data with these features\n",
        "ds = pd.read_csv('weight-height.csv')\n",
        "\n",
        "# print the dataset\n",
        "ds"
      ],
      "execution_count": null,
      "outputs": [
        {
          "output_type": "execute_result",
          "data": {
            "text/html": [
              "<div>\n",
              "<style scoped>\n",
              "    .dataframe tbody tr th:only-of-type {\n",
              "        vertical-align: middle;\n",
              "    }\n",
              "\n",
              "    .dataframe tbody tr th {\n",
              "        vertical-align: top;\n",
              "    }\n",
              "\n",
              "    .dataframe thead th {\n",
              "        text-align: right;\n",
              "    }\n",
              "</style>\n",
              "<table border=\"1\" class=\"dataframe\">\n",
              "  <thead>\n",
              "    <tr style=\"text-align: right;\">\n",
              "      <th></th>\n",
              "      <th>Gender</th>\n",
              "      <th>Height</th>\n",
              "      <th>Weight</th>\n",
              "    </tr>\n",
              "  </thead>\n",
              "  <tbody>\n",
              "    <tr>\n",
              "      <th>0</th>\n",
              "      <td>Male</td>\n",
              "      <td>73.847017</td>\n",
              "      <td>241.893563</td>\n",
              "    </tr>\n",
              "    <tr>\n",
              "      <th>1</th>\n",
              "      <td>Male</td>\n",
              "      <td>68.781904</td>\n",
              "      <td>162.310473</td>\n",
              "    </tr>\n",
              "    <tr>\n",
              "      <th>2</th>\n",
              "      <td>Male</td>\n",
              "      <td>74.110105</td>\n",
              "      <td>212.740856</td>\n",
              "    </tr>\n",
              "    <tr>\n",
              "      <th>3</th>\n",
              "      <td>Male</td>\n",
              "      <td>71.730978</td>\n",
              "      <td>220.042470</td>\n",
              "    </tr>\n",
              "    <tr>\n",
              "      <th>4</th>\n",
              "      <td>Male</td>\n",
              "      <td>69.881796</td>\n",
              "      <td>206.349801</td>\n",
              "    </tr>\n",
              "    <tr>\n",
              "      <th>...</th>\n",
              "      <td>...</td>\n",
              "      <td>...</td>\n",
              "      <td>...</td>\n",
              "    </tr>\n",
              "    <tr>\n",
              "      <th>9995</th>\n",
              "      <td>Female</td>\n",
              "      <td>66.172652</td>\n",
              "      <td>136.777454</td>\n",
              "    </tr>\n",
              "    <tr>\n",
              "      <th>9996</th>\n",
              "      <td>Female</td>\n",
              "      <td>67.067155</td>\n",
              "      <td>170.867906</td>\n",
              "    </tr>\n",
              "    <tr>\n",
              "      <th>9997</th>\n",
              "      <td>Female</td>\n",
              "      <td>63.867992</td>\n",
              "      <td>128.475319</td>\n",
              "    </tr>\n",
              "    <tr>\n",
              "      <th>9998</th>\n",
              "      <td>Female</td>\n",
              "      <td>69.034243</td>\n",
              "      <td>163.852461</td>\n",
              "    </tr>\n",
              "    <tr>\n",
              "      <th>9999</th>\n",
              "      <td>Female</td>\n",
              "      <td>61.944246</td>\n",
              "      <td>113.649103</td>\n",
              "    </tr>\n",
              "  </tbody>\n",
              "</table>\n",
              "<p>10000 rows × 3 columns</p>\n",
              "</div>"
            ],
            "text/plain": [
              "      Gender     Height      Weight\n",
              "0       Male  73.847017  241.893563\n",
              "1       Male  68.781904  162.310473\n",
              "2       Male  74.110105  212.740856\n",
              "3       Male  71.730978  220.042470\n",
              "4       Male  69.881796  206.349801\n",
              "...      ...        ...         ...\n",
              "9995  Female  66.172652  136.777454\n",
              "9996  Female  67.067155  170.867906\n",
              "9997  Female  63.867992  128.475319\n",
              "9998  Female  69.034243  163.852461\n",
              "9999  Female  61.944246  113.649103\n",
              "\n",
              "[10000 rows x 3 columns]"
            ]
          },
          "metadata": {
            "tags": []
          },
          "execution_count": 2
        }
      ]
    },
    {
      "cell_type": "code",
      "metadata": {
        "id": "6THgNA94Se8-",
        "outputId": "97810d19-2854-4458-e4e4-45340fdea40d"
      },
      "source": [
        "# To know number of columns with their names\n",
        "ds.columns"
      ],
      "execution_count": null,
      "outputs": [
        {
          "output_type": "execute_result",
          "data": {
            "text/plain": [
              "Index(['Gender', 'Height', 'Weight'], dtype='object')"
            ]
          },
          "metadata": {
            "tags": []
          },
          "execution_count": 3
        }
      ]
    },
    {
      "cell_type": "code",
      "metadata": {
        "id": "R5tCSoJPSe8_"
      },
      "source": [
        "# we are Choosing dependent and independent variables from the dataset\n",
        "#split dataset in features (Independent) and target (Dependent) variable\n",
        "\n",
        "ind_var = ['Height', 'Weight'] # It defines the independent variable\n",
        "X = ds[ind_var] # Features or independent variables\n",
        "y = ds.Gender # Target variable or dependent variable or response variable"
      ],
      "execution_count": null,
      "outputs": []
    },
    {
      "cell_type": "code",
      "metadata": {
        "id": "kyID8jfxSe9B",
        "outputId": "d7062304-b15c-46a9-8c12-8152f986c2f5"
      },
      "source": [
        "# printing the vaues of independent variable\n",
        "X"
      ],
      "execution_count": null,
      "outputs": [
        {
          "output_type": "execute_result",
          "data": {
            "text/html": [
              "<div>\n",
              "<style scoped>\n",
              "    .dataframe tbody tr th:only-of-type {\n",
              "        vertical-align: middle;\n",
              "    }\n",
              "\n",
              "    .dataframe tbody tr th {\n",
              "        vertical-align: top;\n",
              "    }\n",
              "\n",
              "    .dataframe thead th {\n",
              "        text-align: right;\n",
              "    }\n",
              "</style>\n",
              "<table border=\"1\" class=\"dataframe\">\n",
              "  <thead>\n",
              "    <tr style=\"text-align: right;\">\n",
              "      <th></th>\n",
              "      <th>Height</th>\n",
              "      <th>Weight</th>\n",
              "    </tr>\n",
              "  </thead>\n",
              "  <tbody>\n",
              "    <tr>\n",
              "      <th>0</th>\n",
              "      <td>73.847017</td>\n",
              "      <td>241.893563</td>\n",
              "    </tr>\n",
              "    <tr>\n",
              "      <th>1</th>\n",
              "      <td>68.781904</td>\n",
              "      <td>162.310473</td>\n",
              "    </tr>\n",
              "    <tr>\n",
              "      <th>2</th>\n",
              "      <td>74.110105</td>\n",
              "      <td>212.740856</td>\n",
              "    </tr>\n",
              "    <tr>\n",
              "      <th>3</th>\n",
              "      <td>71.730978</td>\n",
              "      <td>220.042470</td>\n",
              "    </tr>\n",
              "    <tr>\n",
              "      <th>4</th>\n",
              "      <td>69.881796</td>\n",
              "      <td>206.349801</td>\n",
              "    </tr>\n",
              "    <tr>\n",
              "      <th>...</th>\n",
              "      <td>...</td>\n",
              "      <td>...</td>\n",
              "    </tr>\n",
              "    <tr>\n",
              "      <th>9995</th>\n",
              "      <td>66.172652</td>\n",
              "      <td>136.777454</td>\n",
              "    </tr>\n",
              "    <tr>\n",
              "      <th>9996</th>\n",
              "      <td>67.067155</td>\n",
              "      <td>170.867906</td>\n",
              "    </tr>\n",
              "    <tr>\n",
              "      <th>9997</th>\n",
              "      <td>63.867992</td>\n",
              "      <td>128.475319</td>\n",
              "    </tr>\n",
              "    <tr>\n",
              "      <th>9998</th>\n",
              "      <td>69.034243</td>\n",
              "      <td>163.852461</td>\n",
              "    </tr>\n",
              "    <tr>\n",
              "      <th>9999</th>\n",
              "      <td>61.944246</td>\n",
              "      <td>113.649103</td>\n",
              "    </tr>\n",
              "  </tbody>\n",
              "</table>\n",
              "<p>10000 rows × 2 columns</p>\n",
              "</div>"
            ],
            "text/plain": [
              "         Height      Weight\n",
              "0     73.847017  241.893563\n",
              "1     68.781904  162.310473\n",
              "2     74.110105  212.740856\n",
              "3     71.730978  220.042470\n",
              "4     69.881796  206.349801\n",
              "...         ...         ...\n",
              "9995  66.172652  136.777454\n",
              "9996  67.067155  170.867906\n",
              "9997  63.867992  128.475319\n",
              "9998  69.034243  163.852461\n",
              "9999  61.944246  113.649103\n",
              "\n",
              "[10000 rows x 2 columns]"
            ]
          },
          "metadata": {
            "tags": []
          },
          "execution_count": 5
        }
      ]
    },
    {
      "cell_type": "code",
      "metadata": {
        "id": "c4CFoYakSe9D",
        "outputId": "faf2764c-cbea-4267-8f0a-24bafe101e3c"
      },
      "source": [
        "# printing the values of dependent variable\n",
        "y"
      ],
      "execution_count": null,
      "outputs": [
        {
          "output_type": "execute_result",
          "data": {
            "text/plain": [
              "0         Male\n",
              "1         Male\n",
              "2         Male\n",
              "3         Male\n",
              "4         Male\n",
              "         ...  \n",
              "9995    Female\n",
              "9996    Female\n",
              "9997    Female\n",
              "9998    Female\n",
              "9999    Female\n",
              "Name: Gender, Length: 10000, dtype: object"
            ]
          },
          "metadata": {
            "tags": []
          },
          "execution_count": 6
        }
      ]
    },
    {
      "cell_type": "code",
      "metadata": {
        "id": "egS70KW-Se9E",
        "outputId": "1736539a-7f52-40e4-cce6-35c5c74a172d"
      },
      "source": [
        "# To know that we have NaN values or not\n",
        "ds1 = ds.dropna() # This method will drop NaN values\n",
        "ds1.shape # Display the size of the dataset without NaN values"
      ],
      "execution_count": null,
      "outputs": [
        {
          "output_type": "execute_result",
          "data": {
            "text/plain": [
              "(10000, 3)"
            ]
          },
          "metadata": {
            "tags": []
          },
          "execution_count": 7
        }
      ]
    },
    {
      "cell_type": "code",
      "metadata": {
        "id": "FuFzDt7zSe9H"
      },
      "source": [
        "# We have prepared our dataset without any NaN Value \n",
        "# Or we have complete dataset\n",
        "\n",
        "# Next step, we need to classify the data into training and testing dataset\n",
        "#to split the dataset into train and test\n",
        "from sklearn.model_selection import train_test_split\n",
        "\n",
        "#split the dataset in train and test\n",
        "X_train,X_test,y_train,y_test=train_test_split(X,y,test_size=0.50)"
      ],
      "execution_count": null,
      "outputs": []
    },
    {
      "cell_type": "code",
      "metadata": {
        "id": "D3zBB_qzSe9I",
        "outputId": "6b8838de-decb-47e8-8912-95ec7ba2814c"
      },
      "source": [
        "# If we need to know the size of training and testing dataset, we can use shape variable. \n",
        "print (X_train.shape)\n",
        "print (X_test.shape)"
      ],
      "execution_count": null,
      "outputs": [
        {
          "output_type": "stream",
          "text": [
            "(5000, 2)\n",
            "(5000, 2)\n"
          ],
          "name": "stdout"
        }
      ]
    },
    {
      "cell_type": "code",
      "metadata": {
        "id": "MSSIkfedSe9K",
        "outputId": "f97d860e-61be-45aa-ee61-d324dbd16f45"
      },
      "source": [
        "# So far we have prepared dataset and split dataset into training and testing dataset\n",
        "\n",
        "# We have prepared our dataset and this is the time when we can build the model\n",
        "# For this first we are creating Random Forest Classifier\n",
        "\n",
        "from sklearn.ensemble import RandomForestClassifier\n",
        "\n",
        "#Now we are creating object of the classifier with its some parameters\n",
        "# As we know and we have also seen that a decision tree can be solved by the entropy method \n",
        "# to calculate impurity and then to get information gain.\n",
        "\n",
        "# A forest is collection of many decision trees\n",
        "vsk_rf = RandomForestClassifier (n_estimators = 120, criterion = 'entropy', max_depth = 10)\n",
        "\n",
        "# n_estimators = total number of decision trees\n",
        "# criterion = entropy or gini,by which to get impurity and can be calculated by decision trees\n",
        "# max_depth = level of the tree or nodes are expanded until all leaves are pure.\n",
        "\n",
        "# now we need to fit the model for its building purpose towards the training dataset\n",
        "vsk_rf.fit (X_train, y_train)"
      ],
      "execution_count": null,
      "outputs": [
        {
          "output_type": "execute_result",
          "data": {
            "text/plain": [
              "RandomForestClassifier(criterion='entropy', max_depth=10, n_estimators=120)"
            ]
          },
          "metadata": {
            "tags": []
          },
          "execution_count": 11
        }
      ]
    },
    {
      "cell_type": "code",
      "metadata": {
        "id": "FkJ_5Kl_Se9M"
      },
      "source": [
        "# we need to predict the model using testing dataset\n",
        "\n",
        "#prediction on test dataset\n",
        "y_pred_rf = vsk_rf.predict(X_test)"
      ],
      "execution_count": null,
      "outputs": []
    },
    {
      "cell_type": "code",
      "metadata": {
        "id": "7Y8QhOlSSe9N",
        "outputId": "ebea01ed-5d13-468a-9ec6-8189b7a47eca"
      },
      "source": [
        "# Here we can display prediction values by Random Forest Classifier \n",
        "# and also know the size of the prediction based on testing dataset\n",
        "print (y_pred_rf)\n",
        "print(y_pred_rf.shape) # Size should be equal to testing data"
      ],
      "execution_count": null,
      "outputs": [
        {
          "output_type": "stream",
          "text": [
            "['Male' 'Male' 'Female' ... 'Female' 'Female' 'Female']\n",
            "(5000,)\n"
          ],
          "name": "stdout"
        }
      ]
    },
    {
      "cell_type": "code",
      "metadata": {
        "id": "fyTVSCz2Se9S",
        "outputId": "a17a69cc-1200-4105-fe88-4cb58ced3ef8"
      },
      "source": [
        "# So far we have completed the following steps:\n",
        "# 1. Prepared the dataset\n",
        "# 2. Build the model (RandomForestClassifier)\n",
        "# 3. Predicted the model by testing dataset\n",
        "\n",
        "# Now its time to measure the model\n",
        "\n",
        "#To create the confusion matrix and get accuracy score with classification report\n",
        "from sklearn.metrics import confusion_matrix, accuracy_score, classification_report\n",
        "\n",
        "# we are comparing actual values and prediction values from testing dataset\n",
        "# y_test is a testing variable of the dataset \n",
        "# while y_pred_rf is the predicted variable of the RandomForestClassifier\n",
        "# Here we are evaluating our model\n",
        "\n",
        "print(confusion_matrix(y_test, y_pred_rf))\n",
        "\n",
        "print (accuracy_score(y_test, y_pred_rf)*100)\n",
        "\n",
        "print (classification_report(y_test, y_pred_rf))"
      ],
      "execution_count": null,
      "outputs": [
        {
          "output_type": "stream",
          "text": [
            "[[2350  184]\n",
            " [ 226 2240]]\n",
            "91.8\n",
            "              precision    recall  f1-score   support\n",
            "\n",
            "      Female       0.91      0.93      0.92      2534\n",
            "        Male       0.92      0.91      0.92      2466\n",
            "\n",
            "    accuracy                           0.92      5000\n",
            "   macro avg       0.92      0.92      0.92      5000\n",
            "weighted avg       0.92      0.92      0.92      5000\n",
            "\n"
          ],
          "name": "stdout"
        }
      ]
    },
    {
      "cell_type": "code",
      "metadata": {
        "id": "heunn_WvSe9U"
      },
      "source": [
        "# We are using training dataset to build the model\n",
        "\n",
        "# Is there a good way to prove we have used a good model?\n",
        "# or based on used features, is your model is better?\n",
        "\n",
        "# Suppose you have 25 features and you have selected 20 fetures\n",
        "# based on 20 features you are trying to build the model\n",
        "# Is it possible that you have built the better?\n",
        "\n",
        "# When you are choosing many features, then there is a chance we can have overfitting.\n",
        "\n",
        "# Overfitting: Our model is over fitted towards the training dataset just like \n",
        "# more than 3 to 4 tea-spoons of sugar in your one cup of tea.\n",
        "# So by this, the tea taste will be changed (it could be bitter rather than sweet)\n",
        "\n",
        "# Finally we can say our model should not be overfit (selecting many features)\n",
        "# and underfit (selecting limited or minimum features).\n",
        "\n",
        "# This is the problem we can face when we have many independent variables (features)\n",
        "\n",
        "#  BUT HERE WE ARE NOT NEED TO WORRY BECAUSE WE HAVE ONLY TWO INDEPENDENT FEATURES\n",
        "# --------------------------------------------------------------------------------\n",
        "\n",
        "# Let use see important features by the graph\n",
        "\n",
        "# we can select important features to build the random forest algorithm model \n",
        "# in order to avoid the overfitting issue.\n",
        "\n",
        "# For this we need to read the information from instance or object of the RandomForestClassifier\n",
        "fea_imp = pd.Series (vsk_rf.feature_importances_, index=X.columns)\n",
        "\n",
        "# feature_importances_ is public variable of RandomForestClassifier and \n",
        "# can be accessible by its object.\n",
        "\n",
        "# X.columns = height and weight"
      ],
      "execution_count": null,
      "outputs": []
    },
    {
      "cell_type": "code",
      "metadata": {
        "id": "u6ATTS-RSe9Y",
        "outputId": "b6023ff8-043c-49f7-c541-c83bb9f419b3"
      },
      "source": [
        "# To display feature important values (between 0 and 1) of each feature\n",
        "fea_imp\n",
        "\n",
        "# It describes here weight is an important feature rather than height feature\n",
        "# By selecting important features we are try to fit the model and removing overfitting or underfitting\n",
        "# But here we are not need to worry."
      ],
      "execution_count": null,
      "outputs": [
        {
          "output_type": "execute_result",
          "data": {
            "text/plain": [
              "Height    0.36598\n",
              "Weight    0.63402\n",
              "dtype: float64"
            ]
          },
          "metadata": {
            "tags": []
          },
          "execution_count": 16
        }
      ]
    },
    {
      "cell_type": "code",
      "metadata": {
        "id": "88_8bvsoSe9a",
        "outputId": "271feb69-1327-45f3-ea78-92fd174d7048"
      },
      "source": [
        "import matplotlib.pyplot as plt\n",
        "import seaborn as sns\n",
        "%matplotlib inline\n",
        "\n",
        "sns.barplot (x=fea_imp, y=fea_imp.index)\n",
        "plt.xlabel ('Feature Importance Score')\n",
        "plt.ylabel ('Feature')\n",
        "plt.title ('Visualizing Important Features')\n"
      ],
      "execution_count": null,
      "outputs": [
        {
          "output_type": "execute_result",
          "data": {
            "text/plain": [
              "Text(0.5, 1.0, 'Visualizing Important Features')"
            ]
          },
          "metadata": {
            "tags": []
          },
          "execution_count": 17
        },
        {
          "output_type": "display_data",
          "data": {
            "image/png": "[encoded data removed]",
            "text/plain": [
              "<Figure size 432x288 with 1 Axes>"
            ]
          },
          "metadata": {
            "tags": [],
            "needs_background": "light"
          }
        }
      ]
    },
    {
      "cell_type": "code",
      "metadata": {
        "id": "Qf0LSDKPSe9c",
        "outputId": "f5100c7b-f1e8-4360-9644-3a46f2eb4a07"
      },
      "source": [
        "# ADABOOST = Adaptive BOOSTING \n",
        "# BOOSTING = Bootstrap Aggregating\n",
        "\n",
        "# Now its time to build the model bu using ADABOOST Classfier\n",
        "from sklearn.ensemble import AdaBoostClassifier\n",
        "\n",
        "#Now we are creating object of the classifier with its some parameters\n",
        "vsk_ab = AdaBoostClassifier(n_estimators = 120, base_estimator= None, learning_rate=1, random_state = 1)\n",
        "\n",
        "# n_estimators = subsets of the dataset or The maximum number of estimators at which boosting is terminated. \n",
        "                    # In case of perfect fit, the learning procedure is stopped early.\n",
        "\n",
        "# base_estimator = DecisionTreeClassifier, ExtraTreeClassifier\n",
        "\n",
        "# Learning rate shrinks the contribution of each classifier by learning_rate. \n",
        "# There is a trade-off between learning_rate and n_estimators.\n",
        "\n",
        "# Controls the random seed / node given at each base_estimator at each boosting iteration. \n",
        "# Thus, it is only used when base_estimator exposes a random_state.\n",
        "\n",
        "# We need to fit the ADABOOST model towards the same Training dataset\n",
        "# As we have used into Random Forest Classifier.\n",
        "vsk_ab.fit(X_train,y_train)"
      ],
      "execution_count": null,
      "outputs": [
        {
          "output_type": "execute_result",
          "data": {
            "text/plain": [
              "AdaBoostClassifier(learning_rate=1, n_estimators=120, random_state=1)"
            ]
          },
          "metadata": {
            "tags": []
          },
          "execution_count": 18
        }
      ]
    },
    {
      "cell_type": "code",
      "metadata": {
        "id": "WTVJF_a-Se9e"
      },
      "source": [
        "# predict the model\n",
        "y_pred_ab = vsk_ab.predict(X_test)"
      ],
      "execution_count": null,
      "outputs": []
    },
    {
      "cell_type": "code",
      "metadata": {
        "id": "GdYnVaHhSe9f",
        "outputId": "6f7c6918-3c77-4326-f52e-cfbc9532cdb8"
      },
      "source": [
        "# So far we have completed the following steps:\n",
        "# 1. Prepared the dataset\n",
        "# 2. Build the model (ADABOOST)\n",
        "# 3. Predicted the model by testing dataset\n",
        "\n",
        "# Now its time to measure the model\n",
        "\n",
        "from sklearn.metrics import confusion_matrix, accuracy_score, classification_report\n",
        "\n",
        "# we are comparing actual values and prediction values from testing dataset\n",
        "print(confusion_matrix(y_test, y_pred_ab))\n",
        "\n",
        "print (accuracy_score(y_test, y_pred_ab)*100)\n",
        "\n",
        "print (classification_report(y_test, y_pred_ab))"
      ],
      "execution_count": null,
      "outputs": [
        {
          "output_type": "stream",
          "text": [
            "[[2349  185]\n",
            " [ 215 2251]]\n",
            "92.0\n",
            "              precision    recall  f1-score   support\n",
            "\n",
            "      Female       0.92      0.93      0.92      2534\n",
            "        Male       0.92      0.91      0.92      2466\n",
            "\n",
            "    accuracy                           0.92      5000\n",
            "   macro avg       0.92      0.92      0.92      5000\n",
            "weighted avg       0.92      0.92      0.92      5000\n",
            "\n"
          ],
          "name": "stdout"
        }
      ]
    },
    {
      "cell_type": "code",
      "metadata": {
        "id": "UHl79-5MSe9g"
      },
      "source": [
        "# Here we are imporing classifiers libraries\n",
        "from sklearn.tree import DecisionTreeClassifier # Decision Tree classifier\n",
        "from sklearn.linear_model import LogisticRegression # Logistic Regression\n",
        "from sklearn.svm import SVC # Support Vector Classifier\n",
        "from sklearn.neighbors import KNeighborsClassifier # KNN Classifier\n",
        "\n",
        "#Defining the machine learning models\n",
        "model1 = LogisticRegression()\n",
        "model2 = DecisionTreeClassifier(max_depth = 10)\n",
        "model3 = SVC()\n",
        "model4 = KNeighborsClassifier(n_neighbors = 5, metric = 'euclidean')"
      ],
      "execution_count": null,
      "outputs": []
    },
    {
      "cell_type": "code",
      "metadata": {
        "id": "tsr3R2-JSe9h",
        "outputId": "912fc934-fc78-4f2a-8079-33c3e5a4add4"
      },
      "source": [
        "# We need to fit the models towards the training dataset\n",
        "#Training the machine learning models\n",
        "model1.fit(X_train, y_train) # LR"
      ],
      "execution_count": null,
      "outputs": [
        {
          "output_type": "execute_result",
          "data": {
            "text/plain": [
              "LogisticRegression()"
            ]
          },
          "metadata": {
            "tags": []
          },
          "execution_count": 22
        }
      ]
    },
    {
      "cell_type": "code",
      "metadata": {
        "id": "QW59m25rSe9i",
        "outputId": "bafe627f-14d2-4b4e-ae46-e487aca3ded1"
      },
      "source": [
        "model2.fit(X_train, y_train) # DTC"
      ],
      "execution_count": null,
      "outputs": [
        {
          "output_type": "execute_result",
          "data": {
            "text/plain": [
              "DecisionTreeClassifier(max_depth=10)"
            ]
          },
          "metadata": {
            "tags": []
          },
          "execution_count": 23
        }
      ]
    },
    {
      "cell_type": "code",
      "metadata": {
        "id": "CenNCPj4Se9k",
        "outputId": "e385eb7a-22ad-4c49-e467-d60fa2fcbdb5"
      },
      "source": [
        "model3.fit(X_train, y_train) # SVC\n"
      ],
      "execution_count": null,
      "outputs": [
        {
          "output_type": "execute_result",
          "data": {
            "text/plain": [
              "SVC()"
            ]
          },
          "metadata": {
            "tags": []
          },
          "execution_count": 24
        }
      ]
    },
    {
      "cell_type": "code",
      "metadata": {
        "id": "cvRuOveNSe9l",
        "outputId": "9d472b23-a6e1-4930-80a3-62b1b54ca381"
      },
      "source": [
        "model4.fit(X_train, y_train) # KNN"
      ],
      "execution_count": null,
      "outputs": [
        {
          "output_type": "execute_result",
          "data": {
            "text/plain": [
              "KNeighborsClassifier(metric='euclidean')"
            ]
          },
          "metadata": {
            "tags": []
          },
          "execution_count": 25
        }
      ]
    },
    {
      "cell_type": "code",
      "metadata": {
        "id": "RDqiYLZaSe9n"
      },
      "source": [
        "# We are predicting by using testing dataset\n",
        "#Making the prediction\n",
        "y_pred1 = model1.predict(X_test) # LR\n",
        "y_pred2 = model2.predict(X_test) # DTC\n",
        "y_pred3 = model3.predict(X_test) # SVC\n",
        "y_pred4 = model4.predict(X_test) # KNN"
      ],
      "execution_count": null,
      "outputs": []
    },
    {
      "cell_type": "code",
      "metadata": {
        "id": "orfSf6UiSe9o",
        "outputId": "2cfecbfc-cbd5-4f46-e9dc-ed66fb922db7"
      },
      "source": [
        "print (\"Actual values of the testing data: \", y_test)\n",
        "print (\"Prediction by LR:\", y_pred1)\n",
        "print (\"Prediction by DT:\", y_pred2)\n",
        "print (\"Prediction by SVC:\", y_pred3)\n",
        "print (\"Prediction by KNN:\", y_pred4)\n",
        "\n",
        "print (\"Prediction by Random Forest\", y_pred_rf)\n",
        "print (\"Prediction by ADABOOST:\", y_pred_ab)"
      ],
      "execution_count": null,
      "outputs": [
        {
          "output_type": "stream",
          "text": [
            "Actual values of the testing data:  8211    Female\n",
            "3520      Male\n",
            "7458    Female\n",
            "2899      Male\n",
            "1951      Male\n",
            "         ...  \n",
            "9604    Female\n",
            "6051    Female\n",
            "5033    Female\n",
            "7437    Female\n",
            "9460    Female\n",
            "Name: Gender, Length: 5000, dtype: object\n",
            "Prediction by LR: ['Male' 'Male' 'Female' ... 'Female' 'Female' 'Female']\n",
            "Prediction by DT: ['Male' 'Male' 'Female' ... 'Female' 'Female' 'Female']\n",
            "Prediction by SVC: ['Male' 'Male' 'Female' ... 'Female' 'Female' 'Female']\n",
            "Prediction by KNN: ['Male' 'Male' 'Female' ... 'Female' 'Female' 'Female']\n",
            "Prediction by Random Forest ['Male' 'Male' 'Female' ... 'Female' 'Female' 'Female']\n",
            "Prediction by ADABOOST: ['Male' 'Male' 'Female' ... 'Female' 'Female' 'Female']\n"
          ],
          "name": "stdout"
        }
      ]
    },
    {
      "cell_type": "code",
      "metadata": {
        "id": "BUsdJOLlSe9p",
        "outputId": "b2792613-817d-46f5-aa9f-4e9ed9b5aace"
      },
      "source": [
        "# When we need to calculate the accuracy of the model under classification \n",
        "# always use testing dataset to get the result\n",
        "\n",
        "# we are measuring the performance of the model by accuracy score\n",
        "from sklearn.metrics import accuracy_score\n",
        "\n",
        "#accuracy scores\n",
        "log_acc = accuracy_score(y_pred1, y_test) #(prediction value , actual value)\n",
        "dt_acc = accuracy_score(y_pred2, y_test)\n",
        "svm_acc = accuracy_score(y_pred3, y_test)\n",
        "knn_acc = accuracy_score(y_pred4, y_test)\n",
        "\n",
        "rf_acc = accuracy_score(y_test, y_pred_rf)\n",
        "ab_acc = accuracy_score(y_test, y_pred_ab)\n",
        "\n",
        "print (\"Accuracy of Logistic Regression Model in %:\",log_acc*100)\n",
        "print (\"Accuracy of Decision Tree Model in %:\",dt_acc*100)\n",
        "print(\"Accuracy of Support Vector Machine Model in %:\",svm_acc*100)\n",
        "print(\"Accuracy of KNN Model in %:\",knn_acc*100)\n",
        "\n",
        "print (\"Accuracy of Random Forest Model in %:\", rf_acc*100)\n",
        "print (\"Accuracy of ADABOOST Model in %:\", ab_acc*100)\n"
      ],
      "execution_count": null,
      "outputs": [
        {
          "output_type": "stream",
          "text": [
            "Accuracy of Logistic Regression Model in %: 92.14\n",
            "Accuracy of Decision Tree Model in %: 89.3\n",
            "Accuracy of Support Vector Machine Model in %: 91.46\n",
            "Accuracy of KNN Model in %: 91.12\n",
            "Accuracy of Random Forest Model in %: 91.8\n",
            "Accuracy of ADABOOST Model in %: 92.0\n"
          ],
          "name": "stdout"
        }
      ]
    },
    {
      "cell_type": "code",
      "metadata": {
        "id": "BzW6NlVrSe9r"
      },
      "source": [
        ""
      ],
      "execution_count": null,
      "outputs": []
    }
  ]
}
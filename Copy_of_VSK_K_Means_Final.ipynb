{
  "nbformat": 4,
  "nbformat_minor": 0,
  "metadata": {
    "kernelspec": {
      "display_name": "Python 3",
      "language": "python",
      "name": "python3"
    },
    "language_info": {
      "codemirror_mode": {
        "name": "ipython",
        "version": 3
      },
      "file_extension": ".py",
      "mimetype": "text/x-python",
      "name": "python",
      "nbconvert_exporter": "python",
      "pygments_lexer": "ipython3",
      "version": "3.8.5"
    },
    "colab": {
      "name": "Copy of VSK_K-Means_Final.ipynb",
      "provenance": []
    }
  },
  "cells": [
    {
      "cell_type": "markdown",
      "metadata": {
        "id": "GprMqcJXSVhb"
      },
      "source": [
        "### Implementation of K-means Clustering Algorithm in Machine Learning\n",
        "\n"
      ]
    },
    {
      "cell_type": "code",
      "metadata": {
        "id": "_doeCnlUSVhl"
      },
      "source": [
        "# Importing some libraries\n",
        "import numpy as np \n",
        "import pandas as pd "
      ],
      "execution_count": null,
      "outputs": []
    },
    {
      "cell_type": "code",
      "metadata": {
        "id": "2N2ugDoHSVhm",
        "outputId": "f592031b-b53d-4464-b3f5-5f0b1bb82a07"
      },
      "source": [
        "# Reading dataset\n",
        "df = pd.read_csv('k-means.csv')\n",
        "\n",
        "#print 5 top rows\n",
        "df.head()"
      ],
      "execution_count": null,
      "outputs": [
        {
          "output_type": "execute_result",
          "data": {
            "text/html": [
              "<div>\n",
              "<style scoped>\n",
              "    .dataframe tbody tr th:only-of-type {\n",
              "        vertical-align: middle;\n",
              "    }\n",
              "\n",
              "    .dataframe tbody tr th {\n",
              "        vertical-align: top;\n",
              "    }\n",
              "\n",
              "    .dataframe thead th {\n",
              "        text-align: right;\n",
              "    }\n",
              "</style>\n",
              "<table border=\"1\" class=\"dataframe\">\n",
              "  <thead>\n",
              "    <tr style=\"text-align: right;\">\n",
              "      <th></th>\n",
              "      <th>CustomerID</th>\n",
              "      <th>Gender</th>\n",
              "      <th>Age</th>\n",
              "      <th>Annual Income (k$)</th>\n",
              "      <th>Spending Score (1-100)</th>\n",
              "    </tr>\n",
              "  </thead>\n",
              "  <tbody>\n",
              "    <tr>\n",
              "      <th>0</th>\n",
              "      <td>1</td>\n",
              "      <td>Male</td>\n",
              "      <td>19</td>\n",
              "      <td>15</td>\n",
              "      <td>39</td>\n",
              "    </tr>\n",
              "    <tr>\n",
              "      <th>1</th>\n",
              "      <td>2</td>\n",
              "      <td>Male</td>\n",
              "      <td>21</td>\n",
              "      <td>15</td>\n",
              "      <td>81</td>\n",
              "    </tr>\n",
              "    <tr>\n",
              "      <th>2</th>\n",
              "      <td>3</td>\n",
              "      <td>Female</td>\n",
              "      <td>20</td>\n",
              "      <td>16</td>\n",
              "      <td>6</td>\n",
              "    </tr>\n",
              "    <tr>\n",
              "      <th>3</th>\n",
              "      <td>4</td>\n",
              "      <td>Female</td>\n",
              "      <td>23</td>\n",
              "      <td>16</td>\n",
              "      <td>77</td>\n",
              "    </tr>\n",
              "    <tr>\n",
              "      <th>4</th>\n",
              "      <td>5</td>\n",
              "      <td>Female</td>\n",
              "      <td>31</td>\n",
              "      <td>17</td>\n",
              "      <td>40</td>\n",
              "    </tr>\n",
              "  </tbody>\n",
              "</table>\n",
              "</div>"
            ],
            "text/plain": [
              "   CustomerID  Gender  Age  Annual Income (k$)  Spending Score (1-100)\n",
              "0           1    Male   19                  15                      39\n",
              "1           2    Male   21                  15                      81\n",
              "2           3  Female   20                  16                       6\n",
              "3           4  Female   23                  16                      77\n",
              "4           5  Female   31                  17                      40"
            ]
          },
          "metadata": {
            "tags": []
          },
          "execution_count": 2
        }
      ]
    },
    {
      "cell_type": "code",
      "metadata": {
        "id": "l08DUcZkSVho"
      },
      "source": [
        "### K-means clustering algorithm works on continous nature based data.\n",
        "### so we can easily implement such algorithm\n",
        "\n",
        "### It is an unsupervised learning model. It means that we don't know where data are lying\n",
        "### or output is unknown due to unlabel data."
      ],
      "execution_count": null,
      "outputs": []
    },
    {
      "cell_type": "code",
      "metadata": {
        "id": "aN_VXb_NSVhp",
        "outputId": "6c156228-6e4f-41ab-e02a-b7b63a648e49"
      },
      "source": [
        "# total size of the dataset\n",
        "df.shape"
      ],
      "execution_count": null,
      "outputs": [
        {
          "output_type": "execute_result",
          "data": {
            "text/plain": [
              "(200, 5)"
            ]
          },
          "metadata": {
            "tags": []
          },
          "execution_count": 5
        }
      ]
    },
    {
      "cell_type": "code",
      "metadata": {
        "id": "holFZN3iSVhq",
        "outputId": "6dadf1c3-7ab2-443f-e439-19747d1c13b7"
      },
      "source": [
        "# print or display total number of columns\n",
        "df.columns"
      ],
      "execution_count": null,
      "outputs": [
        {
          "output_type": "execute_result",
          "data": {
            "text/plain": [
              "Index(['CustomerID', 'Gender', 'Age', 'Annual Income (k$)',\n",
              "       'Spending Score (1-100)'],\n",
              "      dtype='object')"
            ]
          },
          "metadata": {
            "tags": []
          },
          "execution_count": 6
        }
      ]
    },
    {
      "cell_type": "code",
      "metadata": {
        "id": "8oE_cyiLSVhs",
        "outputId": "aa143031-5539-41ca-92e8-b2717d852126"
      },
      "source": [
        "# The info () method gives use the complete details of the dataframe\n",
        "# like total number of values holding by each column and row, null or non-null etc.\n",
        "df.info()"
      ],
      "execution_count": null,
      "outputs": [
        {
          "output_type": "stream",
          "text": [
            "<class 'pandas.core.frame.DataFrame'>\n",
            "RangeIndex: 200 entries, 0 to 199\n",
            "Data columns (total 5 columns):\n",
            " #   Column                  Non-Null Count  Dtype \n",
            "---  ------                  --------------  ----- \n",
            " 0   CustomerID              200 non-null    int64 \n",
            " 1   Gender                  200 non-null    object\n",
            " 2   Age                     200 non-null    int64 \n",
            " 3   Annual Income (k$)      200 non-null    int64 \n",
            " 4   Spending Score (1-100)  200 non-null    int64 \n",
            "dtypes: int64(4), object(1)\n",
            "memory usage: 7.9+ KB\n"
          ],
          "name": "stdout"
        }
      ]
    },
    {
      "cell_type": "code",
      "metadata": {
        "id": "-1O7IXTdSVht",
        "outputId": "7fc466af-5b36-4da4-8631-aa7a4ac378f8"
      },
      "source": [
        "# Describe () method describes the mathematical function value\n",
        "df.describe()\n",
        "# This method works only on numerical data (columns which are having only numerical values)"
      ],
      "execution_count": null,
      "outputs": [
        {
          "output_type": "execute_result",
          "data": {
            "text/html": [
              "<div>\n",
              "<style scoped>\n",
              "    .dataframe tbody tr th:only-of-type {\n",
              "        vertical-align: middle;\n",
              "    }\n",
              "\n",
              "    .dataframe tbody tr th {\n",
              "        vertical-align: top;\n",
              "    }\n",
              "\n",
              "    .dataframe thead th {\n",
              "        text-align: right;\n",
              "    }\n",
              "</style>\n",
              "<table border=\"1\" class=\"dataframe\">\n",
              "  <thead>\n",
              "    <tr style=\"text-align: right;\">\n",
              "      <th></th>\n",
              "      <th>CustomerID</th>\n",
              "      <th>Age</th>\n",
              "      <th>Annual Income (k$)</th>\n",
              "      <th>Spending Score (1-100)</th>\n",
              "    </tr>\n",
              "  </thead>\n",
              "  <tbody>\n",
              "    <tr>\n",
              "      <th>count</th>\n",
              "      <td>200.000000</td>\n",
              "      <td>200.000000</td>\n",
              "      <td>200.000000</td>\n",
              "      <td>200.000000</td>\n",
              "    </tr>\n",
              "    <tr>\n",
              "      <th>mean</th>\n",
              "      <td>100.500000</td>\n",
              "      <td>38.850000</td>\n",
              "      <td>60.560000</td>\n",
              "      <td>50.200000</td>\n",
              "    </tr>\n",
              "    <tr>\n",
              "      <th>std</th>\n",
              "      <td>57.879185</td>\n",
              "      <td>13.969007</td>\n",
              "      <td>26.264721</td>\n",
              "      <td>25.823522</td>\n",
              "    </tr>\n",
              "    <tr>\n",
              "      <th>min</th>\n",
              "      <td>1.000000</td>\n",
              "      <td>18.000000</td>\n",
              "      <td>15.000000</td>\n",
              "      <td>1.000000</td>\n",
              "    </tr>\n",
              "    <tr>\n",
              "      <th>25%</th>\n",
              "      <td>50.750000</td>\n",
              "      <td>28.750000</td>\n",
              "      <td>41.500000</td>\n",
              "      <td>34.750000</td>\n",
              "    </tr>\n",
              "    <tr>\n",
              "      <th>50%</th>\n",
              "      <td>100.500000</td>\n",
              "      <td>36.000000</td>\n",
              "      <td>61.500000</td>\n",
              "      <td>50.000000</td>\n",
              "    </tr>\n",
              "    <tr>\n",
              "      <th>75%</th>\n",
              "      <td>150.250000</td>\n",
              "      <td>49.000000</td>\n",
              "      <td>78.000000</td>\n",
              "      <td>73.000000</td>\n",
              "    </tr>\n",
              "    <tr>\n",
              "      <th>max</th>\n",
              "      <td>200.000000</td>\n",
              "      <td>70.000000</td>\n",
              "      <td>137.000000</td>\n",
              "      <td>99.000000</td>\n",
              "    </tr>\n",
              "  </tbody>\n",
              "</table>\n",
              "</div>"
            ],
            "text/plain": [
              "       CustomerID         Age  Annual Income (k$)  Spending Score (1-100)\n",
              "count  200.000000  200.000000          200.000000              200.000000\n",
              "mean   100.500000   38.850000           60.560000               50.200000\n",
              "std     57.879185   13.969007           26.264721               25.823522\n",
              "min      1.000000   18.000000           15.000000                1.000000\n",
              "25%     50.750000   28.750000           41.500000               34.750000\n",
              "50%    100.500000   36.000000           61.500000               50.000000\n",
              "75%    150.250000   49.000000           78.000000               73.000000\n",
              "max    200.000000   70.000000          137.000000               99.000000"
            ]
          },
          "metadata": {
            "tags": []
          },
          "execution_count": 9
        }
      ]
    },
    {
      "cell_type": "code",
      "metadata": {
        "id": "dYT4eH_6SVhv",
        "outputId": "23e8fa40-8f0c-4971-89ec-a98e5ceaebcc"
      },
      "source": [
        "# checking null values\n",
        "df.isnull().sum()"
      ],
      "execution_count": null,
      "outputs": [
        {
          "output_type": "execute_result",
          "data": {
            "text/plain": [
              "CustomerID                0\n",
              "Gender                    0\n",
              "Age                       0\n",
              "Annual Income (k$)        0\n",
              "Spending Score (1-100)    0\n",
              "dtype: int64"
            ]
          },
          "metadata": {
            "tags": []
          },
          "execution_count": 10
        }
      ]
    },
    {
      "cell_type": "code",
      "metadata": {
        "id": "lIJKinZ0SVhw",
        "outputId": "d66c85d4-a980-4f64-ede5-97986e0be32c"
      },
      "source": [
        "# So far we have prepared and understand about the dataset \n",
        "# We must be happy here to know we have complete dataset which does not belong to any null value.\n",
        "\n",
        "import matplotlib.pyplot as plt\n",
        "\n",
        "# 2D Clustering based on Age and Annual Income (k$)\n",
        "plt.figure(1 , figsize = (15 , 7))\n",
        "plt.title('Scatter Graph of Age v/s Annual Income (k$)', fontsize = 20)\n",
        "plt.xlabel('Age')\n",
        "plt.ylabel('Annual Income (k$)')\n",
        "plt.scatter( x = 'Age', y = 'Annual Income (k$)', data = df, s = 50)\n",
        "plt.show()"
      ],
      "execution_count": null,
      "outputs": [
        {
          "output_type": "display_data",
          "data": {
            "image/png": "[encoded data removed]",
            "text/plain": [
              "<Figure size 1080x504 with 1 Axes>"
            ]
          },
          "metadata": {
            "tags": [],
            "needs_background": "light"
          }
        }
      ]
    },
    {
      "cell_type": "code",
      "metadata": {
        "id": "yD-RC6b2SVhx"
      },
      "source": [
        "# Based on age, Annual Income (k$), the cluters will be generated.\n",
        "# Let us first determine the kth value (Total cluster size)"
      ],
      "execution_count": null,
      "outputs": []
    },
    {
      "cell_type": "code",
      "metadata": {
        "id": "XHSl91hXSVhy"
      },
      "source": [
        "# As we know we must have cluster size first before making clusters on the dataset.\n",
        "# Now its time to decide cluster size \n",
        "# we need to import 'kmeans' class from 'cluster' library from the 'sklearn' package\n",
        "\n",
        "from sklearn.cluster import KMeans\n",
        "\n",
        "# Deciding K value\n",
        "# It is necessary to decide k value before centroids as per the K-means algorithm\n",
        "# we have chosen age and Annual Income (k$) columns\n",
        "X1 = df[['Age' , 'Annual Income (k$)']].iloc[: , :].values\n",
        "#X1 would be our 2D array variable.\n"
      ],
      "execution_count": null,
      "outputs": []
    },
    {
      "cell_type": "code",
      "metadata": {
        "id": "k-IRz-tgSVh0",
        "outputId": "93e07541-7a53-4370-8209-38e8308af28f"
      },
      "source": [
        "print (X1) # age and Annual Income (k$)"
      ],
      "execution_count": null,
      "outputs": [
        {
          "output_type": "stream",
          "text": [
            "[[ 19  15]\n",
            " [ 21  15]\n",
            " [ 20  16]\n",
            " [ 23  16]\n",
            " [ 31  17]\n",
            " [ 22  17]\n",
            " [ 35  18]\n",
            " [ 23  18]\n",
            " [ 64  19]\n",
            " [ 30  19]\n",
            " [ 67  19]\n",
            " [ 35  19]\n",
            " [ 58  20]\n",
            " [ 24  20]\n",
            " [ 37  20]\n",
            " [ 22  20]\n",
            " [ 35  21]\n",
            " [ 20  21]\n",
            " [ 52  23]\n",
            " [ 35  23]\n",
            " [ 35  24]\n",
            " [ 25  24]\n",
            " [ 46  25]\n",
            " [ 31  25]\n",
            " [ 54  28]\n",
            " [ 29  28]\n",
            " [ 45  28]\n",
            " [ 35  28]\n",
            " [ 40  29]\n",
            " [ 23  29]\n",
            " [ 60  30]\n",
            " [ 21  30]\n",
            " [ 53  33]\n",
            " [ 18  33]\n",
            " [ 49  33]\n",
            " [ 21  33]\n",
            " [ 42  34]\n",
            " [ 30  34]\n",
            " [ 36  37]\n",
            " [ 20  37]\n",
            " [ 65  38]\n",
            " [ 24  38]\n",
            " [ 48  39]\n",
            " [ 31  39]\n",
            " [ 49  39]\n",
            " [ 24  39]\n",
            " [ 50  40]\n",
            " [ 27  40]\n",
            " [ 29  40]\n",
            " [ 31  40]\n",
            " [ 49  42]\n",
            " [ 33  42]\n",
            " [ 31  43]\n",
            " [ 59  43]\n",
            " [ 50  43]\n",
            " [ 47  43]\n",
            " [ 51  44]\n",
            " [ 69  44]\n",
            " [ 27  46]\n",
            " [ 53  46]\n",
            " [ 70  46]\n",
            " [ 19  46]\n",
            " [ 67  47]\n",
            " [ 54  47]\n",
            " [ 63  48]\n",
            " [ 18  48]\n",
            " [ 43  48]\n",
            " [ 68  48]\n",
            " [ 19  48]\n",
            " [ 32  48]\n",
            " [ 70  49]\n",
            " [ 47  49]\n",
            " [ 60  50]\n",
            " [ 60  50]\n",
            " [ 59  54]\n",
            " [ 26  54]\n",
            " [ 45  54]\n",
            " [ 40  54]\n",
            " [ 23  54]\n",
            " [ 49  54]\n",
            " [ 57  54]\n",
            " [ 38  54]\n",
            " [ 67  54]\n",
            " [ 46  54]\n",
            " [ 21  54]\n",
            " [ 48  54]\n",
            " [ 55  57]\n",
            " [ 22  57]\n",
            " [ 34  58]\n",
            " [ 50  58]\n",
            " [ 68  59]\n",
            " [ 18  59]\n",
            " [ 48  60]\n",
            " [ 40  60]\n",
            " [ 32  60]\n",
            " [ 24  60]\n",
            " [ 47  60]\n",
            " [ 27  60]\n",
            " [ 48  61]\n",
            " [ 20  61]\n",
            " [ 23  62]\n",
            " [ 49  62]\n",
            " [ 67  62]\n",
            " [ 26  62]\n",
            " [ 49  62]\n",
            " [ 21  62]\n",
            " [ 66  63]\n",
            " [ 54  63]\n",
            " [ 68  63]\n",
            " [ 66  63]\n",
            " [ 65  63]\n",
            " [ 19  63]\n",
            " [ 38  64]\n",
            " [ 19  64]\n",
            " [ 18  65]\n",
            " [ 19  65]\n",
            " [ 63  65]\n",
            " [ 49  65]\n",
            " [ 51  67]\n",
            " [ 50  67]\n",
            " [ 27  67]\n",
            " [ 38  67]\n",
            " [ 40  69]\n",
            " [ 39  69]\n",
            " [ 23  70]\n",
            " [ 31  70]\n",
            " [ 43  71]\n",
            " [ 40  71]\n",
            " [ 59  71]\n",
            " [ 38  71]\n",
            " [ 47  71]\n",
            " [ 39  71]\n",
            " [ 25  72]\n",
            " [ 31  72]\n",
            " [ 20  73]\n",
            " [ 29  73]\n",
            " [ 44  73]\n",
            " [ 32  73]\n",
            " [ 19  74]\n",
            " [ 35  74]\n",
            " [ 57  75]\n",
            " [ 32  75]\n",
            " [ 28  76]\n",
            " [ 32  76]\n",
            " [ 25  77]\n",
            " [ 28  77]\n",
            " [ 48  77]\n",
            " [ 32  77]\n",
            " [ 34  78]\n",
            " [ 34  78]\n",
            " [ 43  78]\n",
            " [ 39  78]\n",
            " [ 44  78]\n",
            " [ 38  78]\n",
            " [ 47  78]\n",
            " [ 27  78]\n",
            " [ 37  78]\n",
            " [ 30  78]\n",
            " [ 34  78]\n",
            " [ 30  78]\n",
            " [ 56  79]\n",
            " [ 29  79]\n",
            " [ 19  81]\n",
            " [ 31  81]\n",
            " [ 50  85]\n",
            " [ 36  85]\n",
            " [ 42  86]\n",
            " [ 33  86]\n",
            " [ 36  87]\n",
            " [ 32  87]\n",
            " [ 40  87]\n",
            " [ 28  87]\n",
            " [ 36  87]\n",
            " [ 36  87]\n",
            " [ 52  88]\n",
            " [ 30  88]\n",
            " [ 58  88]\n",
            " [ 27  88]\n",
            " [ 59  93]\n",
            " [ 35  93]\n",
            " [ 37  97]\n",
            " [ 32  97]\n",
            " [ 46  98]\n",
            " [ 29  98]\n",
            " [ 41  99]\n",
            " [ 30  99]\n",
            " [ 54 101]\n",
            " [ 28 101]\n",
            " [ 41 103]\n",
            " [ 36 103]\n",
            " [ 34 103]\n",
            " [ 32 103]\n",
            " [ 33 113]\n",
            " [ 38 113]\n",
            " [ 47 120]\n",
            " [ 35 120]\n",
            " [ 45 126]\n",
            " [ 32 126]\n",
            " [ 32 137]\n",
            " [ 30 137]]\n"
          ],
          "name": "stdout"
        }
      ]
    },
    {
      "cell_type": "code",
      "metadata": {
        "id": "qEPCaVbaSVh2",
        "outputId": "d7e9ea71-2449-4025-b782-cad3ce910419"
      },
      "source": [
        "# we need to decide class of clusters based on similarity features\n",
        "# inertia variable treats as 'means sum of the squared distances'\n",
        "inertia = []\n",
        "\n",
        "# we need to use a loop upto 22 times and by this we can get the optimum value of kth.\n",
        "for n in range(1 , 50):\n",
        "    # we have kmeans method which is a part of kmeans class.\n",
        "    algorithm = (KMeans(n_clusters = n ,init='k-means++', n_init = 10 , max_iter=300, \n",
        "                        tol=0.0001,  random_state= 111  , algorithm='elkan') )\n",
        "    \n",
        "\n",
        "    # k-means++ = select initial cluster center for the k-means clustering in a smart way to speed up \n",
        "    # convergece and instead of k-means++ we can use 'random'\n",
        "    \n",
        "    #n_init = no. of time k-means algorithm will be run with different centroid seeds.\n",
        "\n",
        "    #tol = relative tolerance\n",
        "\n",
        "    # algorithm = auto / full / elkan\n",
        "    # elkan = The elkan variation is more efficient on data with well defined clusters by \n",
        "    # using the triangle inequality\n",
        "\n",
        "    # we are fitting the model based on defined parameters as mentioned above\n",
        "    algorithm.fit(X1) # X1 contains the data\n",
        "    \n",
        "    # inertia keeps the list of means sum of the squared distances\n",
        "    inertia.append(algorithm.inertia_)"
      ],
      "execution_count": null,
      "outputs": [
        {
          "output_type": "stream",
          "text": [
            "C:\\Users\\Virendra Singh\\anaconda3\\lib\\site-packages\\sklearn\\cluster\\_kmeans.py:973: RuntimeWarning: algorithm='elkan' doesn't make sense for a single cluster. Using 'full' instead.\n",
            "  warnings.warn(\"algorithm='elkan' doesn't make sense for a single \"\n"
          ],
          "name": "stderr"
        }
      ]
    },
    {
      "cell_type": "code",
      "metadata": {
        "id": "3cwMpq62SVh4",
        "outputId": "5229d26a-20eb-4080-eab7-f5bc018c674f"
      },
      "source": [
        "# the inertia variable holds the sum of squared distances as per total loop size i.e; 50\n",
        "print(inertia)"
      ],
      "execution_count": null,
      "outputs": [
        {
          "output_type": "stream",
          "text": [
            "[176108.77999999997, 87121.56591478694, 59486.961439280356, 39529.887967363524, 31662.412142758705, 25420.642025623845, 21857.01597051596, 18842.049333858366, 15983.972458914095, 13752.722954983832, 12239.836831360863, 11201.16647660381, 10135.76230099357, 9271.509961991416, 8167.754329909217, 7629.697782290167, 7036.683183816753, 6661.75534588671, 6169.6816894706635, 5839.410893273396, 5409.096660284165, 5215.883078033082, 4856.280932955933, 4576.979791407427, 4361.772782446313, 4003.259595959595, 3862.202049704683, 3575.0277739804083, 3404.8052308802294, 3211.121897546896, 3114.2062992562983, 2994.9433122433124, 2885.9918470418465, 2752.642429792429, 2647.1103174603163, 2581.4103174603165, 2522.9025613275626, 2395.4177489177487, 2327.001875901876, 2237.345418470419, 2105.5670995671, 2019.7615440115446, 1956.2615440115442, 1881.103968253968, 1808.853968253968, 1755.773015873016, 1717.6063492063497, 1659.5023809523807, 1573.4801587301574]\n"
          ],
          "name": "stdout"
        }
      ]
    },
    {
      "cell_type": "code",
      "metadata": {
        "id": "j2J0xFLeSVh4",
        "outputId": "4773b661-5851-4dd2-d347-ac6e0ffd0d46"
      },
      "source": [
        "# we need to display the information to get optimum kth value\n",
        "# We are plotting a graph to know the 'elbowing' value of kth to get optimum value\n",
        "\n",
        "plt.figure(1 , figsize = (15 ,6))\n",
        "plt.plot(np.arange(1 , 50) , inertia , 'o') # small circle used to point out the data\n",
        "plt.plot(np.arange(1 , 50) , inertia , '-', alpha = 0.5) # this will be used to display each point by line style.\n",
        "plt.xlabel('Number of Clusters') , plt.ylabel('Inertia')\n",
        "plt.show()"
      ],
      "execution_count": null,
      "outputs": [
        {
          "output_type": "display_data",
          "data": {
            "image/png": "[encoded data removed]",
            "text/plain": [
              "<Figure size 1080x432 with 1 Axes>"
            ]
          },
          "metadata": {
            "tags": [],
            "needs_background": "light"
          }
        }
      ]
    },
    {
      "cell_type": "code",
      "metadata": {
        "id": "vML61D8ASVh5"
      },
      "source": [
        "# You have been observed here that k=4 is the optimum value\n",
        "# Applying KMeans for k or n=4\n",
        "algorithm = (KMeans(n_clusters = 4 ,init='k-means++', n_init = 10 ,max_iter=300, \n",
        "                        tol=0.0001,  random_state= 111  , algorithm='elkan') )\n",
        "# again fit the model towards k = 4\n",
        "algorithm.fit(X1)\n",
        "\n",
        "# this is required to get centroid to make connection between cetroid and datapoint\n",
        "# label is deciding which data point is belong to which cluster.\n",
        "# if you have decided that k=4, it means we have range of the clusters from 0 to 3\n",
        "# label of the datapoints towards the cluster index value\n",
        "labels1 = algorithm.labels_\n",
        "\n",
        "# its time to decide centroid of the clusters and we got k=4 (cluster size = 4 and indexed by 0 to 3)\n",
        "centroids1 = algorithm.cluster_centers_"
      ],
      "execution_count": null,
      "outputs": []
    },
    {
      "cell_type": "code",
      "metadata": {
        "id": "duIMHrMvSVh6",
        "outputId": "a3d36cad-ad62-4145-deb7-a0389014d768"
      },
      "source": [
        "labels1"
      ],
      "execution_count": null,
      "outputs": [
        {
          "output_type": "execute_result",
          "data": {
            "text/plain": [
              "array([1, 1, 1, 1, 1, 1, 1, 1, 2, 1, 2, 1, 1, 1, 1, 1, 1, 1, 1, 1, 1, 1,\n",
              "       1, 1, 1, 1, 1, 1, 1, 1, 2, 1, 2, 1, 1, 1, 1, 1, 1, 1, 2, 1, 2, 1,\n",
              "       2, 1, 2, 1, 1, 1, 2, 1, 1, 2, 2, 2, 2, 2, 1, 2, 2, 1, 2, 2, 2, 1,\n",
              "       2, 2, 1, 1, 2, 2, 2, 2, 2, 0, 2, 2, 0, 2, 2, 2, 2, 2, 0, 2, 2, 0,\n",
              "       0, 2, 2, 0, 2, 0, 0, 0, 2, 0, 2, 0, 0, 2, 2, 0, 2, 0, 2, 2, 2, 2,\n",
              "       2, 0, 0, 0, 0, 0, 2, 2, 2, 2, 0, 0, 0, 0, 0, 0, 0, 0, 2, 0, 0, 0,\n",
              "       0, 0, 0, 0, 0, 0, 0, 0, 2, 0, 0, 0, 0, 0, 0, 0, 0, 0, 0, 0, 0, 0,\n",
              "       0, 0, 0, 0, 0, 0, 0, 0, 0, 0, 0, 0, 0, 0, 0, 0, 0, 0, 0, 0, 3, 0,\n",
              "       3, 0, 3, 3, 3, 3, 3, 3, 3, 3, 3, 3, 3, 3, 3, 3, 3, 3, 3, 3, 3, 3,\n",
              "       3, 3])"
            ]
          },
          "metadata": {
            "tags": []
          },
          "execution_count": 20
        }
      ]
    },
    {
      "cell_type": "code",
      "metadata": {
        "id": "tfuhkSK3SVh7",
        "outputId": "45eff3c1-d121-453d-e7c4-7112b7fa57b1"
      },
      "source": [
        "centroids1 # this contains the coordinates values"
      ],
      "execution_count": null,
      "outputs": [
        {
          "output_type": "execute_result",
          "data": {
            "text/plain": [
              "array([[ 31.95890411,  72.95890411],\n",
              "       [ 30.34693878,  29.26530612],\n",
              "       [ 55.81481481,  51.77777778],\n",
              "       [ 39.        , 106.5       ]])"
            ]
          },
          "metadata": {
            "tags": []
          },
          "execution_count": 21
        }
      ]
    },
    {
      "cell_type": "code",
      "metadata": {
        "id": "JH0TXDQySVh7",
        "outputId": "6e4c1521-74cd-472c-b5a5-e74c1c15ef30"
      },
      "source": [
        "# So far we have used x1 variable which contains age and Annual Income (k$) \n",
        "# and as we know its is a 2D array.\n",
        "\n",
        "# we need to display our information in cluster pattern basis \n",
        "# for doing this we need to transform 2D to one-dimension array by using ravel () method.\n",
        "\n",
        "h = 0.02 \n",
        "# this is required to preserve uniformity between x and y datapoints.\n",
        "# when you are transforming image from one-dimension to another dimernsion.\n",
        "\n",
        "# Suppose you have a 3D image and want to transform into 2D image \n",
        "# keep in mind you want to preserve the coordinates values of x and y \n",
        "# after removing or adjusting z-dimension value\n",
        "# so our actual values of x and y coordinates should not be disturbed.\n",
        "\n",
        "x_min, x_max = X1[:, 0].min() - 1, X1[:, 0].max() + 1 # age or 0th index\n",
        "y_min, y_max = X1[:, 1].min() - 1, X1[:, 1].max() + 1 #Annual Income (k$)\n",
        "\n",
        "# we need to use meshgrid method from numpy library to get or used to create pairs of \n",
        "# coordinates between a range (min and max as we have seen above code (x_min, x_max , y_min and y_max))\n",
        "xx, yy = np.meshgrid(np.arange(x_min, x_max, h), np.arange(y_min, y_max, h))\n",
        "\n",
        "print (xx)\n",
        "print (yy)\n",
        "\n",
        "# for clustering we need to make our graph into dimension pattern to get proper clusters\n",
        "Z = algorithm.predict(np.c_[xx.ravel(), yy.ravel()]) \n",
        "# The above code will decide the coordinates values with respect to the xx and yy variables."
      ],
      "execution_count": null,
      "outputs": [
        {
          "output_type": "stream",
          "text": [
            "[[17.   17.02 17.04 ... 70.94 70.96 70.98]\n",
            " [17.   17.02 17.04 ... 70.94 70.96 70.98]\n",
            " [17.   17.02 17.04 ... 70.94 70.96 70.98]\n",
            " ...\n",
            " [17.   17.02 17.04 ... 70.94 70.96 70.98]\n",
            " [17.   17.02 17.04 ... 70.94 70.96 70.98]\n",
            " [17.   17.02 17.04 ... 70.94 70.96 70.98]]\n",
            "[[ 14.    14.    14.   ...  14.    14.    14.  ]\n",
            " [ 14.02  14.02  14.02 ...  14.02  14.02  14.02]\n",
            " [ 14.04  14.04  14.04 ...  14.04  14.04  14.04]\n",
            " ...\n",
            " [137.94 137.94 137.94 ... 137.94 137.94 137.94]\n",
            " [137.96 137.96 137.96 ... 137.96 137.96 137.96]\n",
            " [137.98 137.98 137.98 ... 137.98 137.98 137.98]]\n"
          ],
          "name": "stdout"
        }
      ]
    },
    {
      "cell_type": "code",
      "metadata": {
        "id": "w7oxFyd2SVh8",
        "outputId": "0ef8754e-a12d-4073-8245-bc00508bb237"
      },
      "source": [
        "plt.figure(1 , figsize = (15 , 7) )\n",
        "\n",
        "# it will clear the graph from existing pattern\n",
        "plt.clf() # clear the frame because plt variable holds some information into its memory.\n",
        "\n",
        "Z = Z.reshape(xx.shape) # it is required towards the x and we are changinng its size towards the x.\n",
        "\n",
        "plt.imshow(Z , interpolation='nearest', \n",
        "           extent=(xx.min(), xx.max(), yy.min(), yy.max()),\n",
        "           cmap = plt.cm.Pastel2, aspect = 'auto', origin='lower')\n",
        "\n",
        "plt.scatter( x = 'Age', y = 'Annual Income (k$)', data = df, c = labels1, s = 50)\n",
        "plt.scatter(x = centroids1[: , 0] , y =  centroids1[: , 1] , s = 100 , c = 'red' , alpha = 0.5)\n",
        "plt.ylabel('Annual Income (k$)') , plt.xlabel('Age')\n",
        "plt.show()"
      ],
      "execution_count": null,
      "outputs": [
        {
          "output_type": "display_data",
          "data": {
            "image/png": "[encoded data removed]",
            "text/plain": [
              "<Figure size 1080x504 with 1 Axes>"
            ]
          },
          "metadata": {
            "tags": [],
            "needs_background": "light"
          }
        }
      ]
    },
    {
      "cell_type": "code",
      "metadata": {
        "id": "a5bnn5ZLSVh9",
        "outputId": "b0b6e5d1-d930-4f67-9f23-39d70a59ce5f"
      },
      "source": [
        "# Applying KMeans for k=7\n",
        "algorithm = (KMeans(n_clusters = 7, init='k-means++', n_init = 10, max_iter=300, \n",
        "                        tol=0.0001, random_state= 111 , algorithm='elkan'))\n",
        "algorithm.fit(X1)\n",
        "labels1 = algorithm.labels_\n",
        "centroids1 = algorithm.cluster_centers_\n",
        "centroids1"
      ],
      "execution_count": null,
      "outputs": [
        {
          "output_type": "execute_result",
          "data": {
            "text/plain": [
              "array([[ 24.07142857,  58.85714286],\n",
              "       [ 27.72972973,  27.21621622],\n",
              "       [ 35.65      ,  74.55      ],\n",
              "       [ 36.5       , 124.        ],\n",
              "       [ 52.45454545,  34.40909091],\n",
              "       [ 57.51351351,  57.35135135],\n",
              "       [ 38.21428571,  93.        ]])"
            ]
          },
          "metadata": {
            "tags": []
          },
          "execution_count": 29
        }
      ]
    },
    {
      "cell_type": "code",
      "metadata": {
        "id": "aJfyYY_BSVh-"
      },
      "source": [
        "h = 0.02\n",
        "x_min, x_max = X1[:, 0].min() - 1, X1[:, 0].max() + 1\n",
        "y_min, y_max = X1[:, 1].min() - 1, X1[:, 1].max() + 1\n",
        "xx, yy = np.meshgrid(np.arange(x_min, x_max, h), np.arange(y_min, y_max, h))\n",
        "Z = algorithm.predict(np.c_[xx.ravel(), yy.ravel()]) "
      ],
      "execution_count": null,
      "outputs": []
    },
    {
      "cell_type": "code",
      "metadata": {
        "id": "mMNYC3xuSVh_",
        "outputId": "de53814c-98d5-452e-f79a-21b3b91d57e2"
      },
      "source": [
        "plt.figure(1 , figsize = (15 , 7) )\n",
        "plt.clf()\n",
        "Z = Z.reshape(xx.shape)\n",
        "plt.imshow(Z , interpolation='nearest', \n",
        "           extent=(xx.min(), xx.max(), yy.min(), yy.max()),\n",
        "           cmap = plt.cm.Pastel2, aspect = 'auto', origin='lower')\n",
        "\n",
        "plt.scatter( x = 'Age', y = 'Annual Income (k$)', data = df, c = labels1, s = 100)\n",
        "plt.scatter(x = centroids1[: , 0] , y =  centroids1[: , 1] , s = 300 , c = 'red' , alpha = 0.5)\n",
        "plt.ylabel('Annual Income (k$)') , plt.xlabel('Age')\n",
        "plt.show()"
      ],
      "execution_count": null,
      "outputs": [
        {
          "output_type": "display_data",
          "data": {
            "image/png": "[encoded data removed]",
            "text/plain": [
              "<Figure size 1080x504 with 1 Axes>"
            ]
          },
          "metadata": {
            "tags": [],
            "needs_background": "light"
          }
        }
      ]
    },
    {
      "cell_type": "code",
      "metadata": {
        "id": "HoLvhkg1SVh_"
      },
      "source": [
        ""
      ],
      "execution_count": null,
      "outputs": []
    },
    {
      "cell_type": "code",
      "metadata": {
        "id": "0-1gWzhBSViA",
        "outputId": "66296642-77c2-4700-b02a-77d0d675c259"
      },
      "source": [
        "X3 = df[['Age' , 'Annual Income (k$)' ,'Spending Score (1-100)']].iloc[: , :].values\n",
        "inertia = []\n",
        "for n in range(1 , 11):\n",
        "    algorithm = (KMeans(n_clusters = n, init='k-means++', n_init = 10, max_iter=300, \n",
        "                        tol=0.0001, random_state= 111, algorithm='elkan'))\n",
        "    algorithm.fit(X3)\n",
        "    inertia.append(algorithm.inertia_)"
      ],
      "execution_count": null,
      "outputs": [
        {
          "output_type": "stream",
          "text": [
            "C:\\Users\\Virendra Singh\\anaconda3\\lib\\site-packages\\sklearn\\cluster\\_kmeans.py:973: RuntimeWarning: algorithm='elkan' doesn't make sense for a single cluster. Using 'full' instead.\n",
            "  warnings.warn(\"algorithm='elkan' doesn't make sense for a single \"\n"
          ],
          "name": "stderr"
        }
      ]
    },
    {
      "cell_type": "code",
      "metadata": {
        "id": "ymHqG2CvSViA",
        "outputId": "df450de4-8f58-48fb-864e-929d0c7b2694"
      },
      "source": [
        "plt.figure(1 , figsize = (15 ,6))\n",
        "plt.plot(np.arange(1 , 11) , inertia , 'o')\n",
        "plt.plot(np.arange(1 , 11) , inertia , '-' , alpha = 0.5)\n",
        "plt.xlabel('Number of Clusters') , plt.ylabel('Inertia')\n",
        "plt.show()"
      ],
      "execution_count": null,
      "outputs": [
        {
          "output_type": "display_data",
          "data": {
            "image/png": "[encoded data removed]",
            "text/plain": [
              "<Figure size 1080x432 with 1 Axes>"
            ]
          },
          "metadata": {
            "tags": [],
            "needs_background": "light"
          }
        }
      ]
    },
    {
      "cell_type": "code",
      "metadata": {
        "id": "0qv60Ny-SViA",
        "outputId": "8662e4dc-c7ff-4833-8594-0d1c0c0d8e2d"
      },
      "source": [
        "algorithm = (KMeans(n_clusters = 6 ,init='k-means++', n_init = 10 ,max_iter=300, \n",
        "                        tol=0.0001,  random_state= 111  , algorithm='elkan') )\n",
        "algorithm.fit(X3)\n",
        "labels3 = algorithm.labels_\n",
        "centroids3 = algorithm.cluster_centers_\n",
        "\n",
        "y_kmeans = algorithm.fit_predict(X3)\n",
        "df['cluster'] = pd.DataFrame(y_kmeans)\n",
        "df.head()"
      ],
      "execution_count": null,
      "outputs": [
        {
          "output_type": "execute_result",
          "data": {
            "text/html": [
              "<div>\n",
              "<style scoped>\n",
              "    .dataframe tbody tr th:only-of-type {\n",
              "        vertical-align: middle;\n",
              "    }\n",
              "\n",
              "    .dataframe tbody tr th {\n",
              "        vertical-align: top;\n",
              "    }\n",
              "\n",
              "    .dataframe thead th {\n",
              "        text-align: right;\n",
              "    }\n",
              "</style>\n",
              "<table border=\"1\" class=\"dataframe\">\n",
              "  <thead>\n",
              "    <tr style=\"text-align: right;\">\n",
              "      <th></th>\n",
              "      <th>CustomerID</th>\n",
              "      <th>Gender</th>\n",
              "      <th>Age</th>\n",
              "      <th>Annual Income (k$)</th>\n",
              "      <th>Spending Score (1-100)</th>\n",
              "      <th>cluster</th>\n",
              "    </tr>\n",
              "  </thead>\n",
              "  <tbody>\n",
              "    <tr>\n",
              "      <th>0</th>\n",
              "      <td>1</td>\n",
              "      <td>Male</td>\n",
              "      <td>19</td>\n",
              "      <td>15</td>\n",
              "      <td>39</td>\n",
              "      <td>4</td>\n",
              "    </tr>\n",
              "    <tr>\n",
              "      <th>1</th>\n",
              "      <td>2</td>\n",
              "      <td>Male</td>\n",
              "      <td>21</td>\n",
              "      <td>15</td>\n",
              "      <td>81</td>\n",
              "      <td>3</td>\n",
              "    </tr>\n",
              "    <tr>\n",
              "      <th>2</th>\n",
              "      <td>3</td>\n",
              "      <td>Female</td>\n",
              "      <td>20</td>\n",
              "      <td>16</td>\n",
              "      <td>6</td>\n",
              "      <td>4</td>\n",
              "    </tr>\n",
              "    <tr>\n",
              "      <th>3</th>\n",
              "      <td>4</td>\n",
              "      <td>Female</td>\n",
              "      <td>23</td>\n",
              "      <td>16</td>\n",
              "      <td>77</td>\n",
              "      <td>3</td>\n",
              "    </tr>\n",
              "    <tr>\n",
              "      <th>4</th>\n",
              "      <td>5</td>\n",
              "      <td>Female</td>\n",
              "      <td>31</td>\n",
              "      <td>17</td>\n",
              "      <td>40</td>\n",
              "      <td>4</td>\n",
              "    </tr>\n",
              "  </tbody>\n",
              "</table>\n",
              "</div>"
            ],
            "text/plain": [
              "   CustomerID  Gender  Age  Annual Income (k$)  Spending Score (1-100)  \\\n",
              "0           1    Male   19                  15                      39   \n",
              "1           2    Male   21                  15                      81   \n",
              "2           3  Female   20                  16                       6   \n",
              "3           4  Female   23                  16                      77   \n",
              "4           5  Female   31                  17                      40   \n",
              "\n",
              "   cluster  \n",
              "0        4  \n",
              "1        3  \n",
              "2        4  \n",
              "3        3  \n",
              "4        4  "
            ]
          },
          "metadata": {
            "tags": []
          },
          "execution_count": 36
        }
      ]
    },
    {
      "cell_type": "code",
      "metadata": {
        "id": "kWp5wa_xSViB",
        "outputId": "0e07531f-08d9-4512-8447-86cbd2bd705f"
      },
      "source": [
        "import plotly as py\n",
        "import plotly.graph_objs as go\n",
        "\n",
        "trace1 = go.Scatter3d(\n",
        "    x= df['Age'],\n",
        "    y= df['Spending Score (1-100)'],\n",
        "    z= df['Annual Income (k$)'],\n",
        "    mode='markers',\n",
        "     marker=dict(\n",
        "        color = df['cluster'], \n",
        "        size= 8,\n",
        "        line=dict(\n",
        "            color= df['cluster'],\n",
        "            width= 10\n",
        "        ),\n",
        "        opacity=0.8\n",
        "     )\n",
        ")\n",
        "data = [trace1]\n",
        "layout = go.Layout(\n",
        "    title= 'Clusters wrt Age, Income and Spending Scores',\n",
        "    scene = dict(\n",
        "            xaxis = dict(title  = 'Age'),\n",
        "            yaxis = dict(title  = 'Spending Score'),\n",
        "            zaxis = dict(title  = 'Annual Income')\n",
        "        )\n",
        ")\n",
        "fig = go.Figure(data=data, layout=layout)\n",
        "py.offline.iplot(fig)"
      ],
      "execution_count": null,
      "outputs": [
        {
          "output_type": "display_data",
          "data": {
            "application/vnd.plotly.v1+json": {
              "config": {
                "linkText": "Export to plot.ly",
                "plotlyServerURL": "https://plot.ly",
                "showLink": false
              },
              "data": [
                {
                  "marker": {
                    "color": [
                      4,
                      3,
                      4,
                      3,
                      4,
                      3,
                      4,
                      3,
                      4,
                      3,
                      4,
                      3,
                      4,
                      3,
                      4,
                      3,
                      4,
                      3,
                      4,
                      3,
                      4,
                      3,
                      4,
                      3,
                      4,
                      3,
                      4,
                      3,
                      4,
                      3,
                      4,
                      3,
                      4,
                      3,
                      4,
                      3,
                      4,
                      3,
                      4,
                      3,
                      0,
                      3,
                      0,
                      5,
                      4,
                      3,
                      0,
                      5,
                      5,
                      5,
                      0,
                      5,
                      5,
                      0,
                      0,
                      0,
                      0,
                      0,
                      5,
                      0,
                      0,
                      5,
                      0,
                      0,
                      0,
                      5,
                      0,
                      0,
                      5,
                      5,
                      0,
                      0,
                      0,
                      0,
                      0,
                      5,
                      0,
                      5,
                      5,
                      0,
                      0,
                      5,
                      0,
                      0,
                      5,
                      0,
                      0,
                      5,
                      5,
                      0,
                      0,
                      5,
                      0,
                      5,
                      5,
                      5,
                      0,
                      5,
                      0,
                      5,
                      5,
                      0,
                      0,
                      5,
                      0,
                      5,
                      0,
                      0,
                      0,
                      0,
                      0,
                      5,
                      5,
                      5,
                      5,
                      5,
                      0,
                      0,
                      0,
                      0,
                      5,
                      5,
                      5,
                      1,
                      5,
                      1,
                      2,
                      1,
                      2,
                      1,
                      2,
                      1,
                      5,
                      1,
                      2,
                      1,
                      2,
                      1,
                      2,
                      1,
                      2,
                      1,
                      5,
                      1,
                      2,
                      1,
                      2,
                      1,
                      2,
                      1,
                      2,
                      1,
                      2,
                      1,
                      2,
                      1,
                      2,
                      1,
                      2,
                      1,
                      2,
                      1,
                      2,
                      1,
                      2,
                      1,
                      2,
                      1,
                      2,
                      1,
                      2,
                      1,
                      2,
                      1,
                      2,
                      1,
                      2,
                      1,
                      2,
                      1,
                      2,
                      1,
                      2,
                      1,
                      2,
                      1,
                      2,
                      1,
                      2,
                      1,
                      2,
                      1,
                      2,
                      1,
                      2,
                      1,
                      2,
                      1,
                      2,
                      1
                    ],
                    "line": {
                      "color": [
                        4,
                        3,
                        4,
                        3,
                        4,
                        3,
                        4,
                        3,
                        4,
                        3,
                        4,
                        3,
                        4,
                        3,
                        4,
                        3,
                        4,
                        3,
                        4,
                        3,
                        4,
                        3,
                        4,
                        3,
                        4,
                        3,
                        4,
                        3,
                        4,
                        3,
                        4,
                        3,
                        4,
                        3,
                        4,
                        3,
                        4,
                        3,
                        4,
                        3,
                        0,
                        3,
                        0,
                        5,
                        4,
                        3,
                        0,
                        5,
                        5,
                        5,
                        0,
                        5,
                        5,
                        0,
                        0,
                        0,
                        0,
                        0,
                        5,
                        0,
                        0,
                        5,
                        0,
                        0,
                        0,
                        5,
                        0,
                        0,
                        5,
                        5,
                        0,
                        0,
                        0,
                        0,
                        0,
                        5,
                        0,
                        5,
                        5,
                        0,
                        0,
                        5,
                        0,
                        0,
                        5,
                        0,
                        0,
                        5,
                        5,
                        0,
                        0,
                        5,
                        0,
                        5,
                        5,
                        5,
                        0,
                        5,
                        0,
                        5,
                        5,
                        0,
                        0,
                        5,
                        0,
                        5,
                        0,
                        0,
                        0,
                        0,
                        0,
                        5,
                        5,
                        5,
                        5,
                        5,
                        0,
                        0,
                        0,
                        0,
                        5,
                        5,
                        5,
                        1,
                        5,
                        1,
                        2,
                        1,
                        2,
                        1,
                        2,
                        1,
                        5,
                        1,
                        2,
                        1,
                        2,
                        1,
                        2,
                        1,
                        2,
                        1,
                        5,
                        1,
                        2,
                        1,
                        2,
                        1,
                        2,
                        1,
                        2,
                        1,
                        2,
                        1,
                        2,
                        1,
                        2,
                        1,
                        2,
                        1,
                        2,
                        1,
                        2,
                        1,
                        2,
                        1,
                        2,
                        1,
                        2,
                        1,
                        2,
                        1,
                        2,
                        1,
                        2,
                        1,
                        2,
                        1,
                        2,
                        1,
                        2,
                        1,
                        2,
                        1,
                        2,
                        1,
                        2,
                        1,
                        2,
                        1,
                        2,
                        1,
                        2,
                        1,
                        2,
                        1,
                        2,
                        1,
                        2,
                        1
                      ],
                      "width": 10
                    },
                    "opacity": 0.8,
                    "size": 8
                  },
                  "mode": "markers",
                  "type": "scatter3d",
                  "x": [
                    19,
                    21,
                    20,
                    23,
                    31,
                    22,
                    35,
                    23,
                    64,
                    30,
                    67,
                    35,
                    58,
                    24,
                    37,
                    22,
                    35,
                    20,
                    52,
                    35,
                    35,
                    25,
                    46,
                    31,
                    54,
                    29,
                    45,
                    35,
                    40,
                    23,
                    60,
                    21,
                    53,
                    18,
                    49,
                    21,
                    42,
                    30,
                    36,
                    20,
                    65,
                    24,
                    48,
                    31,
                    49,
                    24,
                    50,
                    27,
                    29,
                    31,
                    49,
                    33,
                    31,
                    59,
                    50,
                    47,
                    51,
                    69,
                    27,
                    53,
                    70,
                    19,
                    67,
                    54,
                    63,
                    18,
                    43,
                    68,
                    19,
                    32,
                    70,
                    47,
                    60,
                    60,
                    59,
                    26,
                    45,
                    40,
                    23,
                    49,
                    57,
                    38,
                    67,
                    46,
                    21,
                    48,
                    55,
                    22,
                    34,
                    50,
                    68,
                    18,
                    48,
                    40,
                    32,
                    24,
                    47,
                    27,
                    48,
                    20,
                    23,
                    49,
                    67,
                    26,
                    49,
                    21,
                    66,
                    54,
                    68,
                    66,
                    65,
                    19,
                    38,
                    19,
                    18,
                    19,
                    63,
                    49,
                    51,
                    50,
                    27,
                    38,
                    40,
                    39,
                    23,
                    31,
                    43,
                    40,
                    59,
                    38,
                    47,
                    39,
                    25,
                    31,
                    20,
                    29,
                    44,
                    32,
                    19,
                    35,
                    57,
                    32,
                    28,
                    32,
                    25,
                    28,
                    48,
                    32,
                    34,
                    34,
                    43,
                    39,
                    44,
                    38,
                    47,
                    27,
                    37,
                    30,
                    34,
                    30,
                    56,
                    29,
                    19,
                    31,
                    50,
                    36,
                    42,
                    33,
                    36,
                    32,
                    40,
                    28,
                    36,
                    36,
                    52,
                    30,
                    58,
                    27,
                    59,
                    35,
                    37,
                    32,
                    46,
                    29,
                    41,
                    30,
                    54,
                    28,
                    41,
                    36,
                    34,
                    32,
                    33,
                    38,
                    47,
                    35,
                    45,
                    32,
                    32,
                    30
                  ],
                  "y": [
                    39,
                    81,
                    6,
                    77,
                    40,
                    76,
                    6,
                    94,
                    3,
                    72,
                    14,
                    99,
                    15,
                    77,
                    13,
                    79,
                    35,
                    66,
                    29,
                    98,
                    35,
                    73,
                    5,
                    73,
                    14,
                    82,
                    32,
                    61,
                    31,
                    87,
                    4,
                    73,
                    4,
                    92,
                    14,
                    81,
                    17,
                    73,
                    26,
                    75,
                    35,
                    92,
                    36,
                    61,
                    28,
                    65,
                    55,
                    47,
                    42,
                    42,
                    52,
                    60,
                    54,
                    60,
                    45,
                    41,
                    50,
                    46,
                    51,
                    46,
                    56,
                    55,
                    52,
                    59,
                    51,
                    59,
                    50,
                    48,
                    59,
                    47,
                    55,
                    42,
                    49,
                    56,
                    47,
                    54,
                    53,
                    48,
                    52,
                    42,
                    51,
                    55,
                    41,
                    44,
                    57,
                    46,
                    58,
                    55,
                    60,
                    46,
                    55,
                    41,
                    49,
                    40,
                    42,
                    52,
                    47,
                    50,
                    42,
                    49,
                    41,
                    48,
                    59,
                    55,
                    56,
                    42,
                    50,
                    46,
                    43,
                    48,
                    52,
                    54,
                    42,
                    46,
                    48,
                    50,
                    43,
                    59,
                    43,
                    57,
                    56,
                    40,
                    58,
                    91,
                    29,
                    77,
                    35,
                    95,
                    11,
                    75,
                    9,
                    75,
                    34,
                    71,
                    5,
                    88,
                    7,
                    73,
                    10,
                    72,
                    5,
                    93,
                    40,
                    87,
                    12,
                    97,
                    36,
                    74,
                    22,
                    90,
                    17,
                    88,
                    20,
                    76,
                    16,
                    89,
                    1,
                    78,
                    1,
                    73,
                    35,
                    83,
                    5,
                    93,
                    26,
                    75,
                    20,
                    95,
                    27,
                    63,
                    13,
                    75,
                    10,
                    92,
                    13,
                    86,
                    15,
                    69,
                    14,
                    90,
                    32,
                    86,
                    15,
                    88,
                    39,
                    97,
                    24,
                    68,
                    17,
                    85,
                    23,
                    69,
                    8,
                    91,
                    16,
                    79,
                    28,
                    74,
                    18,
                    83
                  ],
                  "z": [
                    15,
                    15,
                    16,
                    16,
                    17,
                    17,
                    18,
                    18,
                    19,
                    19,
                    19,
                    19,
                    20,
                    20,
                    20,
                    20,
                    21,
                    21,
                    23,
                    23,
                    24,
                    24,
                    25,
                    25,
                    28,
                    28,
                    28,
                    28,
                    29,
                    29,
                    30,
                    30,
                    33,
                    33,
                    33,
                    33,
                    34,
                    34,
                    37,
                    37,
                    38,
                    38,
                    39,
                    39,
                    39,
                    39,
                    40,
                    40,
                    40,
                    40,
                    42,
                    42,
                    43,
                    43,
                    43,
                    43,
                    44,
                    44,
                    46,
                    46,
                    46,
                    46,
                    47,
                    47,
                    48,
                    48,
                    48,
                    48,
                    48,
                    48,
                    49,
                    49,
                    50,
                    50,
                    54,
                    54,
                    54,
                    54,
                    54,
                    54,
                    54,
                    54,
                    54,
                    54,
                    54,
                    54,
                    57,
                    57,
                    58,
                    58,
                    59,
                    59,
                    60,
                    60,
                    60,
                    60,
                    60,
                    60,
                    61,
                    61,
                    62,
                    62,
                    62,
                    62,
                    62,
                    62,
                    63,
                    63,
                    63,
                    63,
                    63,
                    63,
                    64,
                    64,
                    65,
                    65,
                    65,
                    65,
                    67,
                    67,
                    67,
                    67,
                    69,
                    69,
                    70,
                    70,
                    71,
                    71,
                    71,
                    71,
                    71,
                    71,
                    72,
                    72,
                    73,
                    73,
                    73,
                    73,
                    74,
                    74,
                    75,
                    75,
                    76,
                    76,
                    77,
                    77,
                    77,
                    77,
                    78,
                    78,
                    78,
                    78,
                    78,
                    78,
                    78,
                    78,
                    78,
                    78,
                    78,
                    78,
                    79,
                    79,
                    81,
                    81,
                    85,
                    85,
                    86,
                    86,
                    87,
                    87,
                    87,
                    87,
                    87,
                    87,
                    88,
                    88,
                    88,
                    88,
                    93,
                    93,
                    97,
                    97,
                    98,
                    98,
                    99,
                    99,
                    101,
                    101,
                    103,
                    103,
                    103,
                    103,
                    113,
                    113,
                    120,
                    120,
                    126,
                    126,
                    137,
                    137
                  ]
                }
              ],
              "layout": {
                "scene": {
                  "xaxis": {
                    "title": {
                      "text": "Age"
                    }
                  },
                  "yaxis": {
                    "title": {
                      "text": "Spending Score"
                    }
                  },
                  "zaxis": {
                    "title": {
                      "text": "Annual Income"
                    }
                  }
                },
                "template": {
                  "data": {
                    "bar": [
                      {
                        "error_x": {
                          "color": "#2a3f5f"
                        },
                        "error_y": {
                          "color": "#2a3f5f"
                        },
                        "marker": {
                          "line": {
                            "color": "#E5ECF6",
                            "width": 0.5
                          }
                        },
                        "type": "bar"
                      }
                    ],
                    "barpolar": [
                      {
                        "marker": {
                          "line": {
                            "color": "#E5ECF6",
                            "width": 0.5
                          }
                        },
                        "type": "barpolar"
                      }
                    ],
                    "carpet": [
                      {
                        "aaxis": {
                          "endlinecolor": "#2a3f5f",
                          "gridcolor": "white",
                          "linecolor": "white",
                          "minorgridcolor": "white",
                          "startlinecolor": "#2a3f5f"
                        },
                        "baxis": {
                          "endlinecolor": "#2a3f5f",
                          "gridcolor": "white",
                          "linecolor": "white",
                          "minorgridcolor": "white",
                          "startlinecolor": "#2a3f5f"
                        },
                        "type": "carpet"
                      }
                    ],
                    "choropleth": [
                      {
                        "colorbar": {
                          "outlinewidth": 0,
                          "ticks": ""
                        },
                        "type": "choropleth"
                      }
                    ],
                    "contour": [
                      {
                        "colorbar": {
                          "outlinewidth": 0,
                          "ticks": ""
                        },
                        "colorscale": [
                          [
                            0,
                            "#0d0887"
                          ],
                          [
                            0.1111111111111111,
                            "#46039f"
                          ],
                          [
                            0.2222222222222222,
                            "#7201a8"
                          ],
                          [
                            0.3333333333333333,
                            "#9c179e"
                          ],
                          [
                            0.4444444444444444,
                            "#bd3786"
                          ],
                          [
                            0.5555555555555556,
                            "#d8576b"
                          ],
                          [
                            0.6666666666666666,
                            "#ed7953"
                          ],
                          [
                            0.7777777777777778,
                            "#fb9f3a"
                          ],
                          [
                            0.8888888888888888,
                            "#fdca26"
                          ],
                          [
                            1,
                            "#f0f921"
                          ]
                        ],
                        "type": "contour"
                      }
                    ],
                    "contourcarpet": [
                      {
                        "colorbar": {
                          "outlinewidth": 0,
                          "ticks": ""
                        },
                        "type": "contourcarpet"
                      }
                    ],
                    "heatmap": [
                      {
                        "colorbar": {
                          "outlinewidth": 0,
                          "ticks": ""
                        },
                        "colorscale": [
                          [
                            0,
                            "#0d0887"
                          ],
                          [
                            0.1111111111111111,
                            "#46039f"
                          ],
                          [
                            0.2222222222222222,
                            "#7201a8"
                          ],
                          [
                            0.3333333333333333,
                            "#9c179e"
                          ],
                          [
                            0.4444444444444444,
                            "#bd3786"
                          ],
                          [
                            0.5555555555555556,
                            "#d8576b"
                          ],
                          [
                            0.6666666666666666,
                            "#ed7953"
                          ],
                          [
                            0.7777777777777778,
                            "#fb9f3a"
                          ],
                          [
                            0.8888888888888888,
                            "#fdca26"
                          ],
                          [
                            1,
                            "#f0f921"
                          ]
                        ],
                        "type": "heatmap"
                      }
                    ],
                    "heatmapgl": [
                      {
                        "colorbar": {
                          "outlinewidth": 0,
                          "ticks": ""
                        },
                        "colorscale": [
                          [
                            0,
                            "#0d0887"
                          ],
                          [
                            0.1111111111111111,
                            "#46039f"
                          ],
                          [
                            0.2222222222222222,
                            "#7201a8"
                          ],
                          [
                            0.3333333333333333,
                            "#9c179e"
                          ],
                          [
                            0.4444444444444444,
                            "#bd3786"
                          ],
                          [
                            0.5555555555555556,
                            "#d8576b"
                          ],
                          [
                            0.6666666666666666,
                            "#ed7953"
                          ],
                          [
                            0.7777777777777778,
                            "#fb9f3a"
                          ],
                          [
                            0.8888888888888888,
                            "#fdca26"
                          ],
                          [
                            1,
                            "#f0f921"
                          ]
                        ],
                        "type": "heatmapgl"
                      }
                    ],
                    "histogram": [
                      {
                        "marker": {
                          "colorbar": {
                            "outlinewidth": 0,
                            "ticks": ""
                          }
                        },
                        "type": "histogram"
                      }
                    ],
                    "histogram2d": [
                      {
                        "colorbar": {
                          "outlinewidth": 0,
                          "ticks": ""
                        },
                        "colorscale": [
                          [
                            0,
                            "#0d0887"
                          ],
                          [
                            0.1111111111111111,
                            "#46039f"
                          ],
                          [
                            0.2222222222222222,
                            "#7201a8"
                          ],
                          [
                            0.3333333333333333,
                            "#9c179e"
                          ],
                          [
                            0.4444444444444444,
                            "#bd3786"
                          ],
                          [
                            0.5555555555555556,
                            "#d8576b"
                          ],
                          [
                            0.6666666666666666,
                            "#ed7953"
                          ],
                          [
                            0.7777777777777778,
                            "#fb9f3a"
                          ],
                          [
                            0.8888888888888888,
                            "#fdca26"
                          ],
                          [
                            1,
                            "#f0f921"
                          ]
                        ],
                        "type": "histogram2d"
                      }
                    ],
                    "histogram2dcontour": [
                      {
                        "colorbar": {
                          "outlinewidth": 0,
                          "ticks": ""
                        },
                        "colorscale": [
                          [
                            0,
                            "#0d0887"
                          ],
                          [
                            0.1111111111111111,
                            "#46039f"
                          ],
                          [
                            0.2222222222222222,
                            "#7201a8"
                          ],
                          [
                            0.3333333333333333,
                            "#9c179e"
                          ],
                          [
                            0.4444444444444444,
                            "#bd3786"
                          ],
                          [
                            0.5555555555555556,
                            "#d8576b"
                          ],
                          [
                            0.6666666666666666,
                            "#ed7953"
                          ],
                          [
                            0.7777777777777778,
                            "#fb9f3a"
                          ],
                          [
                            0.8888888888888888,
                            "#fdca26"
                          ],
                          [
                            1,
                            "#f0f921"
                          ]
                        ],
                        "type": "histogram2dcontour"
                      }
                    ],
                    "mesh3d": [
                      {
                        "colorbar": {
                          "outlinewidth": 0,
                          "ticks": ""
                        },
                        "type": "mesh3d"
                      }
                    ],
                    "parcoords": [
                      {
                        "line": {
                          "colorbar": {
                            "outlinewidth": 0,
                            "ticks": ""
                          }
                        },
                        "type": "parcoords"
                      }
                    ],
                    "pie": [
                      {
                        "automargin": true,
                        "type": "pie"
                      }
                    ],
                    "scatter": [
                      {
                        "marker": {
                          "colorbar": {
                            "outlinewidth": 0,
                            "ticks": ""
                          }
                        },
                        "type": "scatter"
                      }
                    ],
                    "scatter3d": [
                      {
                        "line": {
                          "colorbar": {
                            "outlinewidth": 0,
                            "ticks": ""
                          }
                        },
                        "marker": {
                          "colorbar": {
                            "outlinewidth": 0,
                            "ticks": ""
                          }
                        },
                        "type": "scatter3d"
                      }
                    ],
                    "scattercarpet": [
                      {
                        "marker": {
                          "colorbar": {
                            "outlinewidth": 0,
                            "ticks": ""
                          }
                        },
                        "type": "scattercarpet"
                      }
                    ],
                    "scattergeo": [
                      {
                        "marker": {
                          "colorbar": {
                            "outlinewidth": 0,
                            "ticks": ""
                          }
                        },
                        "type": "scattergeo"
                      }
                    ],
                    "scattergl": [
                      {
                        "marker": {
                          "colorbar": {
                            "outlinewidth": 0,
                            "ticks": ""
                          }
                        },
                        "type": "scattergl"
                      }
                    ],
                    "scattermapbox": [
                      {
                        "marker": {
                          "colorbar": {
                            "outlinewidth": 0,
                            "ticks": ""
                          }
                        },
                        "type": "scattermapbox"
                      }
                    ],
                    "scatterpolar": [
                      {
                        "marker": {
                          "colorbar": {
                            "outlinewidth": 0,
                            "ticks": ""
                          }
                        },
                        "type": "scatterpolar"
                      }
                    ],
                    "scatterpolargl": [
                      {
                        "marker": {
                          "colorbar": {
                            "outlinewidth": 0,
                            "ticks": ""
                          }
                        },
                        "type": "scatterpolargl"
                      }
                    ],
                    "scatterternary": [
                      {
                        "marker": {
                          "colorbar": {
                            "outlinewidth": 0,
                            "ticks": ""
                          }
                        },
                        "type": "scatterternary"
                      }
                    ],
                    "surface": [
                      {
                        "colorbar": {
                          "outlinewidth": 0,
                          "ticks": ""
                        },
                        "colorscale": [
                          [
                            0,
                            "#0d0887"
                          ],
                          [
                            0.1111111111111111,
                            "#46039f"
                          ],
                          [
                            0.2222222222222222,
                            "#7201a8"
                          ],
                          [
                            0.3333333333333333,
                            "#9c179e"
                          ],
                          [
                            0.4444444444444444,
                            "#bd3786"
                          ],
                          [
                            0.5555555555555556,
                            "#d8576b"
                          ],
                          [
                            0.6666666666666666,
                            "#ed7953"
                          ],
                          [
                            0.7777777777777778,
                            "#fb9f3a"
                          ],
                          [
                            0.8888888888888888,
                            "#fdca26"
                          ],
                          [
                            1,
                            "#f0f921"
                          ]
                        ],
                        "type": "surface"
                      }
                    ],
                    "table": [
                      {
                        "cells": {
                          "fill": {
                            "color": "#EBF0F8"
                          },
                          "line": {
                            "color": "white"
                          }
                        },
                        "header": {
                          "fill": {
                            "color": "#C8D4E3"
                          },
                          "line": {
                            "color": "white"
                          }
                        },
                        "type": "table"
                      }
                    ]
                  },
                  "layout": {
                    "annotationdefaults": {
                      "arrowcolor": "#2a3f5f",
                      "arrowhead": 0,
                      "arrowwidth": 1
                    },
                    "autotypenumbers": "strict",
                    "coloraxis": {
                      "colorbar": {
                        "outlinewidth": 0,
                        "ticks": ""
                      }
                    },
                    "colorscale": {
                      "diverging": [
                        [
                          0,
                          "#8e0152"
                        ],
                        [
                          0.1,
                          "#c51b7d"
                        ],
                        [
                          0.2,
                          "#de77ae"
                        ],
                        [
                          0.3,
                          "#f1b6da"
                        ],
                        [
                          0.4,
                          "#fde0ef"
                        ],
                        [
                          0.5,
                          "#f7f7f7"
                        ],
                        [
                          0.6,
                          "#e6f5d0"
                        ],
                        [
                          0.7,
                          "#b8e186"
                        ],
                        [
                          0.8,
                          "#7fbc41"
                        ],
                        [
                          0.9,
                          "#4d9221"
                        ],
                        [
                          1,
                          "#276419"
                        ]
                      ],
                      "sequential": [
                        [
                          0,
                          "#0d0887"
                        ],
                        [
                          0.1111111111111111,
                          "#46039f"
                        ],
                        [
                          0.2222222222222222,
                          "#7201a8"
                        ],
                        [
                          0.3333333333333333,
                          "#9c179e"
                        ],
                        [
                          0.4444444444444444,
                          "#bd3786"
                        ],
                        [
                          0.5555555555555556,
                          "#d8576b"
                        ],
                        [
                          0.6666666666666666,
                          "#ed7953"
                        ],
                        [
                          0.7777777777777778,
                          "#fb9f3a"
                        ],
                        [
                          0.8888888888888888,
                          "#fdca26"
                        ],
                        [
                          1,
                          "#f0f921"
                        ]
                      ],
                      "sequentialminus": [
                        [
                          0,
                          "#0d0887"
                        ],
                        [
                          0.1111111111111111,
                          "#46039f"
                        ],
                        [
                          0.2222222222222222,
                          "#7201a8"
                        ],
                        [
                          0.3333333333333333,
                          "#9c179e"
                        ],
                        [
                          0.4444444444444444,
                          "#bd3786"
                        ],
                        [
                          0.5555555555555556,
                          "#d8576b"
                        ],
                        [
                          0.6666666666666666,
                          "#ed7953"
                        ],
                        [
                          0.7777777777777778,
                          "#fb9f3a"
                        ],
                        [
                          0.8888888888888888,
                          "#fdca26"
                        ],
                        [
                          1,
                          "#f0f921"
                        ]
                      ]
                    },
                    "colorway": [
                      "#636efa",
                      "#EF553B",
                      "#00cc96",
                      "#ab63fa",
                      "#FFA15A",
                      "#19d3f3",
                      "#FF6692",
                      "#B6E880",
                      "#FF97FF",
                      "#FECB52"
                    ],
                    "font": {
                      "color": "#2a3f5f"
                    },
                    "geo": {
                      "bgcolor": "white",
                      "lakecolor": "white",
                      "landcolor": "#E5ECF6",
                      "showlakes": true,
                      "showland": true,
                      "subunitcolor": "white"
                    },
                    "hoverlabel": {
                      "align": "left"
                    },
                    "hovermode": "closest",
                    "mapbox": {
                      "style": "light"
                    },
                    "paper_bgcolor": "white",
                    "plot_bgcolor": "#E5ECF6",
                    "polar": {
                      "angularaxis": {
                        "gridcolor": "white",
                        "linecolor": "white",
                        "ticks": ""
                      },
                      "bgcolor": "#E5ECF6",
                      "radialaxis": {
                        "gridcolor": "white",
                        "linecolor": "white",
                        "ticks": ""
                      }
                    },
                    "scene": {
                      "xaxis": {
                        "backgroundcolor": "#E5ECF6",
                        "gridcolor": "white",
                        "gridwidth": 2,
                        "linecolor": "white",
                        "showbackground": true,
                        "ticks": "",
                        "zerolinecolor": "white"
                      },
                      "yaxis": {
                        "backgroundcolor": "#E5ECF6",
                        "gridcolor": "white",
                        "gridwidth": 2,
                        "linecolor": "white",
                        "showbackground": true,
                        "ticks": "",
                        "zerolinecolor": "white"
                      },
                      "zaxis": {
                        "backgroundcolor": "#E5ECF6",
                        "gridcolor": "white",
                        "gridwidth": 2,
                        "linecolor": "white",
                        "showbackground": true,
                        "ticks": "",
                        "zerolinecolor": "white"
                      }
                    },
                    "shapedefaults": {
                      "line": {
                        "color": "#2a3f5f"
                      }
                    },
                    "ternary": {
                      "aaxis": {
                        "gridcolor": "white",
                        "linecolor": "white",
                        "ticks": ""
                      },
                      "baxis": {
                        "gridcolor": "white",
                        "linecolor": "white",
                        "ticks": ""
                      },
                      "bgcolor": "#E5ECF6",
                      "caxis": {
                        "gridcolor": "white",
                        "linecolor": "white",
                        "ticks": ""
                      }
                    },
                    "title": {
                      "x": 0.05
                    },
                    "xaxis": {
                      "automargin": true,
                      "gridcolor": "white",
                      "linecolor": "white",
                      "ticks": "",
                      "title": {
                        "standoff": 15
                      },
                      "zerolinecolor": "white",
                      "zerolinewidth": 2
                    },
                    "yaxis": {
                      "automargin": true,
                      "gridcolor": "white",
                      "linecolor": "white",
                      "ticks": "",
                      "title": {
                        "standoff": 15
                      },
                      "zerolinecolor": "white",
                      "zerolinewidth": 2
                    }
                  }
                },
                "title": {
                  "text": "Clusters wrt Age, Income and Spending Scores"
                }
              }
            },
            "text/html": [
              "<div>                            <div id=\"bd0caacb-d175-4193-9a66-5b6ef8adfd24\" class=\"plotly-graph-div\" style=\"height:525px; width:100%;\"></div>            <script type=\"text/javascript\">                require([\"plotly\"], function(Plotly) {                    window.PLOTLYENV=window.PLOTLYENV || {};                                    if (document.getElementById(\"bd0caacb-d175-4193-9a66-5b6ef8adfd24\")) {                    Plotly.newPlot(                        \"bd0caacb-d175-4193-9a66-5b6ef8adfd24\",                        [{\"marker\": {\"color\": [4, 3, 4, 3, 4, 3, 4, 3, 4, 3, 4, 3, 4, 3, 4, 3, 4, 3, 4, 3, 4, 3, 4, 3, 4, 3, 4, 3, 4, 3, 4, 3, 4, 3, 4, 3, 4, 3, 4, 3, 0, 3, 0, 5, 4, 3, 0, 5, 5, 5, 0, 5, 5, 0, 0, 0, 0, 0, 5, 0, 0, 5, 0, 0, 0, 5, 0, 0, 5, 5, 0, 0, 0, 0, 0, 5, 0, 5, 5, 0, 0, 5, 0, 0, 5, 0, 0, 5, 5, 0, 0, 5, 0, 5, 5, 5, 0, 5, 0, 5, 5, 0, 0, 5, 0, 5, 0, 0, 0, 0, 0, 5, 5, 5, 5, 5, 0, 0, 0, 0, 5, 5, 5, 1, 5, 1, 2, 1, 2, 1, 2, 1, 5, 1, 2, 1, 2, 1, 2, 1, 2, 1, 5, 1, 2, 1, 2, 1, 2, 1, 2, 1, 2, 1, 2, 1, 2, 1, 2, 1, 2, 1, 2, 1, 2, 1, 2, 1, 2, 1, 2, 1, 2, 1, 2, 1, 2, 1, 2, 1, 2, 1, 2, 1, 2, 1, 2, 1, 2, 1, 2, 1, 2, 1, 2, 1, 2, 1, 2, 1], \"line\": {\"color\": [4, 3, 4, 3, 4, 3, 4, 3, 4, 3, 4, 3, 4, 3, 4, 3, 4, 3, 4, 3, 4, 3, 4, 3, 4, 3, 4, 3, 4, 3, 4, 3, 4, 3, 4, 3, 4, 3, 4, 3, 0, 3, 0, 5, 4, 3, 0, 5, 5, 5, 0, 5, 5, 0, 0, 0, 0, 0, 5, 0, 0, 5, 0, 0, 0, 5, 0, 0, 5, 5, 0, 0, 0, 0, 0, 5, 0, 5, 5, 0, 0, 5, 0, 0, 5, 0, 0, 5, 5, 0, 0, 5, 0, 5, 5, 5, 0, 5, 0, 5, 5, 0, 0, 5, 0, 5, 0, 0, 0, 0, 0, 5, 5, 5, 5, 5, 0, 0, 0, 0, 5, 5, 5, 1, 5, 1, 2, 1, 2, 1, 2, 1, 5, 1, 2, 1, 2, 1, 2, 1, 2, 1, 5, 1, 2, 1, 2, 1, 2, 1, 2, 1, 2, 1, 2, 1, 2, 1, 2, 1, 2, 1, 2, 1, 2, 1, 2, 1, 2, 1, 2, 1, 2, 1, 2, 1, 2, 1, 2, 1, 2, 1, 2, 1, 2, 1, 2, 1, 2, 1, 2, 1, 2, 1, 2, 1, 2, 1, 2, 1], \"width\": 10}, \"opacity\": 0.8, \"size\": 8}, \"mode\": \"markers\", \"type\": \"scatter3d\", \"x\": [19, 21, 20, 23, 31, 22, 35, 23, 64, 30, 67, 35, 58, 24, 37, 22, 35, 20, 52, 35, 35, 25, 46, 31, 54, 29, 45, 35, 40, 23, 60, 21, 53, 18, 49, 21, 42, 30, 36, 20, 65, 24, 48, 31, 49, 24, 50, 27, 29, 31, 49, 33, 31, 59, 50, 47, 51, 69, 27, 53, 70, 19, 67, 54, 63, 18, 43, 68, 19, 32, 70, 47, 60, 60, 59, 26, 45, 40, 23, 49, 57, 38, 67, 46, 21, 48, 55, 22, 34, 50, 68, 18, 48, 40, 32, 24, 47, 27, 48, 20, 23, 49, 67, 26, 49, 21, 66, 54, 68, 66, 65, 19, 38, 19, 18, 19, 63, 49, 51, 50, 27, 38, 40, 39, 23, 31, 43, 40, 59, 38, 47, 39, 25, 31, 20, 29, 44, 32, 19, 35, 57, 32, 28, 32, 25, 28, 48, 32, 34, 34, 43, 39, 44, 38, 47, 27, 37, 30, 34, 30, 56, 29, 19, 31, 50, 36, 42, 33, 36, 32, 40, 28, 36, 36, 52, 30, 58, 27, 59, 35, 37, 32, 46, 29, 41, 30, 54, 28, 41, 36, 34, 32, 33, 38, 47, 35, 45, 32, 32, 30], \"y\": [39, 81, 6, 77, 40, 76, 6, 94, 3, 72, 14, 99, 15, 77, 13, 79, 35, 66, 29, 98, 35, 73, 5, 73, 14, 82, 32, 61, 31, 87, 4, 73, 4, 92, 14, 81, 17, 73, 26, 75, 35, 92, 36, 61, 28, 65, 55, 47, 42, 42, 52, 60, 54, 60, 45, 41, 50, 46, 51, 46, 56, 55, 52, 59, 51, 59, 50, 48, 59, 47, 55, 42, 49, 56, 47, 54, 53, 48, 52, 42, 51, 55, 41, 44, 57, 46, 58, 55, 60, 46, 55, 41, 49, 40, 42, 52, 47, 50, 42, 49, 41, 48, 59, 55, 56, 42, 50, 46, 43, 48, 52, 54, 42, 46, 48, 50, 43, 59, 43, 57, 56, 40, 58, 91, 29, 77, 35, 95, 11, 75, 9, 75, 34, 71, 5, 88, 7, 73, 10, 72, 5, 93, 40, 87, 12, 97, 36, 74, 22, 90, 17, 88, 20, 76, 16, 89, 1, 78, 1, 73, 35, 83, 5, 93, 26, 75, 20, 95, 27, 63, 13, 75, 10, 92, 13, 86, 15, 69, 14, 90, 32, 86, 15, 88, 39, 97, 24, 68, 17, 85, 23, 69, 8, 91, 16, 79, 28, 74, 18, 83], \"z\": [15, 15, 16, 16, 17, 17, 18, 18, 19, 19, 19, 19, 20, 20, 20, 20, 21, 21, 23, 23, 24, 24, 25, 25, 28, 28, 28, 28, 29, 29, 30, 30, 33, 33, 33, 33, 34, 34, 37, 37, 38, 38, 39, 39, 39, 39, 40, 40, 40, 40, 42, 42, 43, 43, 43, 43, 44, 44, 46, 46, 46, 46, 47, 47, 48, 48, 48, 48, 48, 48, 49, 49, 50, 50, 54, 54, 54, 54, 54, 54, 54, 54, 54, 54, 54, 54, 57, 57, 58, 58, 59, 59, 60, 60, 60, 60, 60, 60, 61, 61, 62, 62, 62, 62, 62, 62, 63, 63, 63, 63, 63, 63, 64, 64, 65, 65, 65, 65, 67, 67, 67, 67, 69, 69, 70, 70, 71, 71, 71, 71, 71, 71, 72, 72, 73, 73, 73, 73, 74, 74, 75, 75, 76, 76, 77, 77, 77, 77, 78, 78, 78, 78, 78, 78, 78, 78, 78, 78, 78, 78, 79, 79, 81, 81, 85, 85, 86, 86, 87, 87, 87, 87, 87, 87, 88, 88, 88, 88, 93, 93, 97, 97, 98, 98, 99, 99, 101, 101, 103, 103, 103, 103, 113, 113, 120, 120, 126, 126, 137, 137]}],                        {\"scene\": {\"xaxis\": {\"title\": {\"text\": \"Age\"}}, \"yaxis\": {\"title\": {\"text\": \"Spending Score\"}}, \"zaxis\": {\"title\": {\"text\": \"Annual Income\"}}}, \"template\": {\"data\": {\"bar\": [{\"error_x\": {\"color\": \"#2a3f5f\"}, \"error_y\": {\"color\": \"#2a3f5f\"}, \"marker\": {\"line\": {\"color\": \"#E5ECF6\", \"width\": 0.5}}, \"type\": \"bar\"}], \"barpolar\": [{\"marker\": {\"line\": {\"color\": \"#E5ECF6\", \"width\": 0.5}}, \"type\": \"barpolar\"}], \"carpet\": [{\"aaxis\": {\"endlinecolor\": \"#2a3f5f\", \"gridcolor\": \"white\", \"linecolor\": \"white\", \"minorgridcolor\": \"white\", \"startlinecolor\": \"#2a3f5f\"}, \"baxis\": {\"endlinecolor\": \"#2a3f5f\", \"gridcolor\": \"white\", \"linecolor\": \"white\", \"minorgridcolor\": \"white\", \"startlinecolor\": \"#2a3f5f\"}, \"type\": \"carpet\"}], \"choropleth\": [{\"colorbar\": {\"outlinewidth\": 0, \"ticks\": \"\"}, \"type\": \"choropleth\"}], \"contour\": [{\"colorbar\": {\"outlinewidth\": 0, \"ticks\": \"\"}, \"colorscale\": [[0.0, \"#0d0887\"], [0.1111111111111111, \"#46039f\"], [0.2222222222222222, \"#7201a8\"], [0.3333333333333333, \"#9c179e\"], [0.4444444444444444, \"#bd3786\"], [0.5555555555555556, \"#d8576b\"], [0.6666666666666666, \"#ed7953\"], [0.7777777777777778, \"#fb9f3a\"], [0.8888888888888888, \"#fdca26\"], [1.0, \"#f0f921\"]], \"type\": \"contour\"}], \"contourcarpet\": [{\"colorbar\": {\"outlinewidth\": 0, \"ticks\": \"\"}, \"type\": \"contourcarpet\"}], \"heatmap\": [{\"colorbar\": {\"outlinewidth\": 0, \"ticks\": \"\"}, \"colorscale\": [[0.0, \"#0d0887\"], [0.1111111111111111, \"#46039f\"], [0.2222222222222222, \"#7201a8\"], [0.3333333333333333, \"#9c179e\"], [0.4444444444444444, \"#bd3786\"], [0.5555555555555556, \"#d8576b\"], [0.6666666666666666, \"#ed7953\"], [0.7777777777777778, \"#fb9f3a\"], [0.8888888888888888, \"#fdca26\"], [1.0, \"#f0f921\"]], \"type\": \"heatmap\"}], \"heatmapgl\": [{\"colorbar\": {\"outlinewidth\": 0, \"ticks\": \"\"}, \"colorscale\": [[0.0, \"#0d0887\"], [0.1111111111111111, \"#46039f\"], [0.2222222222222222, \"#7201a8\"], [0.3333333333333333, \"#9c179e\"], [0.4444444444444444, \"#bd3786\"], [0.5555555555555556, \"#d8576b\"], [0.6666666666666666, \"#ed7953\"], [0.7777777777777778, \"#fb9f3a\"], [0.8888888888888888, \"#fdca26\"], [1.0, \"#f0f921\"]], \"type\": \"heatmapgl\"}], \"histogram\": [{\"marker\": {\"colorbar\": {\"outlinewidth\": 0, \"ticks\": \"\"}}, \"type\": \"histogram\"}], \"histogram2d\": [{\"colorbar\": {\"outlinewidth\": 0, \"ticks\": \"\"}, \"colorscale\": [[0.0, \"#0d0887\"], [0.1111111111111111, \"#46039f\"], [0.2222222222222222, \"#7201a8\"], [0.3333333333333333, \"#9c179e\"], [0.4444444444444444, \"#bd3786\"], [0.5555555555555556, \"#d8576b\"], [0.6666666666666666, \"#ed7953\"], [0.7777777777777778, \"#fb9f3a\"], [0.8888888888888888, \"#fdca26\"], [1.0, \"#f0f921\"]], \"type\": \"histogram2d\"}], \"histogram2dcontour\": [{\"colorbar\": {\"outlinewidth\": 0, \"ticks\": \"\"}, \"colorscale\": [[0.0, \"#0d0887\"], [0.1111111111111111, \"#46039f\"], [0.2222222222222222, \"#7201a8\"], [0.3333333333333333, \"#9c179e\"], [0.4444444444444444, \"#bd3786\"], [0.5555555555555556, \"#d8576b\"], [0.6666666666666666, \"#ed7953\"], [0.7777777777777778, \"#fb9f3a\"], [0.8888888888888888, \"#fdca26\"], [1.0, \"#f0f921\"]], \"type\": \"histogram2dcontour\"}], \"mesh3d\": [{\"colorbar\": {\"outlinewidth\": 0, \"ticks\": \"\"}, \"type\": \"mesh3d\"}], \"parcoords\": [{\"line\": {\"colorbar\": {\"outlinewidth\": 0, \"ticks\": \"\"}}, \"type\": \"parcoords\"}], \"pie\": [{\"automargin\": true, \"type\": \"pie\"}], \"scatter\": [{\"marker\": {\"colorbar\": {\"outlinewidth\": 0, \"ticks\": \"\"}}, \"type\": \"scatter\"}], \"scatter3d\": [{\"line\": {\"colorbar\": {\"outlinewidth\": 0, \"ticks\": \"\"}}, \"marker\": {\"colorbar\": {\"outlinewidth\": 0, \"ticks\": \"\"}}, \"type\": \"scatter3d\"}], \"scattercarpet\": [{\"marker\": {\"colorbar\": {\"outlinewidth\": 0, \"ticks\": \"\"}}, \"type\": \"scattercarpet\"}], \"scattergeo\": [{\"marker\": {\"colorbar\": {\"outlinewidth\": 0, \"ticks\": \"\"}}, \"type\": \"scattergeo\"}], \"scattergl\": [{\"marker\": {\"colorbar\": {\"outlinewidth\": 0, \"ticks\": \"\"}}, \"type\": \"scattergl\"}], \"scattermapbox\": [{\"marker\": {\"colorbar\": {\"outlinewidth\": 0, \"ticks\": \"\"}}, \"type\": \"scattermapbox\"}], \"scatterpolar\": [{\"marker\": {\"colorbar\": {\"outlinewidth\": 0, \"ticks\": \"\"}}, \"type\": \"scatterpolar\"}], \"scatterpolargl\": [{\"marker\": {\"colorbar\": {\"outlinewidth\": 0, \"ticks\": \"\"}}, \"type\": \"scatterpolargl\"}], \"scatterternary\": [{\"marker\": {\"colorbar\": {\"outlinewidth\": 0, \"ticks\": \"\"}}, \"type\": \"scatterternary\"}], \"surface\": [{\"colorbar\": {\"outlinewidth\": 0, \"ticks\": \"\"}, \"colorscale\": [[0.0, \"#0d0887\"], [0.1111111111111111, \"#46039f\"], [0.2222222222222222, \"#7201a8\"], [0.3333333333333333, \"#9c179e\"], [0.4444444444444444, \"#bd3786\"], [0.5555555555555556, \"#d8576b\"], [0.6666666666666666, \"#ed7953\"], [0.7777777777777778, \"#fb9f3a\"], [0.8888888888888888, \"#fdca26\"], [1.0, \"#f0f921\"]], \"type\": \"surface\"}], \"table\": [{\"cells\": {\"fill\": {\"color\": \"#EBF0F8\"}, \"line\": {\"color\": \"white\"}}, \"header\": {\"fill\": {\"color\": \"#C8D4E3\"}, \"line\": {\"color\": \"white\"}}, \"type\": \"table\"}]}, \"layout\": {\"annotationdefaults\": {\"arrowcolor\": \"#2a3f5f\", \"arrowhead\": 0, \"arrowwidth\": 1}, \"autotypenumbers\": \"strict\", \"coloraxis\": {\"colorbar\": {\"outlinewidth\": 0, \"ticks\": \"\"}}, \"colorscale\": {\"diverging\": [[0, \"#8e0152\"], [0.1, \"#c51b7d\"], [0.2, \"#de77ae\"], [0.3, \"#f1b6da\"], [0.4, \"#fde0ef\"], [0.5, \"#f7f7f7\"], [0.6, \"#e6f5d0\"], [0.7, \"#b8e186\"], [0.8, \"#7fbc41\"], [0.9, \"#4d9221\"], [1, \"#276419\"]], \"sequential\": [[0.0, \"#0d0887\"], [0.1111111111111111, \"#46039f\"], [0.2222222222222222, \"#7201a8\"], [0.3333333333333333, \"#9c179e\"], [0.4444444444444444, \"#bd3786\"], [0.5555555555555556, \"#d8576b\"], [0.6666666666666666, \"#ed7953\"], [0.7777777777777778, \"#fb9f3a\"], [0.8888888888888888, \"#fdca26\"], [1.0, \"#f0f921\"]], \"sequentialminus\": [[0.0, \"#0d0887\"], [0.1111111111111111, \"#46039f\"], [0.2222222222222222, \"#7201a8\"], [0.3333333333333333, \"#9c179e\"], [0.4444444444444444, \"#bd3786\"], [0.5555555555555556, \"#d8576b\"], [0.6666666666666666, \"#ed7953\"], [0.7777777777777778, \"#fb9f3a\"], [0.8888888888888888, \"#fdca26\"], [1.0, \"#f0f921\"]]}, \"colorway\": [\"#636efa\", \"#EF553B\", \"#00cc96\", \"#ab63fa\", \"#FFA15A\", \"#19d3f3\", \"#FF6692\", \"#B6E880\", \"#FF97FF\", \"#FECB52\"], \"font\": {\"color\": \"#2a3f5f\"}, \"geo\": {\"bgcolor\": \"white\", \"lakecolor\": \"white\", \"landcolor\": \"#E5ECF6\", \"showlakes\": true, \"showland\": true, \"subunitcolor\": \"white\"}, \"hoverlabel\": {\"align\": \"left\"}, \"hovermode\": \"closest\", \"mapbox\": {\"style\": \"light\"}, \"paper_bgcolor\": \"white\", \"plot_bgcolor\": \"#E5ECF6\", \"polar\": {\"angularaxis\": {\"gridcolor\": \"white\", \"linecolor\": \"white\", \"ticks\": \"\"}, \"bgcolor\": \"#E5ECF6\", \"radialaxis\": {\"gridcolor\": \"white\", \"linecolor\": \"white\", \"ticks\": \"\"}}, \"scene\": {\"xaxis\": {\"backgroundcolor\": \"#E5ECF6\", \"gridcolor\": \"white\", \"gridwidth\": 2, \"linecolor\": \"white\", \"showbackground\": true, \"ticks\": \"\", \"zerolinecolor\": \"white\"}, \"yaxis\": {\"backgroundcolor\": \"#E5ECF6\", \"gridcolor\": \"white\", \"gridwidth\": 2, \"linecolor\": \"white\", \"showbackground\": true, \"ticks\": \"\", \"zerolinecolor\": \"white\"}, \"zaxis\": {\"backgroundcolor\": \"#E5ECF6\", \"gridcolor\": \"white\", \"gridwidth\": 2, \"linecolor\": \"white\", \"showbackground\": true, \"ticks\": \"\", \"zerolinecolor\": \"white\"}}, \"shapedefaults\": {\"line\": {\"color\": \"#2a3f5f\"}}, \"ternary\": {\"aaxis\": {\"gridcolor\": \"white\", \"linecolor\": \"white\", \"ticks\": \"\"}, \"baxis\": {\"gridcolor\": \"white\", \"linecolor\": \"white\", \"ticks\": \"\"}, \"bgcolor\": \"#E5ECF6\", \"caxis\": {\"gridcolor\": \"white\", \"linecolor\": \"white\", \"ticks\": \"\"}}, \"title\": {\"x\": 0.05}, \"xaxis\": {\"automargin\": true, \"gridcolor\": \"white\", \"linecolor\": \"white\", \"ticks\": \"\", \"title\": {\"standoff\": 15}, \"zerolinecolor\": \"white\", \"zerolinewidth\": 2}, \"yaxis\": {\"automargin\": true, \"gridcolor\": \"white\", \"linecolor\": \"white\", \"ticks\": \"\", \"title\": {\"standoff\": 15}, \"zerolinecolor\": \"white\", \"zerolinewidth\": 2}}}, \"title\": {\"text\": \"Clusters wrt Age, Income and Spending Scores\"}},                        {\"responsive\": true}                    ).then(function(){\n",
              "                            \n",
              "var gd = document.getElementById('bd0caacb-d175-4193-9a66-5b6ef8adfd24');\n",
              "var x = new MutationObserver(function (mutations, observer) {{\n",
              "        var display = window.getComputedStyle(gd).display;\n",
              "        if (!display || display === 'none') {{\n",
              "            console.log([gd, 'removed!']);\n",
              "            Plotly.purge(gd);\n",
              "            observer.disconnect();\n",
              "        }}\n",
              "}});\n",
              "\n",
              "// Listen for the removal of the full notebook cells\n",
              "var notebookContainer = gd.closest('#notebook-container');\n",
              "if (notebookContainer) {{\n",
              "    x.observe(notebookContainer, {childList: true});\n",
              "}}\n",
              "\n",
              "// Listen for the clearing of the current output cell\n",
              "var outputEl = gd.closest('.output');\n",
              "if (outputEl) {{\n",
              "    x.observe(outputEl, {childList: true});\n",
              "}}\n",
              "\n",
              "                        })                };                });            </script>        </div>"
            ]
          },
          "metadata": {
            "tags": []
          }
        }
      ]
    },
    {
      "cell_type": "code",
      "metadata": {
        "id": "Ei9R218uSViB"
      },
      "source": [
        ""
      ],
      "execution_count": null,
      "outputs": []
    }
  ]
}
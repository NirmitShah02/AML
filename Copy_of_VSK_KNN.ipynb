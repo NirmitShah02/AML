{
  "nbformat": 4,
  "nbformat_minor": 0,
  "metadata": {
    "kernelspec": {
      "display_name": "Python 3",
      "language": "python",
      "name": "python3"
    },
    "language_info": {
      "codemirror_mode": {
        "name": "ipython",
        "version": 3
      },
      "file_extension": ".py",
      "mimetype": "text/x-python",
      "name": "python",
      "nbconvert_exporter": "python",
      "pygments_lexer": "ipython3",
      "version": "3.8.5"
    },
    "colab": {
      "name": "Copy of VSK_KNN.ipynb",
      "provenance": []
    }
  },
  "cells": [
    {
      "cell_type": "markdown",
      "metadata": {
        "id": "rYNFask8SVg2"
      },
      "source": [
        "### Implementation of KNN Algorithm\n",
        "### Experiment Name: To predict and classify the T-Shirt Size of a customer based on his / her height and weight features i.e; 161 Height and 61 weight\n"
      ]
    },
    {
      "cell_type": "code",
      "metadata": {
        "id": "0XmozVYRSVhH"
      },
      "source": [
        "# Importing the libraries\n",
        "import numpy as np\n",
        "import matplotlib.pyplot as plt\n",
        "import pandas as pd #Importing the dataset\n",
        "\n",
        "# compute classification accuracy\n",
        "from sklearn import metrics\n"
      ],
      "execution_count": null,
      "outputs": []
    },
    {
      "cell_type": "code",
      "metadata": {
        "id": "bX7I1ptZSVhJ",
        "outputId": "aa50722f-7a9f-4fe5-af8e-e58b4aa9c262"
      },
      "source": [
        "# Step-1 Reading the dataset for KNN problem\n",
        "\n",
        "dataset = pd.read_csv('VSK_KNN.csv')\n",
        "dataset"
      ],
      "execution_count": null,
      "outputs": [
        {
          "output_type": "execute_result",
          "data": {
            "text/html": [
              "<div>\n",
              "<style scoped>\n",
              "    .dataframe tbody tr th:only-of-type {\n",
              "        vertical-align: middle;\n",
              "    }\n",
              "\n",
              "    .dataframe tbody tr th {\n",
              "        vertical-align: top;\n",
              "    }\n",
              "\n",
              "    .dataframe thead th {\n",
              "        text-align: right;\n",
              "    }\n",
              "</style>\n",
              "<table border=\"1\" class=\"dataframe\">\n",
              "  <thead>\n",
              "    <tr style=\"text-align: right;\">\n",
              "      <th></th>\n",
              "      <th>Height (in cms)</th>\n",
              "      <th>Weight (in kgs)</th>\n",
              "      <th>T Shirt Size</th>\n",
              "    </tr>\n",
              "  </thead>\n",
              "  <tbody>\n",
              "    <tr>\n",
              "      <th>0</th>\n",
              "      <td>158</td>\n",
              "      <td>58</td>\n",
              "      <td>M</td>\n",
              "    </tr>\n",
              "    <tr>\n",
              "      <th>1</th>\n",
              "      <td>158</td>\n",
              "      <td>59</td>\n",
              "      <td>M</td>\n",
              "    </tr>\n",
              "    <tr>\n",
              "      <th>2</th>\n",
              "      <td>158</td>\n",
              "      <td>63</td>\n",
              "      <td>M</td>\n",
              "    </tr>\n",
              "    <tr>\n",
              "      <th>3</th>\n",
              "      <td>160</td>\n",
              "      <td>59</td>\n",
              "      <td>M</td>\n",
              "    </tr>\n",
              "    <tr>\n",
              "      <th>4</th>\n",
              "      <td>160</td>\n",
              "      <td>60</td>\n",
              "      <td>M</td>\n",
              "    </tr>\n",
              "    <tr>\n",
              "      <th>5</th>\n",
              "      <td>163</td>\n",
              "      <td>60</td>\n",
              "      <td>M</td>\n",
              "    </tr>\n",
              "    <tr>\n",
              "      <th>6</th>\n",
              "      <td>163</td>\n",
              "      <td>61</td>\n",
              "      <td>M</td>\n",
              "    </tr>\n",
              "    <tr>\n",
              "      <th>7</th>\n",
              "      <td>160</td>\n",
              "      <td>64</td>\n",
              "      <td>L</td>\n",
              "    </tr>\n",
              "    <tr>\n",
              "      <th>8</th>\n",
              "      <td>163</td>\n",
              "      <td>64</td>\n",
              "      <td>L</td>\n",
              "    </tr>\n",
              "    <tr>\n",
              "      <th>9</th>\n",
              "      <td>165</td>\n",
              "      <td>61</td>\n",
              "      <td>L</td>\n",
              "    </tr>\n",
              "    <tr>\n",
              "      <th>10</th>\n",
              "      <td>165</td>\n",
              "      <td>62</td>\n",
              "      <td>L</td>\n",
              "    </tr>\n",
              "    <tr>\n",
              "      <th>11</th>\n",
              "      <td>165</td>\n",
              "      <td>65</td>\n",
              "      <td>L</td>\n",
              "    </tr>\n",
              "    <tr>\n",
              "      <th>12</th>\n",
              "      <td>168</td>\n",
              "      <td>62</td>\n",
              "      <td>L</td>\n",
              "    </tr>\n",
              "    <tr>\n",
              "      <th>13</th>\n",
              "      <td>168</td>\n",
              "      <td>63</td>\n",
              "      <td>L</td>\n",
              "    </tr>\n",
              "    <tr>\n",
              "      <th>14</th>\n",
              "      <td>168</td>\n",
              "      <td>66</td>\n",
              "      <td>L</td>\n",
              "    </tr>\n",
              "    <tr>\n",
              "      <th>15</th>\n",
              "      <td>170</td>\n",
              "      <td>63</td>\n",
              "      <td>L</td>\n",
              "    </tr>\n",
              "    <tr>\n",
              "      <th>16</th>\n",
              "      <td>170</td>\n",
              "      <td>64</td>\n",
              "      <td>L</td>\n",
              "    </tr>\n",
              "    <tr>\n",
              "      <th>17</th>\n",
              "      <td>170</td>\n",
              "      <td>68</td>\n",
              "      <td>L</td>\n",
              "    </tr>\n",
              "  </tbody>\n",
              "</table>\n",
              "</div>"
            ],
            "text/plain": [
              "    Height (in cms)  Weight (in kgs) T Shirt Size\n",
              "0               158               58            M\n",
              "1               158               59            M\n",
              "2               158               63            M\n",
              "3               160               59            M\n",
              "4               160               60            M\n",
              "5               163               60            M\n",
              "6               163               61            M\n",
              "7               160               64            L\n",
              "8               163               64            L\n",
              "9               165               61            L\n",
              "10              165               62            L\n",
              "11              165               65            L\n",
              "12              168               62            L\n",
              "13              168               63            L\n",
              "14              168               66            L\n",
              "15              170               63            L\n",
              "16              170               64            L\n",
              "17              170               68            L"
            ]
          },
          "metadata": {
            "tags": []
          },
          "execution_count": 2
        }
      ]
    },
    {
      "cell_type": "code",
      "metadata": {
        "id": "aH-VKFRhSVhL"
      },
      "source": [
        "# We are getting the data for Independent and dependent variables\n",
        "X = dataset.iloc[:, [0, 1]].values # Independent variable (Height and weight)\n",
        "y = dataset.iloc[:, 2].values # Dependent variable or target class (T-Shirt Size)"
      ],
      "execution_count": null,
      "outputs": []
    },
    {
      "cell_type": "code",
      "metadata": {
        "id": "hlaDEejmSVhL",
        "outputId": "66d6ed1b-2801-40f9-f979-5569a058b30c"
      },
      "source": [
        "X"
      ],
      "execution_count": null,
      "outputs": [
        {
          "output_type": "execute_result",
          "data": {
            "text/plain": [
              "array([[158,  58],\n",
              "       [158,  59],\n",
              "       [158,  63],\n",
              "       [160,  59],\n",
              "       [160,  60],\n",
              "       [163,  60],\n",
              "       [163,  61],\n",
              "       [160,  64],\n",
              "       [163,  64],\n",
              "       [165,  61],\n",
              "       [165,  62],\n",
              "       [165,  65],\n",
              "       [168,  62],\n",
              "       [168,  63],\n",
              "       [168,  66],\n",
              "       [170,  63],\n",
              "       [170,  64],\n",
              "       [170,  68]], dtype=int64)"
            ]
          },
          "metadata": {
            "tags": []
          },
          "execution_count": 4
        }
      ]
    },
    {
      "cell_type": "code",
      "metadata": {
        "id": "Pt1GRh3YSVhM",
        "outputId": "a0129f00-b3fe-471d-8336-3b99aa55872d"
      },
      "source": [
        "y"
      ],
      "execution_count": null,
      "outputs": [
        {
          "output_type": "execute_result",
          "data": {
            "text/plain": [
              "array(['M', 'M', 'M', 'M', 'M', 'M', 'M', 'L', 'L', 'L', 'L', 'L', 'L',\n",
              "       'L', 'L', 'L', 'L', 'L'], dtype=object)"
            ]
          },
          "metadata": {
            "tags": []
          },
          "execution_count": 5
        }
      ]
    },
    {
      "cell_type": "code",
      "metadata": {
        "id": "lTFxpRB3SVhM",
        "outputId": "bb532ff6-62a0-4c29-ac1b-8b1561fe3f3b"
      },
      "source": [
        "# we are trying to display information by a graph for T-Shirt Size (M/L)\n",
        "# Seaborn itself a graph library\n",
        "import seaborn as sns\n",
        "\n",
        "#countplot method is a plotting method to display information in terms of counting (M/L)\n",
        "sns.countplot(x=\"T Shirt Size\", data=dataset, palette=\"bwr\")\n",
        "plt.show()"
      ],
      "execution_count": null,
      "outputs": [
        {
          "output_type": "display_data",
          "data": {
            "image/png": "[encoded data removed]",
            "text/plain": [
              "<Figure size 432x288 with 1 Axes>"
            ]
          },
          "metadata": {
            "tags": [],
            "needs_background": "light"
          }
        }
      ]
    },
    {
      "cell_type": "code",
      "metadata": {
        "id": "7qOjSyqmSVhN",
        "outputId": "70294c29-afd7-4e28-8130-c0115b976c50"
      },
      "source": [
        "# As we know that our T-Shirt Size values are non-integer and if we need to perform some \n",
        "# mathematical Calculations as per need, so we have to transform the non-integer values \n",
        "# into integer values\n",
        "\n",
        "# This will encode your non-integer values into integer values\n",
        "\n",
        "# Import LabelEncoder\n",
        "from sklearn import preprocessing\n",
        "#from sklearn.preprocessing import labelEncoder\n",
        "\n",
        "#creating labelEncoder\n",
        "le = preprocessing.LabelEncoder() # le is an object of labelencoder\n",
        "\n",
        "y_new = y # now y_new will contain m/l\n",
        "\n",
        "#y_new is variable for transformed values\n",
        "# Converting string labels into numbers\n",
        "y_new=le.fit_transform(y_new) # passing the T-Shirt Size values (M/L) which is represented by y variable\n",
        "\n",
        "# we are replacing y actual values into 0 and 1.\n",
        "print (y) # values in M/L\n",
        "print(y_new) # now y variable will contain information in 0 and 1.\n",
        "\n",
        "# 1 means M and 0 means L"
      ],
      "execution_count": null,
      "outputs": [
        {
          "output_type": "stream",
          "text": [
            "['M' 'M' 'M' 'M' 'M' 'M' 'M' 'L' 'L' 'L' 'L' 'L' 'L' 'L' 'L' 'L' 'L' 'L']\n",
            "[1 1 1 1 1 1 1 0 0 0 0 0 0 0 0 0 0 0]\n"
          ],
          "name": "stdout"
        }
      ]
    },
    {
      "cell_type": "code",
      "metadata": {
        "id": "h_JHnRjUSVhO"
      },
      "source": [
        "# As we now y_new contains information in form of 0 and 1\n",
        "# so we are replacing our actual y values by 0 and 1\n",
        "#Because in the next couple of lines of the codes Y variable will be \n",
        "#used for matheatical calculations\n",
        "\n",
        "y=y_new\n"
      ],
      "execution_count": null,
      "outputs": []
    },
    {
      "cell_type": "code",
      "metadata": {
        "id": "TdbgCbWJSVhP",
        "outputId": "b0da183c-5577-421d-ce58-38780e1cba99"
      },
      "source": [
        "# We are displaying our all data points in a graph to know where these data points are lying.\n",
        "# for this we are importing KNN library because our information must be fit to the KNN\n",
        "\n",
        "from sklearn.neighbors import KNeighborsClassifier\n",
        "# we have to import neighbors class and use KNeighborsClassifier method\n",
        "\n",
        "knn = KNeighborsClassifier(n_neighbors=1)\n",
        "knn.fit(X, y) # fit to the actual dataset and no need to fit towards the training dataset\n",
        "\n",
        "from matplotlib.colors import ListedColormap\n",
        "X_set, y_set = X, y\n",
        "X1, X2 = np.meshgrid(np.arange(start = X_set[:, 0].min() - 1, stop = X_set[:, 0].max() + 1, step = 0.01),\n",
        "                     np.arange(start = X_set[:, 1].min() - 1, stop = X_set[:, 1].max() + 1, step = 0.01))\n",
        "\n",
        "# You are required to pass 2-D based values into predict method rather than 1D\n",
        "# ravel method is used to transform multidimensional arrays into 1-D array\n",
        "plt.contourf(X1, X2, knn.predict(np.array([X1.ravel(), X2.ravel()]).T).reshape(X1.shape),\n",
        "             alpha = 0.50, cmap = ListedColormap(('yellow', 'pink')))\n",
        "\n",
        "plt.xlim(X1.min(), X1.max()) # This is used for axis data values\n",
        "plt.ylim(X2.min(), X2.max()) # x2.min = min weight value and x2.max = max weight value\n",
        "\n",
        "for i, j in enumerate(np.unique(y_set)):\n",
        "    plt.scatter(X_set[y_set == j, 0], X_set[y_set == j, 1],\n",
        "                c = ListedColormap(('red', 'green'))(i), label = j)\n",
        "plt.title('VSK KNN Example')\n",
        "plt.xlabel('Height')\n",
        "plt.ylabel('Weight')\n",
        "plt.legend()\n",
        "plt.show()"
      ],
      "execution_count": null,
      "outputs": [
        {
          "output_type": "stream",
          "text": [
            "*c* argument looks like a single numeric RGB or RGBA sequence, which should be avoided as value-mapping will have precedence in case its length matches with *x* & *y*.  Please use the *color* keyword-argument or provide a 2-D array with a single row if you intend to specify the same RGB or RGBA value for all points.\n",
            "*c* argument looks like a single numeric RGB or RGBA sequence, which should be avoided as value-mapping will have precedence in case its length matches with *x* & *y*.  Please use the *color* keyword-argument or provide a 2-D array with a single row if you intend to specify the same RGB or RGBA value for all points.\n"
          ],
          "name": "stderr"
        },
        {
          "output_type": "display_data",
          "data": {
            "image/png": "[encoded data removed]",
            "text/plain": [
              "<Figure size 432x288 with 1 Axes>"
            ]
          },
          "metadata": {
            "tags": [],
            "needs_background": "light"
          }
        }
      ]
    },
    {
      "cell_type": "code",
      "metadata": {
        "id": "lyoJJ5znSVhQ",
        "outputId": "f3ec1218-e678-479c-844f-52c3f6a0c774"
      },
      "source": [
        "# Now its time to build KNN model\n",
        "from sklearn.neighbors import KNeighborsClassifier\n",
        "\n",
        "# Creating KNN object for KNN classifier\n",
        "knn = KNeighborsClassifier(n_neighbors=1, metric='euclidean') #k=1\n",
        "\n",
        "# Fitting the model as per actual dataset\n",
        "knn.fit(X, y)\n",
        "\n",
        "#predict the value based on the actual Independenta variables rather than testing\n",
        "y_pred = knn.predict(X)\n",
        "\n",
        "# Displaying the accuracy\n",
        "print(metrics.accuracy_score(y, y_pred)) #(actual value, predicted value)"
      ],
      "execution_count": null,
      "outputs": [
        {
          "output_type": "stream",
          "text": [
            "1.0\n"
          ],
          "name": "stdout"
        }
      ]
    },
    {
      "cell_type": "code",
      "metadata": {
        "id": "sBCTGoNMSVhR",
        "outputId": "d0841478-af2f-4609-c3b9-cefb8d4e8b41"
      },
      "source": [
        "knn = KNeighborsClassifier(n_neighbors=3, metric='euclidean') #k=3\n",
        "knn.fit(X, y)\n",
        "y_pred = knn.predict(X)\n",
        "print(metrics.accuracy_score(y, y_pred))"
      ],
      "execution_count": null,
      "outputs": [
        {
          "output_type": "stream",
          "text": [
            "1.0\n"
          ],
          "name": "stdout"
        }
      ]
    },
    {
      "cell_type": "code",
      "metadata": {
        "id": "BEXosnxBSVhR",
        "outputId": "bb560a2b-beb6-4e30-c4f7-13609dd1aaf3"
      },
      "source": [
        "knn = KNeighborsClassifier(n_neighbors = 5, metric='euclidean') #k=5\n",
        "knn.fit(X, y)\n",
        "y_pred = knn.predict(X)\n",
        "print(metrics.accuracy_score(y, y_pred))"
      ],
      "execution_count": null,
      "outputs": [
        {
          "output_type": "stream",
          "text": [
            "0.8888888888888888\n"
          ],
          "name": "stdout"
        }
      ]
    },
    {
      "cell_type": "code",
      "metadata": {
        "id": "HI4NUbieSVhS",
        "outputId": "97ce1686-33a8-4ecc-ae32-748585ff51ae"
      },
      "source": [
        "knn = KNeighborsClassifier(n_neighbors=7, metric='euclidean') #k=7\n",
        "knn.fit(X, y)\n",
        "y_pred = knn.predict(X)\n",
        "print(metrics.accuracy_score(y, y_pred))"
      ],
      "execution_count": null,
      "outputs": [
        {
          "output_type": "stream",
          "text": [
            "0.9444444444444444\n"
          ],
          "name": "stdout"
        }
      ]
    },
    {
      "cell_type": "code",
      "metadata": {
        "id": "9iBMXpQUSVhT",
        "outputId": "aea25adb-6597-4922-96f6-ec2733825051"
      },
      "source": [
        "knn = KNeighborsClassifier(n_neighbors=9, metric='euclidean') #k=9\n",
        "knn.fit(X, y)\n",
        "y_pred = knn.predict(X)\n",
        "print(metrics.accuracy_score(y, y_pred))"
      ],
      "execution_count": null,
      "outputs": [
        {
          "output_type": "stream",
          "text": [
            "0.8888888888888888\n"
          ],
          "name": "stdout"
        }
      ]
    },
    {
      "cell_type": "code",
      "metadata": {
        "id": "P_Xg9Uh0SVhU",
        "outputId": "5f05a2ed-41a9-4086-bf90-ca80b8024ffc"
      },
      "source": [
        "# print the shapes of X and y\n",
        "# X is our features matrix with 18 x 2 dimension\n",
        "print(X.shape)\n",
        "\n",
        "# y is our response variable with 18 x 1 dimension\n",
        "print(y.shape)"
      ],
      "execution_count": null,
      "outputs": [
        {
          "output_type": "stream",
          "text": [
            "(18, 2)\n",
            "(18,)\n"
          ],
          "name": "stdout"
        }
      ]
    },
    {
      "cell_type": "code",
      "metadata": {
        "id": "tWRq5iAMSVhU",
        "outputId": "4552306b-31ed-4190-d8d8-c76c4469e56e"
      },
      "source": [
        "# try K=1 through K=n based on size and record testing accuracy\n",
        "\n",
        "# We can create Python dictionary using [] or dict()\n",
        "scores = []\n",
        "\n",
        "# We use a loop through the range 1 to 18\n",
        "# We append the scores in the dictionary\n",
        "for k in range(1,19): # can't take zero because k = 0 is not possible\n",
        "    knn = KNeighborsClassifier(n_neighbors=k) # k value will be updated as per loop.\n",
        "    knn.fit(X, y)\n",
        "    y_pred = knn.predict(X)\n",
        "    scores.append(metrics.accuracy_score(y, y_pred))\n",
        "\n",
        "scores # It contains the list of the accuracy from 1 to 18 based on features\n",
        "\n",
        "# It shows that k=2 and k=7 we have next highest or best accuracy other than K=1 and 3\n"
      ],
      "execution_count": null,
      "outputs": [
        {
          "output_type": "execute_result",
          "data": {
            "text/plain": [
              "[1.0,\n",
              " 0.9444444444444444,\n",
              " 1.0,\n",
              " 0.8888888888888888,\n",
              " 0.8888888888888888,\n",
              " 0.8888888888888888,\n",
              " 0.9444444444444444,\n",
              " 0.8333333333333334,\n",
              " 0.8888888888888888,\n",
              " 0.8333333333333334,\n",
              " 0.8888888888888888,\n",
              " 0.8333333333333334,\n",
              " 0.8888888888888888,\n",
              " 0.6111111111111112,\n",
              " 0.6111111111111112,\n",
              " 0.6111111111111112,\n",
              " 0.6111111111111112,\n",
              " 0.6111111111111112]"
            ]
          },
          "metadata": {
            "tags": []
          },
          "execution_count": 18
        }
      ]
    },
    {
      "cell_type": "code",
      "metadata": {
        "id": "6yvC135nSVhW",
        "outputId": "fae1cfbf-a43e-4bb2-d346-ab86a204c5d1"
      },
      "source": [
        "# instantiate the model with the best known parameters\n",
        "knn = KNeighborsClassifier(n_neighbors=3, metric='euclidean') #k=3 because it has 100% accuracy\n",
        "\n",
        "# fit the model with X and y (not X_train and y_train)\n",
        "knn.fit(X, y)\n",
        "\n",
        "# make a prediction for an out-of-sample observation\n",
        "# to predict the t-shirt size of a customer based on new data input (161,61)=(height, weight)\n",
        "print(knn.predict([[200,91]])) # 1='M' and 0='L'\n",
        "\n",
        "# The below code is showing the predcition probabilty based on new input data of the features\n",
        "print(knn.predict_proba([[200,91]]))"
      ],
      "execution_count": null,
      "outputs": [
        {
          "output_type": "stream",
          "text": [
            "[0]\n",
            "[[1. 0.]]\n"
          ],
          "name": "stdout"
        }
      ]
    },
    {
      "cell_type": "markdown",
      "metadata": {
        "id": "4XxYO0qkSVhX"
      },
      "source": [
        "# Now its time to see regression technique with KNN algorithm\n"
      ]
    },
    {
      "cell_type": "code",
      "metadata": {
        "id": "t_qGeqlZSVhX"
      },
      "source": [
        "# Splitting the dataset into the Training set and Test set\n",
        "from sklearn.model_selection import train_test_split\n",
        "X_train, X_test, y_train, y_test = train_test_split(X, y, random_state = 0) \n",
        "# If we are not defining test size in the method, by default it gets 25% of test size.\n",
        "#test_size = 0 but default it consider 25%"
      ],
      "execution_count": null,
      "outputs": []
    },
    {
      "cell_type": "code",
      "metadata": {
        "id": "jSPmwYNUSVhY",
        "outputId": "da7f9e71-64ac-4bb3-fc25-73de29b603b2"
      },
      "source": [
        "X_train"
      ],
      "execution_count": null,
      "outputs": [
        {
          "output_type": "execute_result",
          "data": {
            "text/plain": [
              "array([[160,  60],\n",
              "       [158,  63],\n",
              "       [170,  64],\n",
              "       [170,  68],\n",
              "       [165,  61],\n",
              "       [160,  64],\n",
              "       [168,  63],\n",
              "       [165,  65],\n",
              "       [160,  59],\n",
              "       [158,  58],\n",
              "       [163,  60],\n",
              "       [170,  63],\n",
              "       [168,  62]], dtype=int64)"
            ]
          },
          "metadata": {
            "tags": []
          },
          "execution_count": 22
        }
      ]
    },
    {
      "cell_type": "code",
      "metadata": {
        "id": "Mz3omkqbSVhY",
        "outputId": "c01fdcb4-93fd-486f-fa2b-30de4d4250f5"
      },
      "source": [
        "X_test"
      ],
      "execution_count": null,
      "outputs": [
        {
          "output_type": "execute_result",
          "data": {
            "text/plain": [
              "array([[158,  59],\n",
              "       [163,  61],\n",
              "       [163,  64],\n",
              "       [165,  62],\n",
              "       [168,  66]], dtype=int64)"
            ]
          },
          "metadata": {
            "tags": []
          },
          "execution_count": 23
        }
      ]
    },
    {
      "cell_type": "code",
      "metadata": {
        "id": "kCFxOLiWSVhZ",
        "outputId": "6b4604a7-f606-45a4-cf9f-8e52a6d30001"
      },
      "source": [
        "y_train"
      ],
      "execution_count": null,
      "outputs": [
        {
          "output_type": "execute_result",
          "data": {
            "text/plain": [
              "array([1, 1, 0, 0, 0, 0, 0, 0, 1, 1, 1, 0, 0])"
            ]
          },
          "metadata": {
            "tags": []
          },
          "execution_count": 24
        }
      ]
    },
    {
      "cell_type": "code",
      "metadata": {
        "id": "8IUVp-h3SVhb",
        "outputId": "a41cd558-42e3-4891-e260-4a33da010144"
      },
      "source": [
        "y_test"
      ],
      "execution_count": null,
      "outputs": [
        {
          "output_type": "execute_result",
          "data": {
            "text/plain": [
              "array([1, 1, 0, 0, 0])"
            ]
          },
          "metadata": {
            "tags": []
          },
          "execution_count": 25
        }
      ]
    },
    {
      "cell_type": "code",
      "metadata": {
        "id": "Wdp-ujD0SVhc",
        "outputId": "a7c0cbb4-4211-4f9b-a268-d32b9aeef1c9"
      },
      "source": [
        "# print the shapes of the new X objects\n",
        "print(X_train.shape)\n",
        "print(X_test.shape) \n",
        "# 25% of the actual dataset when we are not passing \n",
        "# test size into train_test_split method"
      ],
      "execution_count": null,
      "outputs": [
        {
          "output_type": "stream",
          "text": [
            "(13, 2)\n",
            "(5, 2)\n"
          ],
          "name": "stdout"
        }
      ]
    },
    {
      "cell_type": "code",
      "metadata": {
        "id": "dHiPGSmTSVhd",
        "outputId": "cb5eaceb-325f-4a78-e027-dc3ae0bf7d02"
      },
      "source": [
        "# print the shapes of the new y objects\n",
        "print(y_train.shape)\n",
        "print(y_test.shape)"
      ],
      "execution_count": null,
      "outputs": [
        {
          "output_type": "stream",
          "text": [
            "(13,)\n",
            "(5,)\n"
          ],
          "name": "stdout"
        }
      ]
    },
    {
      "cell_type": "code",
      "metadata": {
        "id": "m1waiSZASVhd",
        "outputId": "89526111-14dd-4dee-aaac-b050e6002a4c"
      },
      "source": [
        "knn = KNeighborsClassifier(n_neighbors=5)\n",
        "knn.fit(X_train, y_train)\n",
        "y_pred = knn.predict(X_test)\n",
        "print(metrics.accuracy_score(y_test, y_pred))\n",
        "\n",
        "# withput spliting into training and testing dataset we had accuracy 0.88 when k=5 "
      ],
      "execution_count": null,
      "outputs": [
        {
          "output_type": "stream",
          "text": [
            "1.0\n"
          ],
          "name": "stdout"
        }
      ]
    },
    {
      "cell_type": "code",
      "metadata": {
        "id": "5lEKwM3ySVhd",
        "outputId": "94718aa5-8ab7-428f-8516-ad529dcee663"
      },
      "source": [
        "k_range = range(1, 13)\n",
        "\n",
        "# We can create Python dictionary using [] or dict()\n",
        "scores = []\n",
        "\n",
        "# We use a loop through the range 1 to 26\n",
        "# We append the scores in the dictionary\n",
        "for k in (k_range):\n",
        "    knn = KNeighborsClassifier(n_neighbors=k)\n",
        "    knn.fit(X_train, y_train)\n",
        "    y_pred = knn.predict(X_test)\n",
        "    scores.append(metrics.accuracy_score(y_test, y_pred))\n",
        "\n",
        "scores"
      ],
      "execution_count": null,
      "outputs": [
        {
          "output_type": "execute_result",
          "data": {
            "text/plain": [
              "[1.0, 0.8, 1.0, 1.0, 1.0, 0.8, 0.8, 0.8, 0.8, 0.6, 0.6, 0.6]"
            ]
          },
          "metadata": {
            "tags": []
          },
          "execution_count": 25
        }
      ]
    },
    {
      "cell_type": "code",
      "metadata": {
        "id": "duOzF1AaSVhe",
        "outputId": "b9e13fc5-6202-41b3-f756-2ed2f9bbf880"
      },
      "source": [
        "from sklearn.svm import SVC #importing SVM classifier\n",
        "svm_clf = SVC() #Creating dynamic object for SVC class \n",
        "# we are creating object of the SVC class to access the various methods \n",
        "# of the SVC class\n",
        "\n",
        "# Fit the model as per the training dataset\n",
        "svm_clf.fit(X_train,y_train)\n",
        "\n",
        "print (\"Now SVM model is fit using training dataset.\")"
      ],
      "execution_count": null,
      "outputs": [
        {
          "output_type": "stream",
          "text": [
            "Now SVM model is fit using training dataset.\n"
          ],
          "name": "stdout"
        }
      ]
    },
    {
      "cell_type": "code",
      "metadata": {
        "id": "qNl_GlZySVhe",
        "outputId": "501a09c8-411b-466b-ca48-4b439fb0a399"
      },
      "source": [
        "# Here we are building the logistic regression model\n",
        "# Building the model using Logistic Regression class\n",
        "from sklearn.linear_model import LogisticRegression\n",
        "\n",
        "# we need to create an object to access the methods for logistic regression.\n",
        "log_clf = LogisticRegression()\n",
        "\n",
        "# Fitting the model as per training dataset\n",
        "log_clf.fit(X_train,y_train)\n",
        "\n",
        "print (\"Now Logistic Regression model is fit using training dataset.\")"
      ],
      "execution_count": null,
      "outputs": [
        {
          "output_type": "stream",
          "text": [
            "Now Logistic Regression model is fit using training dataset.\n"
          ],
          "name": "stdout"
        }
      ]
    },
    {
      "cell_type": "code",
      "metadata": {
        "id": "yMJy8tbvSVhe",
        "outputId": "0e7ed1b4-b4d7-4cfb-b3ab-bfe13f740cf1"
      },
      "source": [
        "# instantiate the model with the best known parameters\n",
        "knn = KNeighborsClassifier(n_neighbors=3, metric='euclidean')\n",
        "\n",
        "# train the model with X and y \n",
        "knn.fit(X_train, y_train)"
      ],
      "execution_count": null,
      "outputs": [
        {
          "output_type": "execute_result",
          "data": {
            "text/plain": [
              "KNeighborsClassifier(metric='euclidean', n_neighbors=3)"
            ]
          },
          "metadata": {
            "tags": []
          },
          "execution_count": 31
        }
      ]
    },
    {
      "cell_type": "code",
      "metadata": {
        "id": "5ebQsA6wSVhf"
      },
      "source": [
        "# By using predict method we can predict the model as per testing dataset\n",
        "\n",
        "#prediction\n",
        "# we need to use features or values from independent variables\n",
        "# data from testing dataset\n",
        "y_pred_svm = svm_clf.predict(X_test)  \n",
        "# X_test contains the features on which we are predicting \n",
        "\n",
        "y_pred_log = log_clf.predict(X_test)\n",
        "#Prediting the model by testing data\n",
        "\n",
        "# make a prediction for an out-of-sample observation\n",
        "y_pred_knn = knn.predict(X_test) # 1='M' and 0='L'\n"
      ],
      "execution_count": null,
      "outputs": []
    },
    {
      "cell_type": "code",
      "metadata": {
        "id": "M6UWgbNQSVhf",
        "outputId": "a1b45e75-67ba-4657-8380-40229a917a19"
      },
      "source": [
        "print (\"Actual Values:\", y_test) # actual testing dataset\n",
        "print (\"Predicted by SVM:\", y_pred_svm) # predicted testing dataset for SVM\n",
        "print (\"Predicted by Logistic Regression:\", y_pred_log) # predicted testing dataset for Logistic regression\n",
        "print (\"Predicted by KNN:\", y_pred_knn) # predicted testing dataset for KNN\n"
      ],
      "execution_count": null,
      "outputs": [
        {
          "output_type": "stream",
          "text": [
            "Actual Values: [1 1 0 0 0]\n",
            "Predicted by SVM: [0 0 0 0 0]\n",
            "Predicted by Logistic Regression: [1 0 0 0 0]\n",
            "Predicted by KNN: [1 1 0 0 0]\n"
          ],
          "name": "stdout"
        }
      ]
    },
    {
      "cell_type": "code",
      "metadata": {
        "id": "IpXiYfLpSVhf",
        "outputId": "a018c0db-ed60-47e2-a6c7-28d0804ab57e"
      },
      "source": [
        "# Step: 5 predicting a new value from dataset or newly inputted value\n",
        "\n",
        "y_pred_svm_new = svm_clf.predict([[161, 61]]) \n",
        "\n",
        "y_pred_log_new = log_clf.predict([[161, 61]])\n",
        "\n",
        "y_pred_knn_new = knn.predict([[161, 61]])\n",
        "\n",
        "\n",
        "# print the predicted gender\n",
        "print(\"Predicted T-Shirt Size of a person by Logistic Regression Model :\", y_pred_log_new)\n",
        "print(\"Predicted T-Shirt Size of a person by SVM Model : \", y_pred_svm_new)\n",
        "print(\"Predicted T-Shirt Size of a person by KNN Model : \", y_pred_knn_new)"
      ],
      "execution_count": null,
      "outputs": [
        {
          "output_type": "stream",
          "text": [
            "Predicted T-Shirt Size of a person by Logistic Regression Model : [1]\n",
            "Predicted T-Shirt Size of a person by SVM Model :  [0]\n",
            "Predicted T-Shirt Size of a person by KNN Model :  [1]\n"
          ],
          "name": "stdout"
        }
      ]
    },
    {
      "cell_type": "code",
      "metadata": {
        "id": "RLHvbMCKSVhg",
        "outputId": "7883f58b-b00d-40ba-92a8-dfa054b468ab"
      },
      "source": [
        "# When we need to calculate the accuracy of the model under classification \n",
        "# always use testing dataset to get the result\n",
        "\n",
        "# we are measuring the performance of the model by accuracy score\n",
        "from sklearn.metrics import accuracy_score\n",
        "\n",
        "#accuracy scores\n",
        "log_acc = accuracy_score(y_pred_log, y_test) #(prediction value , actual value)\n",
        "svm_acc = accuracy_score(y_pred_svm, y_test)\n",
        "knn_acc = accuracy_score(y_pred_knn, y_test)\n",
        "\n",
        "print (\"Accuracy of Logistic Regression Model in %:\",log_acc*100)\n",
        "print(\"Accuracy of Support Vector Machine Model in %:\",svm_acc*100)\n",
        "print(\"Accuracy of KNN Model in %:\",knn_acc*100)\n"
      ],
      "execution_count": null,
      "outputs": [
        {
          "output_type": "stream",
          "text": [
            "Accuracy of Logistic Regression Model in %: 80.0\n",
            "Accuracy of Support Vector Machine Model in %: 60.0\n",
            "Accuracy of KNN Model in %: 100.0\n"
          ],
          "name": "stdout"
        }
      ]
    },
    {
      "cell_type": "code",
      "metadata": {
        "id": "QgDrWPUPSVhh"
      },
      "source": [
        "# When we have large amount of dataset, SVM will be better than others\n",
        "# When we have small amount of datset, SVM doen not provide better accuracy \n",
        "# and at that time Logistic Regression and KNN is better."
      ],
      "execution_count": null,
      "outputs": []
    },
    {
      "cell_type": "code",
      "metadata": {
        "id": "fRpd9MXBSVhh",
        "outputId": "ac009c2b-17e1-419f-93f5-45c08faa968e"
      },
      "source": [
        "# Classification report as summary of measuring of the models (Logistic Regression, SVM, KNN)\n",
        "from sklearn.metrics import classification_report\n",
        "print(classification_report (y_test,y_pred_log))\n",
        "print(classification_report (y_test,y_pred_svm))\n",
        "print(classification_report (y_test,y_pred_knn))"
      ],
      "execution_count": null,
      "outputs": [
        {
          "output_type": "stream",
          "text": [
            "              precision    recall  f1-score   support\n",
            "\n",
            "           0       0.75      1.00      0.86         3\n",
            "           1       1.00      0.50      0.67         2\n",
            "\n",
            "    accuracy                           0.80         5\n",
            "   macro avg       0.88      0.75      0.76         5\n",
            "weighted avg       0.85      0.80      0.78         5\n",
            "\n",
            "              precision    recall  f1-score   support\n",
            "\n",
            "           0       0.60      1.00      0.75         3\n",
            "           1       0.00      0.00      0.00         2\n",
            "\n",
            "    accuracy                           0.60         5\n",
            "   macro avg       0.30      0.50      0.37         5\n",
            "weighted avg       0.36      0.60      0.45         5\n",
            "\n",
            "              precision    recall  f1-score   support\n",
            "\n",
            "           0       1.00      1.00      1.00         3\n",
            "           1       1.00      1.00      1.00         2\n",
            "\n",
            "    accuracy                           1.00         5\n",
            "   macro avg       1.00      1.00      1.00         5\n",
            "weighted avg       1.00      1.00      1.00         5\n",
            "\n"
          ],
          "name": "stdout"
        },
        {
          "output_type": "stream",
          "text": [
            "C:\\Users\\Virendra Singh\\anaconda3\\lib\\site-packages\\sklearn\\metrics\\_classification.py:1221: UndefinedMetricWarning: Precision and F-score are ill-defined and being set to 0.0 in labels with no predicted samples. Use `zero_division` parameter to control this behavior.\n",
            "  _warn_prf(average, modifier, msg_start, len(result))\n"
          ],
          "name": "stderr"
        }
      ]
    },
    {
      "cell_type": "code",
      "metadata": {
        "id": "NmXO5MOQSVhi"
      },
      "source": [
        ""
      ],
      "execution_count": null,
      "outputs": []
    }
  ]
}
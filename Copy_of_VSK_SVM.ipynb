{
  "nbformat": 4,
  "nbformat_minor": 0,
  "metadata": {
    "kernelspec": {
      "display_name": "Python 3",
      "language": "python",
      "name": "python3"
    },
    "language_info": {
      "codemirror_mode": {
        "name": "ipython",
        "version": 3
      },
      "file_extension": ".py",
      "mimetype": "text/x-python",
      "name": "python",
      "nbconvert_exporter": "python",
      "pygments_lexer": "ipython3",
      "version": "3.8.5"
    },
    "colab": {
      "name": "Copy of VSK_SVM.ipynb",
      "provenance": []
    }
  },
  "cells": [
    {
      "cell_type": "markdown",
      "metadata": {
        "id": "-QP1t2daSfF2"
      },
      "source": [
        "### Implement of Support Vector Machine (SVM) \n",
        "### Problem: To predict the gender of person. \n"
      ]
    },
    {
      "cell_type": "markdown",
      "metadata": {
        "id": "89eQ-qJ-SfGR"
      },
      "source": [
        "'''\n",
        "Support Vector Machine or SVM is a supervised and linear Machine Learning algorithm most commonly used \n",
        "for solving classification problems and is also referred to as Support Vector Classification. \n",
        "There is also a subset of SVM called SVR which stands for Support Vector Regression which uses the \n",
        "same principles to solve regression problems. SVM also supports the kernel method also called the \n",
        "kernel SVM which allows us to tackle non-linearity.\n",
        "'''"
      ]
    },
    {
      "cell_type": "code",
      "metadata": {
        "id": "3m5uP90FSfGU"
      },
      "source": [
        "# Initial Step is to import the required libraries\n",
        "# import libraries\n",
        "import numpy as vsk_np\n",
        "\n",
        "# This is the SVM Classifies\n",
        "from sklearn.svm import SVC # Support Vector Classifier\n",
        "# sklearn is a package\n",
        "# svm is a library under sklearn\n",
        "# SVC is a class under svm library\n",
        "\n",
        "# We need to use Logistic Regression Library to compare our result with SVM\n",
        "# and check performance of both models becuase of both are classifiers\n",
        "from sklearn.linear_model import LogisticRegression\n",
        "\n",
        "# This library is used to provide the result as accuracy score\n",
        "# and also check the performance of the model\n",
        "from sklearn.metrics import accuracy_score"
      ],
      "execution_count": null,
      "outputs": []
    },
    {
      "cell_type": "code",
      "metadata": {
        "id": "F8i0lp4OSfGZ"
      },
      "source": [
        "# Step-1 Defining datasets using arrays\n",
        "# We have to use two features one for height and other one for weight\n",
        "\n",
        "# [height, weight]\n",
        "# X is an independent variable and y is dependent variable\n",
        "# because based on height & weight you will be determining the gender of a person\n",
        "X = [[181, 80], [177, 70], [160, 60], [154, 54], [166, 65], [190, 90], \n",
        "     [175, 64], [177, 70], [159, 55], [171, 75], [181, 85], [168, 75], \n",
        "     [168, 77]]\n",
        "\n",
        "# y is also having the data values in form of categorical (male and female) way\n",
        "y = ['male', 'male', 'female', 'female', 'male', 'male', 'female', 'female',\n",
        "     'female', 'male', 'male', 'female', 'female']"
      ],
      "execution_count": null,
      "outputs": []
    },
    {
      "cell_type": "code",
      "metadata": {
        "id": "TD1CnHmlSfGb",
        "outputId": "4566b727-8c9c-4b7b-8d64-aaec726d8dd1"
      },
      "source": [
        "X # features or values from independent variables"
      ],
      "execution_count": null,
      "outputs": [
        {
          "output_type": "execute_result",
          "data": {
            "text/plain": [
              "[[181, 80],\n",
              " [177, 70],\n",
              " [160, 60],\n",
              " [154, 54],\n",
              " [166, 65],\n",
              " [190, 90],\n",
              " [175, 64],\n",
              " [177, 70],\n",
              " [159, 55],\n",
              " [171, 75],\n",
              " [181, 85],\n",
              " [168, 75],\n",
              " [168, 77]]"
            ]
          },
          "metadata": {
            "tags": []
          },
          "execution_count": 44
        }
      ]
    },
    {
      "cell_type": "code",
      "metadata": {
        "id": "RQa6I4rgSfGf",
        "outputId": "ae854d72-b55e-40ea-bc77-0a96414bc403"
      },
      "source": [
        "y"
      ],
      "execution_count": null,
      "outputs": [
        {
          "output_type": "execute_result",
          "data": {
            "text/plain": [
              "['male',\n",
              " 'male',\n",
              " 'female',\n",
              " 'female',\n",
              " 'male',\n",
              " 'male',\n",
              " 'female',\n",
              " 'female',\n",
              " 'female',\n",
              " 'male',\n",
              " 'male',\n",
              " 'female',\n",
              " 'female']"
            ]
          },
          "metadata": {
            "tags": []
          },
          "execution_count": 45
        }
      ]
    },
    {
      "cell_type": "code",
      "metadata": {
        "id": "5LQBqgHuSfGg"
      },
      "source": [
        "# Step-2 Spliting dataset into Training and Testing datasets\n",
        "\n",
        "# We are getting the training data and testing data\n",
        "# Import library for splitting the dataset into train and test.\n",
        "from sklearn.model_selection import train_test_split\n",
        "\n",
        "#Using the train_test_split to create train and test sets.\n",
        "X_train, X_test, y_train, y_test = train_test_split(X, y, random_state = 10, test_size = 0.40)"
      ],
      "execution_count": null,
      "outputs": []
    },
    {
      "cell_type": "code",
      "metadata": {
        "id": "v9f4cxbISfGh",
        "outputId": "2b90c429-17a6-4f07-ca0b-52ae90754f69"
      },
      "source": [
        "print(X_train) # Training datasets "
      ],
      "execution_count": null,
      "outputs": [
        {
          "output_type": "stream",
          "text": [
            "[[168, 77], [190, 90], [181, 85], [177, 70], [181, 80], [166, 65], [171, 75]]\n"
          ],
          "name": "stdout"
        }
      ]
    },
    {
      "cell_type": "code",
      "metadata": {
        "id": "mXftpD_ISfGj",
        "outputId": "dd17bcde-75ff-42a5-f896-2bf18802ad4f"
      },
      "source": [
        "print (y_train)"
      ],
      "execution_count": null,
      "outputs": [
        {
          "output_type": "stream",
          "text": [
            "['female', 'male', 'male', 'male', 'male', 'male', 'male']\n"
          ],
          "name": "stdout"
        }
      ]
    },
    {
      "cell_type": "code",
      "metadata": {
        "id": "NrsCfuVQSfGk",
        "outputId": "f2da8cb5-4af0-4682-c925-8a38177e093c"
      },
      "source": [
        "print (X_test)"
      ],
      "execution_count": null,
      "outputs": [
        {
          "output_type": "stream",
          "text": [
            "[[154, 54], [177, 70], [168, 75], [175, 64], [159, 55], [160, 60]]\n"
          ],
          "name": "stdout"
        }
      ]
    },
    {
      "cell_type": "code",
      "metadata": {
        "id": "qoB3njAcSfGm",
        "outputId": "376a072d-a62d-4c7b-d38d-0df2f27eac01"
      },
      "source": [
        "print (y_test)"
      ],
      "execution_count": null,
      "outputs": [
        {
          "output_type": "stream",
          "text": [
            "['female', 'female', 'female', 'female', 'female', 'female']\n"
          ],
          "name": "stdout"
        }
      ]
    },
    {
      "cell_type": "code",
      "metadata": {
        "id": "AjCJaLWvSfGo",
        "outputId": "a3d91eb7-dbaf-4837-a241-9fc93994eb57"
      },
      "source": [
        "# Now we have two models for comparing between SVM and Logistic Regression\n",
        "# Next step will be to build the models\n",
        "\n",
        "#Step 3: Building the model using Support Vector Machine\n",
        "#Support Vector Classifier\n",
        "\n",
        "from sklearn.svm import SVC #importing SVM classifier\n",
        "svm_clf = SVC() #Creating dynamic object for SVC class \n",
        "# we are creating object of the SVC class to access the various methods \n",
        "# of the SVC class\n",
        "\n",
        "# Fit the model as per the training dataset\n",
        "svm_clf.fit(X_train,y_train)\n",
        "\n",
        "print (\"Now SVM model is fit using training dataset.\")"
      ],
      "execution_count": null,
      "outputs": [
        {
          "output_type": "stream",
          "text": [
            "Now SVM model is fit using training dataset.\n"
          ],
          "name": "stdout"
        }
      ]
    },
    {
      "cell_type": "code",
      "metadata": {
        "id": "OuCuoCiTSfGq",
        "outputId": "d4fe4d64-895b-4aa7-d81d-25a242609cb6"
      },
      "source": [
        "# Here we are building the logistic regression model\n",
        "# Building the model using Logistic Regression class\n",
        "from sklearn.linear_model import LogisticRegression\n",
        "\n",
        "# we need to create an object to access the methods for logistic regression.\n",
        "log_clf = LogisticRegression()\n",
        "\n",
        "# Fitting the model as per training dataset\n",
        "log_clf.fit(X_train,y_train)\n",
        "\n",
        "print (\"Now Logistic Regression model is fit using training dataset.\")"
      ],
      "execution_count": null,
      "outputs": [
        {
          "output_type": "stream",
          "text": [
            "Now Logistic Regression model is fit using training dataset.\n"
          ],
          "name": "stdout"
        }
      ]
    },
    {
      "cell_type": "code",
      "metadata": {
        "id": "DNUS6oHLSfGs"
      },
      "source": [
        "# 1. imported libraries\n",
        "# 2. Prepared the dataset\n",
        "# 3. Split the dataset into Training and Testing datasets \n",
        "# 4. Built the models (SVM and Logistic Regression)"
      ],
      "execution_count": null,
      "outputs": []
    },
    {
      "cell_type": "code",
      "metadata": {
        "id": "dTOefD5YSfGt"
      },
      "source": [
        "# Step 4: To Predict the model by testing dataset\n",
        "# By using predict method we can predict the model as per testing dataset\n",
        "\n",
        "#prediction\n",
        "# we need to use features or values from independent variables\n",
        "# data from testing dataset\n",
        "y_pred_svm = svm_clf.predict(X_test)  \n",
        "# X_test contains the features on which we are predicting \n",
        "\n",
        "y_pred_log = log_clf.predict(X_test)\n",
        "#Prediting the model by testing data\n"
      ],
      "execution_count": null,
      "outputs": []
    },
    {
      "cell_type": "code",
      "metadata": {
        "id": "jK7M6-l9SfGv",
        "outputId": "a472ec9c-74f9-4349-c20e-23bd436cdafc"
      },
      "source": [
        "print (\"Actual Values:\", y_test) # actual testing dataset\n",
        "print (\"Predicted by SVM:\", y_pred_svm) # predicted testing dataset for SVM\n",
        "print (\"Predicted by Logistic Regression:\", y_pred_log) # predicted testing dataset for Logistic regression\n",
        "\n",
        "# From the displayed values you can observe that logistic regression for this\n",
        "# problem is better"
      ],
      "execution_count": null,
      "outputs": [
        {
          "output_type": "stream",
          "text": [
            "Actual Values: ['female', 'female', 'female', 'female', 'female', 'female']\n",
            "Predicted by SVM: ['male' 'male' 'male' 'male' 'male' 'male']\n",
            "Predicted by Logistic Regression: ['male' 'male' 'female' 'male' 'male' 'male']\n"
          ],
          "name": "stdout"
        }
      ]
    },
    {
      "cell_type": "code",
      "metadata": {
        "id": "7lM-UK1nSfGw",
        "outputId": "b9e71d1b-e7c3-432d-d899-ce44894f5ef1"
      },
      "source": [
        "# Step: 5 predicting a new value from dataset or newly inputted value\n",
        "\n",
        "y_pred_svm_new = svm_clf.predict([[157, 100]]) \n",
        "\n",
        "y_pred_log_new = log_clf.predict([[157, 100]])\n",
        "\n",
        "# print the predicted gender\n",
        "print(\"Predicted Gender of a person by Logistic Regression Model :\", y_pred_log_new)\n",
        "print(\"Predicted Gender of a person by SVM Model : \", y_pred_svm_new)\n"
      ],
      "execution_count": null,
      "outputs": [
        {
          "output_type": "stream",
          "text": [
            "Predicted Gender of a person by Logistic Regression Model : ['female']\n",
            "Predicted Gender of a person by SVM Model :  ['male']\n"
          ],
          "name": "stdout"
        }
      ]
    },
    {
      "cell_type": "code",
      "metadata": {
        "id": "ml9oAKCuSfGy",
        "outputId": "2863e14a-067b-43f9-e8dc-888d0121c0f7"
      },
      "source": [
        "# Step 6: Model Evaluation\n",
        "\n",
        "# When we need to calculate the accuracy of the model under classification \n",
        "# always use testing dataset to get the result\n",
        "\n",
        "# we are measuring the performance of the model by accuracy score\n",
        "from sklearn.metrics import accuracy_score\n",
        "\n",
        "#accuracy scores\n",
        "log_acc = accuracy_score(y_pred_log, y_test) #(prediction value , actual value)\n",
        "svm_acc = accuracy_score(y_pred_svm, y_test)\n",
        "\n",
        "print (\"Accuracy of Logistic Regression Model in %:\",log_acc*100)\n",
        "print(\"Accuracy of Support Vector Machine Model in %:\",svm_acc*100)"
      ],
      "execution_count": null,
      "outputs": [
        {
          "output_type": "stream",
          "text": [
            "Accuracy of Logistic Regression Model in %: 16.666666666666664\n",
            "Accuracy of Support Vector Machine Model in %: 0.0\n"
          ],
          "name": "stdout"
        }
      ]
    },
    {
      "cell_type": "code",
      "metadata": {
        "id": "R4Gbf57eSfGz"
      },
      "source": [
        "# The main drawback of the SVM is that when we have small or limited amount\n",
        "# of datasets, it may not provide better result."
      ],
      "execution_count": null,
      "outputs": []
    },
    {
      "cell_type": "code",
      "metadata": {
        "id": "gkfTMP9HSfG0",
        "outputId": "f8b2680f-c0d6-41a5-f3b8-613e00e1aa7c"
      },
      "source": [
        "# You want to print the classification report of the classification models\n",
        "# use classification_report method from metrics library\n",
        "\n",
        "from sklearn import metrics\n",
        "\n",
        "print(metrics.classification_report(y_test, y_pred_log))\n",
        "print(metrics.classification_report(y_test, y_pred_svm))\n"
      ],
      "execution_count": null,
      "outputs": [
        {
          "output_type": "stream",
          "text": [
            "              precision    recall  f1-score   support\n",
            "\n",
            "      female       1.00      0.50      0.67         4\n",
            "        male       0.00      0.00      0.00         0\n",
            "\n",
            "    accuracy                           0.50         4\n",
            "   macro avg       0.50      0.25      0.33         4\n",
            "weighted avg       1.00      0.50      0.67         4\n",
            "\n",
            "              precision    recall  f1-score   support\n",
            "\n",
            "      female       0.00      0.00      0.00       4.0\n",
            "        male       0.00      0.00      0.00       0.0\n",
            "\n",
            "    accuracy                           0.00       4.0\n",
            "   macro avg       0.00      0.00      0.00       4.0\n",
            "weighted avg       0.00      0.00      0.00       4.0\n",
            "\n"
          ],
          "name": "stdout"
        }
      ]
    },
    {
      "cell_type": "code",
      "metadata": {
        "id": "QOlTcg_3SfG1",
        "outputId": "c2d3fbd7-ded0-4d96-d43a-08369e45bec0"
      },
      "source": [
        "classifiers = ['Logistic Regression' , 'SVC']\n",
        "accuracy = vsk_np.array([log_acc, svm_acc])\n",
        "\n",
        "# argmax is methos which returns the maximum value from the array's values\n",
        "max_acc = vsk_np.argmax(accuracy)\n",
        "\n",
        "print(classifiers[max_acc] + ' is the better classifier for this problem')"
      ],
      "execution_count": null,
      "outputs": [
        {
          "output_type": "stream",
          "text": [
            "Logistic Regression is the better classifier for this problem\n"
          ],
          "name": "stdout"
        }
      ]
    },
    {
      "cell_type": "code",
      "metadata": {
        "id": "xymUpOG8SfG2"
      },
      "source": [
        ""
      ],
      "execution_count": null,
      "outputs": []
    }
  ]
}
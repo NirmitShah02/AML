{
  "nbformat": 4,
  "nbformat_minor": 0,
  "metadata": {
    "kernelspec": {
      "display_name": "Python 3",
      "language": "python",
      "name": "python3"
    },
    "language_info": {
      "codemirror_mode": {
        "name": "ipython",
        "version": 3
      },
      "file_extension": ".py",
      "mimetype": "text/x-python",
      "name": "python",
      "nbconvert_exporter": "python",
      "pygments_lexer": "ipython3",
      "version": "3.8.5"
    },
    "colab": {
      "name": "Copy of VSK_Multiple Regression.ipynb",
      "provenance": []
    }
  },
  "cells": [
    {
      "cell_type": "markdown",
      "metadata": {
        "id": "Z0yAXxQKSVmr"
      },
      "source": [
        "# Implementation of Multiple Regression\n",
        "\n"
      ]
    },
    {
      "cell_type": "markdown",
      "metadata": {
        "id": "Ez7O7PFLSVm4"
      },
      "source": [
        "'''\n",
        "Multiple linear regression (MLR), also known simply as multiple regression, is a statistical technique that uses several \n",
        "explanatory variables to predict the outcome of a response variable. \n",
        "'''"
      ]
    },
    {
      "cell_type": "markdown",
      "metadata": {
        "id": "hc5gVup2SVm7"
      },
      "source": [
        "![](index.png)"
      ]
    },
    {
      "cell_type": "code",
      "metadata": {
        "id": "rzhuGi6QSVnB"
      },
      "source": [
        "    # y=m1x1+m2x2+c\n",
        "    # we have two independent variables x1 and x2\n",
        "    # m1 and m2 are the coef. of x1 and x2 respectively\n",
        "    # c it is an intercept of the y\n",
        " \n",
        "     #y = m1x1 + m2x2 + m3x3 + .........+ mnxn + c\n",
        "    \n",
        "# Multiple regression is like linear regression, but with more than one independent value, \n",
        "# meaning that we try to predict a value based on two or more variables.\n",
        "\n",
        "#import libraries\n",
        "\n",
        "import pandas as pd # used to represent the data in dataframe\n",
        "import numpy as np # used for numerical operations\n",
        "from sklearn import linear_model #linear\n",
        "from sklearn.model_selection import train_test_split \n",
        "#used to split the data into training data and testing data\n"
      ],
      "execution_count": null,
      "outputs": []
    },
    {
      "cell_type": "code",
      "metadata": {
        "id": "WnQrIiljSVnE",
        "outputId": "cb9349f9-5f28-44f2-aa80-4e3da304e522"
      },
      "source": [
        "# Reading the dataset\n",
        "df = pd.read_csv(\"cars.csv\") #reading the dataset file\n",
        "print (df)"
      ],
      "execution_count": null,
      "outputs": [
        {
          "output_type": "stream",
          "text": [
            "           Car       Model  Volume  Weight  CO2\n",
            "0       Toyoty        Aygo    1000     790   99\n",
            "1   Mitsubishi  Space Star    1200    1160   95\n",
            "2        Skoda      Citigo    1000     929   95\n",
            "3         Fiat         500     900     865   90\n",
            "4         Mini      Cooper    1500    1140  105\n",
            "5           VW         Up!    1000     929  105\n",
            "6        Skoda       Fabia    1400    1109   90\n",
            "7     Mercedes     A-Class    1500    1365   92\n",
            "8         Ford      Fiesta    1500    1112   98\n",
            "9         Audi          A1    1600    1150   99\n",
            "10     Hyundai         I20    1100     980   99\n",
            "11      Suzuki       Swift    1300     990  101\n",
            "12        Ford      Fiesta    1000    1112   99\n",
            "13       Honda       Civic    1600    1252   94\n",
            "14      Hundai         I30    1600    1326   97\n",
            "15        Opel       Astra    1600    1330   97\n",
            "16         BMW           1    1600    1365   99\n",
            "17       Mazda           3    2200    1280  104\n",
            "18       Skoda       Rapid    1600    1119  104\n",
            "19        Ford       Focus    2000    1328  105\n",
            "20        Ford      Mondeo    1600    1584   94\n",
            "21        Opel    Insignia    2000    1428   99\n",
            "22    Mercedes     C-Class    2100    1365   99\n",
            "23       Skoda     Octavia    1600    1415   99\n",
            "24       Volvo         S60    2000    1415   99\n",
            "25    Mercedes         CLA    1500    1465  102\n",
            "26        Audi          A4    2000    1490  104\n",
            "27        Audi          A6    2000    1725  114\n",
            "28       Volvo         V70    1600    1523  109\n",
            "29         BMW           5    2000    1705  114\n",
            "30    Mercedes     E-Class    2100    1605  115\n",
            "31       Volvo        XC70    2000    1746  117\n",
            "32        Ford       B-Max    1600    1235  104\n",
            "33         BMW         216    1600    1390  108\n",
            "34        Opel      Zafira    1600    1405  109\n",
            "35    Mercedes         SLK    2500    1395  120\n"
          ],
          "name": "stdout"
        }
      ]
    },
    {
      "cell_type": "code",
      "metadata": {
        "id": "LnKM_-QbSVnJ",
        "outputId": "4fa88573-0b84-48b9-fe87-9a89adf0749a"
      },
      "source": [
        "X = df[['Weight', 'Volume']] #independent variables\n",
        "y = df['CO2'] #dependent variable\n",
        "\n",
        "print (X)\n",
        "print (y)"
      ],
      "execution_count": null,
      "outputs": [
        {
          "output_type": "stream",
          "text": [
            "    Weight  Volume\n",
            "0      790    1000\n",
            "1     1160    1200\n",
            "2      929    1000\n",
            "3      865     900\n",
            "4     1140    1500\n",
            "5      929    1000\n",
            "6     1109    1400\n",
            "7     1365    1500\n",
            "8     1112    1500\n",
            "9     1150    1600\n",
            "10     980    1100\n",
            "11     990    1300\n",
            "12    1112    1000\n",
            "13    1252    1600\n",
            "14    1326    1600\n",
            "15    1330    1600\n",
            "16    1365    1600\n",
            "17    1280    2200\n",
            "18    1119    1600\n",
            "19    1328    2000\n",
            "20    1584    1600\n",
            "21    1428    2000\n",
            "22    1365    2100\n",
            "23    1415    1600\n",
            "24    1415    2000\n",
            "25    1465    1500\n",
            "26    1490    2000\n",
            "27    1725    2000\n",
            "28    1523    1600\n",
            "29    1705    2000\n",
            "30    1605    2100\n",
            "31    1746    2000\n",
            "32    1235    1600\n",
            "33    1390    1600\n",
            "34    1405    1600\n",
            "35    1395    2500\n",
            "0      99\n",
            "1      95\n",
            "2      95\n",
            "3      90\n",
            "4     105\n",
            "5     105\n",
            "6      90\n",
            "7      92\n",
            "8      98\n",
            "9      99\n",
            "10     99\n",
            "11    101\n",
            "12     99\n",
            "13     94\n",
            "14     97\n",
            "15     97\n",
            "16     99\n",
            "17    104\n",
            "18    104\n",
            "19    105\n",
            "20     94\n",
            "21     99\n",
            "22     99\n",
            "23     99\n",
            "24     99\n",
            "25    102\n",
            "26    104\n",
            "27    114\n",
            "28    109\n",
            "29    114\n",
            "30    115\n",
            "31    117\n",
            "32    104\n",
            "33    108\n",
            "34    109\n",
            "35    120\n",
            "Name: CO2, dtype: int64\n"
          ],
          "name": "stdout"
        }
      ]
    },
    {
      "cell_type": "code",
      "metadata": {
        "id": "Xi7MaSgLSVnL",
        "outputId": "17639017-1977-4f19-ca91-2f1b850fb4f3"
      },
      "source": [
        "# all column name\n",
        "df.columns"
      ],
      "execution_count": null,
      "outputs": [
        {
          "output_type": "execute_result",
          "data": {
            "text/plain": [
              "Index(['Car', 'Model', 'Volume', 'Weight', 'CO2'], dtype='object')"
            ]
          },
          "metadata": {
            "tags": []
          },
          "execution_count": 4
        }
      ]
    },
    {
      "cell_type": "code",
      "metadata": {
        "id": "olYc9IELSVnc",
        "outputId": "831fc85e-6641-4839-f0e3-561e3cf21ee7"
      },
      "source": [
        "# split data into train and test\n",
        "X_train, X_test, y_train, y_test = train_test_split(X, y, test_size = 0.3, random_state = 3)\n",
        "print (X_train)\n",
        "print (X_test)\n",
        "print (y_train)\n",
        "print (y_test)"
      ],
      "execution_count": null,
      "outputs": [
        {
          "output_type": "stream",
          "text": [
            "    Weight  Volume\n",
            "35    1395    2500\n",
            "34    1405    1600\n",
            "1     1160    1200\n",
            "30    1605    2100\n",
            "16    1365    1600\n",
            "2      929    1000\n",
            "14    1326    1600\n",
            "7     1365    1500\n",
            "12    1112    1000\n",
            "20    1584    1600\n",
            "32    1235    1600\n",
            "6     1109    1400\n",
            "31    1746    2000\n",
            "28    1523    1600\n",
            "9     1150    1600\n",
            "25    1465    1500\n",
            "11     990    1300\n",
            "10     980    1100\n",
            "19    1328    2000\n",
            "29    1705    2000\n",
            "21    1428    2000\n",
            "0      790    1000\n",
            "8     1112    1500\n",
            "3      865     900\n",
            "24    1415    2000\n",
            "    Weight  Volume\n",
            "4     1140    1500\n",
            "26    1490    2000\n",
            "18    1119    1600\n",
            "22    1365    2100\n",
            "17    1280    2200\n",
            "23    1415    1600\n",
            "15    1330    1600\n",
            "27    1725    2000\n",
            "13    1252    1600\n",
            "33    1390    1600\n",
            "5      929    1000\n",
            "35    120\n",
            "34    109\n",
            "1      95\n",
            "30    115\n",
            "16     99\n",
            "2      95\n",
            "14     97\n",
            "7      92\n",
            "12     99\n",
            "20     94\n",
            "32    104\n",
            "6      90\n",
            "31    117\n",
            "28    109\n",
            "9      99\n",
            "25    102\n",
            "11    101\n",
            "10     99\n",
            "19    105\n",
            "29    114\n",
            "21     99\n",
            "0      99\n",
            "8      98\n",
            "3      90\n",
            "24     99\n",
            "Name: CO2, dtype: int64\n",
            "4     105\n",
            "26    104\n",
            "18    104\n",
            "22     99\n",
            "17    104\n",
            "23     99\n",
            "15     97\n",
            "27    114\n",
            "13     94\n",
            "33    108\n",
            "5     105\n",
            "Name: CO2, dtype: int64\n"
          ],
          "name": "stdout"
        }
      ]
    },
    {
      "cell_type": "code",
      "metadata": {
        "id": "7uc4JmuiSVnd"
      },
      "source": [
        "# Builiding the model\n",
        "from sklearn.linear_model import LinearRegression\n",
        "# instantiate or object\n",
        "model = LinearRegression() # we are creating object of the linear regression class.\n",
        "# fit\n",
        "model.fit(X_train, y_train) #Training data set #Fitting the model \n",
        "# predict\n",
        "y_pred = model.predict(X_test) # Testing data set"
      ],
      "execution_count": null,
      "outputs": []
    },
    {
      "cell_type": "code",
      "metadata": {
        "id": "itlS3NloSVnf",
        "outputId": "832affff-8bfc-426d-ec34-b571229d18e6"
      },
      "source": [
        "#predict the CO2 emission of a car where the weight is 2300kg, and the volume is 1300cm3:\n",
        "predictedCO2 = model.predict([[10000, 5405]]) #Putting new value to get the prediction of CO2 emission\n",
        "\n",
        "print(predictedCO2) "
      ],
      "execution_count": null,
      "outputs": [
        {
          "output_type": "stream",
          "text": [
            "[188.9334561]\n"
          ],
          "name": "stdout"
        }
      ]
    },
    {
      "cell_type": "code",
      "metadata": {
        "id": "QIfxlz-eSVng",
        "outputId": "842c4b9d-73ab-41a9-b2ff-7ab9e35ac477"
      },
      "source": [
        "import sklearn.metrics as sm\n",
        "print(\"Mean absolute error =\", round(sm.mean_absolute_error(y_test, y_pred), 2)) \n",
        "print(\"Mean squared error =\", round(sm.mean_squared_error(y_test, y_pred), 2)) \n",
        "print(\"R2 score =\", round(sm.r2_score(y_test, y_pred), 2))\n",
        "\n",
        "# R2 score: This is pronounced as R-squared, and this score refers to the coefficient of determination. \n",
        "# This tells us how well the unknown samples will be predicted by our model. \n",
        "# The best possible score is 1.0, but the score can be negative as well."
      ],
      "execution_count": null,
      "outputs": [
        {
          "output_type": "stream",
          "text": [
            "Mean absolute error = 5.91\n",
            "Mean squared error = 41.51\n",
            "R2 score = -0.49\n"
          ],
          "name": "stdout"
        }
      ]
    },
    {
      "cell_type": "code",
      "metadata": {
        "id": "-L1lDDQpSVni"
      },
      "source": [
        ""
      ],
      "execution_count": null,
      "outputs": []
    }
  ]
}
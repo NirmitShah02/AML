{
  "nbformat": 4,
  "nbformat_minor": 0,
  "metadata": {
    "kernelspec": {
      "display_name": "Python 3",
      "language": "python",
      "name": "python3"
    },
    "language_info": {
      "codemirror_mode": {
        "name": "ipython",
        "version": 3
      },
      "file_extension": ".py",
      "mimetype": "text/x-python",
      "name": "python",
      "nbconvert_exporter": "python",
      "pygments_lexer": "ipython3",
      "version": "3.8.3"
    },
    "colab": {
      "name": "Copy of VSK_Polynomial Regression.ipynb",
      "provenance": []
    }
  },
  "cells": [
    {
      "cell_type": "markdown",
      "metadata": {
        "id": "uahAxmu4SS_s"
      },
      "source": [
        "# Implemetation of Polynomial Regression\n"
      ]
    },
    {
      "cell_type": "markdown",
      "metadata": {
        "id": "a3GpdmvgSS_-"
      },
      "source": [
        "'''\n",
        "Polynomial Regression is a regression algorithm that models the relationship between a dependent(y) and independent variable(x) \n",
        "as nth degree polynomial. The Polynomial Regression equation is given below:\n",
        "\n",
        "y= b0+b1x1+ b2x12+ b2x13+...... bnx1n\n",
        "\n",
        "The need of Polynomial Regression in ML can be understood in the below points:\n",
        "\n",
        "1. If we apply a linear model on a linear dataset, then it provides us a good result as we have seen in Simple Linear Regression, but if we apply the same model without any modification on a non-linear dataset, \n",
        "then it will produce a drastic output. Due to which loss function will increase, the error rate will be high, and accuracy will be decreased.\n",
        "\n",
        "2. So for such cases, where data points are arranged in a non-linear fashion, we need the Polynomial Regression model. \n",
        "We can understand it in a better way using the below comparison diagram of the linear dataset and non-linear dataset.\n",
        "\n",
        "The goal of polynomial regression is to model a non-linear relationship between the independent and dependent variables \n",
        "(technically, between the independent variable and the conditional mean of the dependent variable).\n",
        "\n",
        "'''"
      ]
    },
    {
      "cell_type": "markdown",
      "metadata": {
        "id": "oqXwQq8NSTAD"
      },
      "source": [
        "![](machine-learning-polynomial-regression.png)"
      ]
    },
    {
      "cell_type": "markdown",
      "metadata": {
        "id": "kl2VJxrTSTAE"
      },
      "source": [
        "![](eq.png)"
      ]
    },
    {
      "cell_type": "code",
      "metadata": {
        "id": "g7AEbt96STAG"
      },
      "source": [
        "# One Independent and one dependent in linear regression\n",
        "# more than one independent and one dependent in multiple regression\n",
        "# one independent followed by degree and one dependent in polynomial regression\n",
        "# Polynomial regression reduces the errors,\n",
        "# or it minimizes the errors compared to linear and multiple regression.\n",
        "\n",
        "# Import Libraries\n",
        "import numpy as np\n",
        "import matplotlib.pyplot as plt\n",
        "import pandas as pd\n",
        "\n",
        "# Importing the dataset\n",
        "# dataset = pd.read_csv('https://s3.us-west-2.amazonaws.com/public.gamelab.fun/dataset/position_salaries.csv')\n",
        "dataset = pd.read_csv ('position_salaries.csv')\n",
        "X = dataset.iloc[:, 1:2].values # level as a independent value\n",
        "y = dataset.iloc[:, 2].values # salary as dependent value"
      ],
      "execution_count": null,
      "outputs": []
    },
    {
      "cell_type": "code",
      "metadata": {
        "id": "brAVu1aBSTAK",
        "outputId": "e628820f-450c-4e7a-c13a-96b3b7514976"
      },
      "source": [
        "print (dataset)"
      ],
      "execution_count": null,
      "outputs": [
        {
          "output_type": "stream",
          "text": [
            "            Position  Level   Salary\n",
            "0   Business Analyst      1    45000\n",
            "1  Junior Consultant      2    50000\n",
            "2  Senior Consultant      3    60000\n",
            "3            Manager      4    80000\n",
            "4    Country Manager      5   110000\n",
            "5     Region Manager      6   150000\n",
            "6            Partner      7   200000\n",
            "7     Senior Partner      8   300000\n",
            "8            C-level      9   500000\n",
            "9                CEO     10  1000000\n"
          ],
          "name": "stdout"
        }
      ]
    },
    {
      "cell_type": "code",
      "metadata": {
        "id": "vP58MO2HSTAR",
        "outputId": "3e204b0c-c1c3-419b-e76a-77ffd796187f"
      },
      "source": [
        "print (X)\n",
        "print (y)"
      ],
      "execution_count": null,
      "outputs": [
        {
          "output_type": "stream",
          "text": [
            "[[ 1]\n",
            " [ 2]\n",
            " [ 3]\n",
            " [ 4]\n",
            " [ 5]\n",
            " [ 6]\n",
            " [ 7]\n",
            " [ 8]\n",
            " [ 9]\n",
            " [10]]\n",
            "[  45000   50000   60000   80000  110000  150000  200000  300000  500000\n",
            " 1000000]\n"
          ],
          "name": "stdout"
        }
      ]
    },
    {
      "cell_type": "code",
      "metadata": {
        "id": "-flCncgaSTAS",
        "outputId": "34e24884-07b9-4c63-854f-ee2e0564f6d4"
      },
      "source": [
        "# Splitting the dataset into the Training set and Test set\n",
        "from sklearn.model_selection import train_test_split \n",
        "X_train, X_test, y_train, y_test = train_test_split(X, y, test_size= 0.2, random_state=8)\n",
        "print (X_train)\n",
        "print (X_test)\n",
        "print (y_train)\n",
        "print (y_test)"
      ],
      "execution_count": null,
      "outputs": [
        {
          "output_type": "stream",
          "text": [
            "[[10]\n",
            " [ 1]\n",
            " [ 3]\n",
            " [ 6]\n",
            " [ 8]\n",
            " [ 2]\n",
            " [ 5]\n",
            " [ 4]]\n",
            "[[9]\n",
            " [7]]\n",
            "[1000000   45000   60000  150000  300000   50000  110000   80000]\n",
            "[500000 200000]\n"
          ],
          "name": "stdout"
        }
      ]
    },
    {
      "cell_type": "code",
      "metadata": {
        "id": "BJS-lZEHSTAX",
        "outputId": "6ba55524-f0be-4059-9901-113d3e8c668a"
      },
      "source": [
        "# Fitting Linear Regression to the dataset\n",
        "from sklearn.linear_model import LinearRegression\n",
        "lin_reg = LinearRegression()\n",
        "lin_reg.fit(X, y)\n",
        "\n",
        "# Visualizing the Linear Regression results\n",
        "def viz_linear():\n",
        "    plt.scatter(X, y, color='red')\n",
        "    plt.plot(X, lin_reg.predict(X), color='blue')\n",
        "    plt.title('(Linear Regression)')\n",
        "    plt.xlabel('Position level')\n",
        "    plt.ylabel('Salary')\n",
        "    plt.show()\n",
        "    return\n",
        "viz_linear()"
      ],
      "execution_count": null,
      "outputs": [
        {
          "output_type": "display_data",
          "data": {
            "image/png": "[encoded data removed]",
            "text/plain": [
              "<Figure size 432x288 with 1 Axes>"
            ]
          },
          "metadata": {
            "tags": [],
            "needs_background": "light"
          }
        }
      ]
    },
    {
      "cell_type": "markdown",
      "metadata": {
        "id": "YfFwOj8jSTAa"
      },
      "source": [
        "![](pr7.png)"
      ]
    },
    {
      "cell_type": "code",
      "metadata": {
        "id": "X0pbDOBWSTAb",
        "outputId": "52e009f8-0215-4963-cd2d-f48b3c9fd0d8"
      },
      "source": [
        "# Fitting Polynomial Regression to the dataset\n",
        "from sklearn.preprocessing import PolynomialFeatures \n",
        "#Use this class to define the polynomial of the independent variable\n",
        "\n",
        "poly_reg = PolynomialFeatures(degree=4) #defining the polynomial degree to the feature\n",
        "X_poly = poly_reg.fit_transform(X_train) \n",
        "# X contains the values of independent variable and it transform as per the polynomial\n",
        "# which contains the values of indepedent variables values folllowed by degree\n",
        "# Fitting the model followed by the independent varibale which supports the polynomial degree\n",
        "# we get the new independent values in terms of degree\n",
        "pol_reg = LinearRegression()\n",
        "pol_reg.fit(X_poly, y_train) \n",
        "# our model will be fit towards the polynomial based values of the independent variables\n",
        "\n",
        "# Visualizing the Polymonial Regression results\n",
        "def viz_polymonial():\n",
        "    plt.scatter(X_train, y_train, color='red')\n",
        "    plt.plot(X, pol_reg.predict(poly_reg.fit_transform(X)), color='blue')\n",
        "    plt.title('Truth or False (Polymonial Regression)')\n",
        "    plt.xlabel('Position level')\n",
        "    plt.ylabel('Salary')\n",
        "    plt.show()\n",
        "    return\n",
        "viz_polymonial()"
      ],
      "execution_count": null,
      "outputs": [
        {
          "output_type": "display_data",
          "data": {
            "image/png": "[encoded data removed]",
            "text/plain": [
              "<Figure size 432x288 with 1 Axes>"
            ]
          },
          "metadata": {
            "tags": [],
            "needs_background": "light"
          }
        }
      ]
    },
    {
      "cell_type": "code",
      "metadata": {
        "id": "Zlgm3c4FSTAd",
        "outputId": "bdfa604f-b2f7-4f44-91b3-ea6303e96684"
      },
      "source": [
        "print (X)\n",
        "print (X_poly)"
      ],
      "execution_count": null,
      "outputs": [
        {
          "output_type": "stream",
          "text": [
            "[[ 1]\n",
            " [ 2]\n",
            " [ 3]\n",
            " [ 4]\n",
            " [ 5]\n",
            " [ 6]\n",
            " [ 7]\n",
            " [ 8]\n",
            " [ 9]\n",
            " [10]]\n",
            "[[1.000e+00 1.000e+01 1.000e+02 1.000e+03 1.000e+04]\n",
            " [1.000e+00 1.000e+00 1.000e+00 1.000e+00 1.000e+00]\n",
            " [1.000e+00 3.000e+00 9.000e+00 2.700e+01 8.100e+01]\n",
            " [1.000e+00 6.000e+00 3.600e+01 2.160e+02 1.296e+03]\n",
            " [1.000e+00 8.000e+00 6.400e+01 5.120e+02 4.096e+03]\n",
            " [1.000e+00 2.000e+00 4.000e+00 8.000e+00 1.600e+01]\n",
            " [1.000e+00 5.000e+00 2.500e+01 1.250e+02 6.250e+02]\n",
            " [1.000e+00 4.000e+00 1.600e+01 6.400e+01 2.560e+02]]\n"
          ],
          "name": "stdout"
        }
      ]
    },
    {
      "cell_type": "code",
      "metadata": {
        "id": "xPdyh30USTAh",
        "outputId": "e939887e-94fe-4b17-9048-7bc33b056a98"
      },
      "source": [
        "# Predicting a new result with Linear Regression\n",
        "#y_pred = lin_reg.predict(X_test) # Testing data set\n",
        "lin_reg.predict([[8]]) \n",
        "# we will get the big difference between our predicted salary because of huge amount of errors"
      ],
      "execution_count": null,
      "outputs": [
        {
          "output_type": "execute_result",
          "data": {
            "text/plain": [
              "array([451696.96969697])"
            ]
          },
          "metadata": {
            "tags": []
          },
          "execution_count": 8
        }
      ]
    },
    {
      "cell_type": "code",
      "metadata": {
        "id": "1mt9o8LGSTAk",
        "outputId": "249265cd-f0e5-482d-cbf0-f3bc344e7303"
      },
      "source": [
        "accuracy = lin_reg.score(X_test,y_test)\n",
        "print(accuracy*100,'%')"
      ],
      "execution_count": null,
      "outputs": [
        {
          "output_type": "stream",
          "text": [
            "32.799930619324556 %\n"
          ],
          "name": "stdout"
        }
      ]
    },
    {
      "cell_type": "code",
      "metadata": {
        "id": "HZdAMhPpSTAm",
        "outputId": "dabe017f-74eb-4a13-d218-336d58cd04fe"
      },
      "source": [
        "# Predicting a new result with Polymonial Regression\n",
        "pol_reg.predict(poly_reg.fit_transform([[8]]))\n",
        "\n",
        "#  Now we are getting the salary of the employee at level 5.5 which is close to 5 level\n",
        "# This is the reason we are using polynomial regression  "
      ],
      "execution_count": null,
      "outputs": [
        {
          "output_type": "execute_result",
          "data": {
            "text/plain": [
              "array([305783.51262385])"
            ]
          },
          "metadata": {
            "tags": []
          },
          "execution_count": 10
        }
      ]
    },
    {
      "cell_type": "code",
      "metadata": {
        "id": "NniAuPrUSTAn"
      },
      "source": [
        ""
      ],
      "execution_count": null,
      "outputs": []
    }
  ]
}
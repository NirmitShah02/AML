{
  "nbformat": 4,
  "nbformat_minor": 0,
  "metadata": {
    "kernelspec": {
      "display_name": "Python 3",
      "language": "python",
      "name": "python3"
    },
    "language_info": {
      "codemirror_mode": {
        "name": "ipython",
        "version": 3
      },
      "file_extension": ".py",
      "mimetype": "text/x-python",
      "name": "python",
      "nbconvert_exporter": "python",
      "pygments_lexer": "ipython3",
      "version": "3.8.3"
    },
    "colab": {
      "name": "Copy of VSK_DecisionTree_Regression (Salary Predict).ipynb",
      "provenance": []
    }
  },
  "cells": [
    {
      "cell_type": "markdown",
      "metadata": {
        "id": "iwY3l1dBSU-5"
      },
      "source": [
        "# Implement Decision Tree for Regression \n",
        "# Problem: To predict the salary of an employee based on years of exp. \n"
      ]
    },
    {
      "cell_type": "markdown",
      "metadata": {
        "id": "JKK-TkpBSU_D"
      },
      "source": [
        "## Let us see program flow"
      ]
    },
    {
      "cell_type": "markdown",
      "metadata": {
        "id": "bJ9T1o-qSU_E"
      },
      "source": [
        "![](DT_regression.jpg)"
      ]
    },
    {
      "cell_type": "code",
      "metadata": {
        "id": "89Ll8wg-SU_E",
        "outputId": "a904b167-1c4e-46aa-e98c-b09e48912ae1"
      },
      "source": [
        "# Step 1 Load Data\n",
        "import pandas as pd #Used to data in dataframe\n",
        "dataset = pd.read_csv('Salary_Data.csv')\n",
        "dataset.columns # we are printing number of columns / features"
      ],
      "execution_count": null,
      "outputs": [
        {
          "output_type": "execute_result",
          "data": {
            "text/plain": [
              "Index(['YearsExperience', 'Salary'], dtype='object')"
            ]
          },
          "metadata": {
            "tags": []
          },
          "execution_count": 1
        }
      ]
    },
    {
      "cell_type": "code",
      "metadata": {
        "id": "yoqCQ2erSU_G",
        "outputId": "fe6836f6-2911-49a2-e96f-2e579bfe3b39"
      },
      "source": [
        "X = dataset.iloc[:, [0]].values #YearsExperience Column (Independent variable)\n",
        "y = dataset.iloc[:,[1]].values #Salary column (Dependent Variable)\n",
        "print(dataset)"
      ],
      "execution_count": null,
      "outputs": [
        {
          "output_type": "stream",
          "text": [
            "    YearsExperience  Salary\n",
            "0                 1   25000\n",
            "1                 2   30000\n",
            "2                 3   32000\n",
            "3                 4   35000\n",
            "4                 5   38000\n",
            "5                 6   40000\n",
            "6                 7   42000\n",
            "7                 8   45000\n",
            "8                 9   47000\n",
            "9                10   50000\n",
            "10               11   60000\n",
            "11               12   75000\n",
            "12               13   80000\n",
            "13               14   85000\n",
            "14               15   90000\n",
            "15               16  100000\n",
            "16               17  120000\n",
            "17               18  130000\n",
            "18               19  140000\n",
            "19               20  150000\n"
          ],
          "name": "stdout"
        }
      ]
    },
    {
      "cell_type": "code",
      "metadata": {
        "id": "EGmDRcQySU_I"
      },
      "source": [
        "# Step 2: We are getting the training data and testing data\n",
        "# Import library for splitting the dataset into train and test.\n",
        "from sklearn.model_selection import train_test_split\n",
        "\n",
        "#Using the train_test_split to create train and test sets.\n",
        "X_train, X_test, y_train, y_test = train_test_split(X, y, random_state = 50, test_size = 0.20)"
      ],
      "execution_count": null,
      "outputs": []
    },
    {
      "cell_type": "code",
      "metadata": {
        "id": "l2FN4jTsSU_K",
        "outputId": "84317efc-43f8-44f3-e91a-43d9eafa8614"
      },
      "source": [
        "print(X_train)"
      ],
      "execution_count": null,
      "outputs": [
        {
          "output_type": "stream",
          "text": [
            "[[ 4]\n",
            " [20]\n",
            " [ 8]\n",
            " [ 3]\n",
            " [18]\n",
            " [11]\n",
            " [13]\n",
            " [ 6]\n",
            " [ 7]\n",
            " [ 5]\n",
            " [15]\n",
            " [ 2]\n",
            " [14]\n",
            " [12]\n",
            " [ 1]\n",
            " [17]]\n"
          ],
          "name": "stdout"
        }
      ]
    },
    {
      "cell_type": "code",
      "metadata": {
        "id": "7edymwo_SU_K",
        "outputId": "c9dbc9da-b930-4cac-8e3b-4da7a75f544a"
      },
      "source": [
        "print (X_test)"
      ],
      "execution_count": null,
      "outputs": [
        {
          "output_type": "stream",
          "text": [
            "[[16]\n",
            " [ 9]\n",
            " [10]\n",
            " [19]]\n"
          ],
          "name": "stdout"
        }
      ]
    },
    {
      "cell_type": "code",
      "metadata": {
        "id": "7N9eiwoFSU_L",
        "outputId": "6fc0bca3-c271-47ed-ce83-699503041740"
      },
      "source": [
        "print (y_train)"
      ],
      "execution_count": null,
      "outputs": [
        {
          "output_type": "stream",
          "text": [
            "[[ 35000]\n",
            " [150000]\n",
            " [ 45000]\n",
            " [ 32000]\n",
            " [130000]\n",
            " [ 60000]\n",
            " [ 80000]\n",
            " [ 40000]\n",
            " [ 42000]\n",
            " [ 38000]\n",
            " [ 90000]\n",
            " [ 30000]\n",
            " [ 85000]\n",
            " [ 75000]\n",
            " [ 25000]\n",
            " [120000]]\n"
          ],
          "name": "stdout"
        }
      ]
    },
    {
      "cell_type": "code",
      "metadata": {
        "scrolled": true,
        "id": "lz29wZvLSU_N",
        "outputId": "3fae2670-8b73-47cc-e4e5-e13b5c9b13cf"
      },
      "source": [
        "print (y_test)"
      ],
      "execution_count": null,
      "outputs": [
        {
          "output_type": "stream",
          "text": [
            "[[100000]\n",
            " [ 47000]\n",
            " [ 50000]\n",
            " [140000]]\n"
          ],
          "name": "stdout"
        }
      ]
    },
    {
      "cell_type": "code",
      "metadata": {
        "id": "3H2C2rOASU_O",
        "outputId": "99628c76-8f95-45f8-d8f4-50920826a5cf"
      },
      "source": [
        "#Step 3: Building the model (Linear Regression, Polynomial Regression and Decision Tree with Regression)\n",
        "\n",
        "# We are builing the model for Linear Regression using Training data\n",
        "# Fit Simple Linear Regression to Training Data\n",
        "from sklearn.linear_model import LinearRegression\n",
        "regressor_lin = LinearRegression() # we are creating the object of linear regression\n",
        "\n",
        "#we are creating object of the linearregression class by dynamically.\n",
        "regressor_lin.fit(X_train, y_train) \n",
        "# we are fitting the model by training data\n",
        "\n",
        "\n",
        "# We are also building the model by polynomial regression\n",
        "# Fitting Polynomial Regression to the dataset\n",
        "from sklearn.preprocessing import PolynomialFeatures \n",
        "#Use this class to define the polynomial of the independent variable\n",
        "\n",
        "poly_reg = PolynomialFeatures(degree=4) #defining the polynomial degree to the feature\n",
        "X_poly = poly_reg.fit_transform(X_train) \n",
        "# X contains the values of independent variable and it transform as per the polynomial\n",
        "# which contains the values of indepedent variables values folllowed by degree\n",
        "# Fitting the model followed by the independent varibale which supports the polynomial degree\n",
        "# we get the new independent values in terms of degree\n",
        "pol_reg = LinearRegression()\n",
        "pol_reg.fit(X_poly, y_train) \n",
        "# our model will be fit towards the polynomial based values of the independent variables"
      ],
      "execution_count": null,
      "outputs": [
        {
          "output_type": "execute_result",
          "data": {
            "text/plain": [
              "LinearRegression()"
            ]
          },
          "metadata": {
            "tags": []
          },
          "execution_count": 8
        }
      ]
    },
    {
      "cell_type": "code",
      "metadata": {
        "id": "g24Eb6fZSU_Q",
        "outputId": "0835a593-c90c-4319-e860-dfad5b1aed9e"
      },
      "source": [
        "# We are also building the model by decision tree for regression\n",
        "# import the regressor for decision tree\n",
        "from sklearn.tree import DecisionTreeRegressor  \n",
        "  \n",
        "# create a regressor object of decision tree\n",
        "regressor_dt = DecisionTreeRegressor(random_state = 0)  \n",
        "\n",
        "# We are building the model as per training dataset\n",
        "# fit the regressor with X_train and Y_train data \n",
        "regressor_dt.fit(X_train, y_train) "
      ],
      "execution_count": null,
      "outputs": [
        {
          "output_type": "execute_result",
          "data": {
            "text/plain": [
              "DecisionTreeRegressor(random_state=0)"
            ]
          },
          "metadata": {
            "tags": []
          },
          "execution_count": 9
        }
      ]
    },
    {
      "cell_type": "code",
      "metadata": {
        "id": "t_Vz4oSQSU_S",
        "outputId": "1edd5bca-96f4-4465-bcf5-826d2879e5ff"
      },
      "source": [
        "print (regressor_lin)\n",
        "print (regressor_dt)\n",
        "print (poly_reg)"
      ],
      "execution_count": null,
      "outputs": [
        {
          "output_type": "stream",
          "text": [
            "LinearRegression()\n",
            "DecisionTreeRegressor(random_state=0)\n",
            "PolynomialFeatures(degree=4)\n"
          ],
          "name": "stdout"
        }
      ]
    },
    {
      "cell_type": "code",
      "metadata": {
        "id": "cbrirZOqSU_T"
      },
      "source": [
        "# Step 4: Predict the model by testing data\n",
        "# predict the model for linear regression\n",
        "y_pred_lin = regressor_lin.predict(X_test)\n",
        "\n",
        "y_pred_poly = pol_reg.predict(poly_reg.fit_transform(X_test))\n",
        "\n",
        "#prediction\n",
        "y_pred_dt = regressor_dt.predict(X_test) \n",
        "#Prediting the model by testing data"
      ],
      "execution_count": null,
      "outputs": []
    },
    {
      "cell_type": "code",
      "metadata": {
        "id": "cTQX0S5PSU_V",
        "outputId": "5f7c5ceb-2567-4feb-94c2-92b37a789dfc"
      },
      "source": [
        "print (\"Testing data of exp. year\", X_test)\n",
        "print (\"Prediction of testing data by linear regression:\", y_pred_lin)\n",
        "print (\"Prediction of testing data by Polynomial regression:\", y_pred_poly)\n",
        "print (\"Prediction of testing data by decision tree for regression:\", y_pred_dt)"
      ],
      "execution_count": null,
      "outputs": [
        {
          "output_type": "stream",
          "text": [
            "Testing data of exp. year [[16]\n",
            " [ 9]\n",
            " [10]\n",
            " [19]]\n",
            "Prediction of testing data by linear regression: [[106153.81125227]\n",
            " [ 62651.54264973]\n",
            " [ 68866.15245009]\n",
            " [124797.64065336]]\n",
            "Prediction of testing data by Polynomial regression: [[106718.50065184]\n",
            " [ 50780.0830551 ]\n",
            " [ 56012.5561424 ]\n",
            " [139893.95687341]]\n",
            "Prediction of testing data by decision tree for regression: [ 90000.  45000.  60000. 130000.]\n"
          ],
          "name": "stdout"
        }
      ]
    },
    {
      "cell_type": "code",
      "metadata": {
        "id": "OUbUIpmaSU_W",
        "outputId": "d8004908-dcb9-4157-a6e7-fd1a8f8767f6"
      },
      "source": [
        "# Step: 5 predicting a new value \n",
        "y_pred_lin = regressor_lin.predict([[3.7]])\n",
        "\n",
        "y_pred_poly = pol_reg.predict(poly_reg.fit_transform([[3.7]]))\n",
        "\n",
        "y_pred_dt = regressor_dt.predict([[3.7]])\n",
        "  \n",
        "# print the predicted price \n",
        "print(\"Predicted salary by Linear Regression: % d\\n\"% y_pred_lin)\n",
        "print(\"Predicted salary by Polynomial Regression: % d\\n\"% y_pred_poly)\n",
        "print(\"Predicted salary: by Decision Tree % d\\n:\"% y_pred_dt)\n",
        "\n",
        "# Decision tree provide the better result from the dataset in terms of good accuracy and exact value"
      ],
      "execution_count": null,
      "outputs": [
        {
          "output_type": "stream",
          "text": [
            "Predicted salary by Linear Regression:  29714\n",
            "\n",
            "Predicted salary by Polynomial Regression:  34096\n",
            "\n",
            "Predicted salary: by Decision Tree  35000\n",
            ":\n"
          ],
          "name": "stdout"
        }
      ]
    },
    {
      "cell_type": "code",
      "metadata": {
        "id": "vSMgKmi2SU_Y",
        "outputId": "9d50f1e1-c028-408c-ded7-c21542b005da"
      },
      "source": [
        "# Step 6: Model Evaluation\n",
        "from sklearn.metrics import accuracy_score\n",
        "accuracy_lin = regressor_lin.score(X_test,y_test)\n",
        "accuracy_dt = regressor_dt.score(X_test,y_test)\n",
        "\n",
        "print (\"Accuracy of Linear Regression Model in %:\",accuracy_lin*100)\n",
        "print(\"Accuracy of Decision Tree for Regression Model in %:\",accuracy_dt*100)"
      ],
      "execution_count": null,
      "outputs": [
        {
          "output_type": "stream",
          "text": [
            "Accuracy of Linear Regression Model in %: 85.2979487350436\n",
            "Accuracy of Decision Tree for Regression Model in %: 94.86204419656062\n"
          ],
          "name": "stdout"
        }
      ]
    },
    {
      "cell_type": "code",
      "metadata": {
        "id": "knlg1M_DSU_Y",
        "outputId": "8d7efa43-5523-468f-9bc5-3934aa74c3c2"
      },
      "source": [
        "# How my decision tree look like?\n",
        "\n",
        "# We are fitting the model as per X and Y values for representing decision tree in graphical way\n",
        "#Because it was fit by training data set\n",
        "# We should take all values to print decision tree\n",
        "\n",
        "# fit the model with X and Y data \n",
        "regressor_dt.fit(X_test, y_test) "
      ],
      "execution_count": null,
      "outputs": [
        {
          "output_type": "execute_result",
          "data": {
            "text/plain": [
              "DecisionTreeRegressor(random_state=0)"
            ]
          },
          "metadata": {
            "tags": []
          },
          "execution_count": 15
        }
      ]
    },
    {
      "cell_type": "code",
      "metadata": {
        "id": "Qb6oRYOaSU_Z"
      },
      "source": [
        "# import export_graphviz \n",
        "from sklearn.tree import export_graphviz  \n",
        "  \n",
        "# export the decision tree data values to a ML.dot file \n",
        "# which contains the all the values in textual form \n",
        "# because of visualizing the plot easily anywhere \n",
        "export_graphviz(regressor_dt, out_file ='ML.dot', feature_names =['Salary'])"
      ],
      "execution_count": null,
      "outputs": []
    },
    {
      "cell_type": "code",
      "metadata": {
        "id": "rdEFwJkmSU_g",
        "outputId": "4ebfa1ba-87e3-436c-8b6a-840a5b2c4041"
      },
      "source": [
        "print (X_test)\n",
        "print (y_test)\n",
        "\n",
        "from sklearn import tree\n",
        "import matplotlib.pyplot as plt\n",
        "plt.figure(figsize=(6,6))\n",
        "tree.plot_tree(regressor_dt, fontsize=12)\n",
        "plt.show()"
      ],
      "execution_count": null,
      "outputs": [
        {
          "output_type": "stream",
          "text": [
            "[[16]\n",
            " [ 9]\n",
            " [10]\n",
            " [19]]\n",
            "[[100000]\n",
            " [ 47000]\n",
            " [ 50000]\n",
            " [140000]]\n"
          ],
          "name": "stdout"
        },
        {
          "output_type": "display_data",
          "data": {
            "image/png": "[encoded data removed]",
            "text/plain": [
              "<Figure size 432x432 with 1 Axes>"
            ]
          },
          "metadata": {
            "tags": [],
            "needs_background": "light"
          }
        }
      ]
    },
    {
      "cell_type": "code",
      "metadata": {
        "id": "Dta9lYSmSU_k",
        "outputId": "b4c2d032-796b-4c4a-eb85-cd5ddc56fb24"
      },
      "source": [
        "#We are measuring the impurities of each node\n",
        "regressor_dt.tree_.impurity"
      ],
      "execution_count": null,
      "outputs": [
        {
          "output_type": "execute_result",
          "data": {
            "text/plain": [
              "array([1.4791875e+09, 2.2500000e+06, 0.0000000e+00, 0.0000000e+00,\n",
              "       4.0000000e+08, 0.0000000e+00, 0.0000000e+00])"
            ]
          },
          "metadata": {
            "tags": []
          },
          "execution_count": 18
        }
      ]
    },
    {
      "cell_type": "code",
      "metadata": {
        "id": "3hcy0SqUSU_r"
      },
      "source": [
        ""
      ],
      "execution_count": null,
      "outputs": []
    }
  ]
}